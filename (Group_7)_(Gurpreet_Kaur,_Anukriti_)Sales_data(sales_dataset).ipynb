{
  "nbformat": 4,
  "nbformat_minor": 0,
  "metadata": {
    "colab": {
      "name": "(Group_7)_(Gurpreet_Kaur,_Anukriti_)Sales_data(sales dataset).ipynb",
      "provenance": [],
      "collapsed_sections": [],
      "toc_visible": true
    },
    "kernelspec": {
      "name": "python3",
      "display_name": "Python 3"
    },
    "language_info": {
      "name": "python"
    }
  },
  "cells": [
    {
      "cell_type": "markdown",
      "source": [
        "# Importing Libraries"
      ],
      "metadata": {
        "id": "PG_rC58FuB1h"
      }
    },
    {
      "cell_type": "code",
      "execution_count": 208,
      "metadata": {
        "id": "0WdX80g4s8iq"
      },
      "outputs": [],
      "source": [
        "import pandas as pd                # for analys part and manuplation\n",
        "import matplotlib.pyplot as plt    # used to create plots\n",
        "import seaborn as sns              # for data visualization and exploratory \n",
        "import numpy as np                 # to perform mathematical operation\n"
      ]
    },
    {
      "cell_type": "markdown",
      "source": [
        "# Importing the data"
      ],
      "metadata": {
        "id": "dik9WJhpuJOc"
      }
    },
    {
      "cell_type": "code",
      "source": [
        "df = pd.read_csv('sales_data.csv')"
      ],
      "metadata": {
        "id": "OBYsqIrOtDm1"
      },
      "execution_count": 209,
      "outputs": []
    },
    {
      "cell_type": "markdown",
      "source": [
        "# Checking the shape (Total number of records & attributes in the dataset)"
      ],
      "metadata": {
        "id": "jEksW_CnuNG9"
      }
    },
    {
      "cell_type": "code",
      "source": [
        "df.shape"
      ],
      "metadata": {
        "colab": {
          "base_uri": "https://localhost:8080/",
          "height": 0
        },
        "id": "epIDvnZZtbPG",
        "outputId": "7e16881e-2d54-420a-f8d3-46b76f91e00e"
      },
      "execution_count": 109,
      "outputs": [
        {
          "output_type": "execute_result",
          "data": {
            "text/plain": [
              "(40000, 15)"
            ]
          },
          "metadata": {},
          "execution_count": 109
        }
      ]
    },
    {
      "cell_type": "markdown",
      "source": [
        "In this dataset there are 40000 records and 15 attributes."
      ],
      "metadata": {
        "id": "raKD9vnRFWwr"
      }
    },
    {
      "cell_type": "markdown",
      "source": [
        "# Duplication of values in the dataset"
      ],
      "metadata": {
        "id": "YVOHaf585i7K"
      }
    },
    {
      "cell_type": "code",
      "source": [
        "df.duplicated().sum()"
      ],
      "metadata": {
        "colab": {
          "base_uri": "https://localhost:8080/",
          "height": 0
        },
        "id": "FW_ZQXyp55V2",
        "outputId": "56cccf06-0529-4945-a5de-c1bf3cdf7f4a"
      },
      "execution_count": 110,
      "outputs": [
        {
          "output_type": "execute_result",
          "data": {
            "text/plain": [
              "55"
            ]
          },
          "metadata": {},
          "execution_count": 110
        }
      ]
    },
    {
      "cell_type": "markdown",
      "source": [
        "There are 55 duplicate values in this dataset."
      ],
      "metadata": {
        "id": "chlwV-gWFowH"
      }
    },
    {
      "cell_type": "markdown",
      "source": [
        "# Drop Duplicate Values from the dataset"
      ],
      "metadata": {
        "id": "JNJcRZQPAzpN"
      }
    },
    {
      "cell_type": "code",
      "source": [
        "df=df.drop_duplicates()"
      ],
      "metadata": {
        "id": "xvyDqTjl57-u"
      },
      "execution_count": 111,
      "outputs": []
    },
    {
      "cell_type": "markdown",
      "source": [
        "# Recheck Duplicate Values"
      ],
      "metadata": {
        "id": "eLQUDGYcA8sc"
      }
    },
    {
      "cell_type": "code",
      "source": [
        "df.duplicated().sum()"
      ],
      "metadata": {
        "colab": {
          "base_uri": "https://localhost:8080/",
          "height": 0
        },
        "id": "hF20awPs6N01",
        "outputId": "70db8cad-8ad4-4af5-c9b5-4181b114ea5f"
      },
      "execution_count": 112,
      "outputs": [
        {
          "output_type": "execute_result",
          "data": {
            "text/plain": [
              "0"
            ]
          },
          "metadata": {},
          "execution_count": 112
        }
      ]
    },
    {
      "cell_type": "markdown",
      "source": [
        "After using the command to drop duplicates values. Now the sum of duplicates values is 0."
      ],
      "metadata": {
        "id": "Xq-u1VK6F6Ek"
      }
    },
    {
      "cell_type": "markdown",
      "source": [
        "# Check Null values in the Dataset"
      ],
      "metadata": {
        "id": "6chhBdli6o_q"
      }
    },
    {
      "cell_type": "code",
      "source": [
        "df.isnull().sum().sum()"
      ],
      "metadata": {
        "colab": {
          "base_uri": "https://localhost:8080/",
          "height": 0
        },
        "id": "uO9ZIrIA6oQp",
        "outputId": "698b75c4-7f8d-4622-c431-a38c3f09275b"
      },
      "execution_count": 113,
      "outputs": [
        {
          "output_type": "execute_result",
          "data": {
            "text/plain": [
              "18106"
            ]
          },
          "metadata": {},
          "execution_count": 113
        }
      ]
    },
    {
      "cell_type": "markdown",
      "source": [
        "In this dataset there are 18106 null values."
      ],
      "metadata": {
        "id": "d1zxr3SRHwg-"
      }
    },
    {
      "cell_type": "code",
      "source": [
        " df['marriage'].fillna(0,inplace=True)\n",
        " df['house_owner'].fillna(0,inplace=True)"
      ],
      "metadata": {
        "id": "F16HPXWFudD3"
      },
      "execution_count": 114,
      "outputs": []
    },
    {
      "cell_type": "markdown",
      "source": [
        "Here all dulplicate values are filled by 0."
      ],
      "metadata": {
        "id": "-4aVTkB8H4lK"
      }
    },
    {
      "cell_type": "code",
      "source": [
        "df.head(5)"
      ],
      "metadata": {
        "colab": {
          "base_uri": "https://localhost:8080/",
          "height": 322
        },
        "id": "-tQZ8ZlFUDL2",
        "outputId": "92224629-ba01-4e9b-d26c-59acb41e1914"
      },
      "execution_count": 115,
      "outputs": [
        {
          "output_type": "execute_result",
          "data": {
            "text/plain": [
              "  flag gender        education  house_val     age online customer_psy  \\\n",
              "0    Y      M          4. Grad     756460   1_Unk      N            B   \n",
              "1    N      F          3. Bach     213171   7_>65      N            E   \n",
              "2    N      M  2. Some College     111147  2_<=25      Y            C   \n",
              "3    Y      M  2. Some College     354151  2_<=25      Y            B   \n",
              "4    Y      F  2. Some College     117087   1_Unk      Y            J   \n",
              "\n",
              "  marriage child     occupation mortgage house_owner     region  car_prob  \\\n",
              "0        0     U   Professional     1Low           0    Midwest         1   \n",
              "1        0     U   Professional     1Low       Owner  Northeast         3   \n",
              "2        0     Y   Professional     1Low       Owner    Midwest         1   \n",
              "3   Single     U  Sales/Service     1Low           0       West         2   \n",
              "4  Married     Y  Sales/Service     1Low           0      South         7   \n",
              "\n",
              "  fam_income  \n",
              "0          L  \n",
              "1          G  \n",
              "2          J  \n",
              "3          L  \n",
              "4          H  "
            ],
            "text/html": [
              "\n",
              "  <div id=\"df-b1e34387-5717-44e2-9b2f-199a79f8ed4e\">\n",
              "    <div class=\"colab-df-container\">\n",
              "      <div>\n",
              "<style scoped>\n",
              "    .dataframe tbody tr th:only-of-type {\n",
              "        vertical-align: middle;\n",
              "    }\n",
              "\n",
              "    .dataframe tbody tr th {\n",
              "        vertical-align: top;\n",
              "    }\n",
              "\n",
              "    .dataframe thead th {\n",
              "        text-align: right;\n",
              "    }\n",
              "</style>\n",
              "<table border=\"1\" class=\"dataframe\">\n",
              "  <thead>\n",
              "    <tr style=\"text-align: right;\">\n",
              "      <th></th>\n",
              "      <th>flag</th>\n",
              "      <th>gender</th>\n",
              "      <th>education</th>\n",
              "      <th>house_val</th>\n",
              "      <th>age</th>\n",
              "      <th>online</th>\n",
              "      <th>customer_psy</th>\n",
              "      <th>marriage</th>\n",
              "      <th>child</th>\n",
              "      <th>occupation</th>\n",
              "      <th>mortgage</th>\n",
              "      <th>house_owner</th>\n",
              "      <th>region</th>\n",
              "      <th>car_prob</th>\n",
              "      <th>fam_income</th>\n",
              "    </tr>\n",
              "  </thead>\n",
              "  <tbody>\n",
              "    <tr>\n",
              "      <th>0</th>\n",
              "      <td>Y</td>\n",
              "      <td>M</td>\n",
              "      <td>4. Grad</td>\n",
              "      <td>756460</td>\n",
              "      <td>1_Unk</td>\n",
              "      <td>N</td>\n",
              "      <td>B</td>\n",
              "      <td>0</td>\n",
              "      <td>U</td>\n",
              "      <td>Professional</td>\n",
              "      <td>1Low</td>\n",
              "      <td>0</td>\n",
              "      <td>Midwest</td>\n",
              "      <td>1</td>\n",
              "      <td>L</td>\n",
              "    </tr>\n",
              "    <tr>\n",
              "      <th>1</th>\n",
              "      <td>N</td>\n",
              "      <td>F</td>\n",
              "      <td>3. Bach</td>\n",
              "      <td>213171</td>\n",
              "      <td>7_&gt;65</td>\n",
              "      <td>N</td>\n",
              "      <td>E</td>\n",
              "      <td>0</td>\n",
              "      <td>U</td>\n",
              "      <td>Professional</td>\n",
              "      <td>1Low</td>\n",
              "      <td>Owner</td>\n",
              "      <td>Northeast</td>\n",
              "      <td>3</td>\n",
              "      <td>G</td>\n",
              "    </tr>\n",
              "    <tr>\n",
              "      <th>2</th>\n",
              "      <td>N</td>\n",
              "      <td>M</td>\n",
              "      <td>2. Some College</td>\n",
              "      <td>111147</td>\n",
              "      <td>2_&lt;=25</td>\n",
              "      <td>Y</td>\n",
              "      <td>C</td>\n",
              "      <td>0</td>\n",
              "      <td>Y</td>\n",
              "      <td>Professional</td>\n",
              "      <td>1Low</td>\n",
              "      <td>Owner</td>\n",
              "      <td>Midwest</td>\n",
              "      <td>1</td>\n",
              "      <td>J</td>\n",
              "    </tr>\n",
              "    <tr>\n",
              "      <th>3</th>\n",
              "      <td>Y</td>\n",
              "      <td>M</td>\n",
              "      <td>2. Some College</td>\n",
              "      <td>354151</td>\n",
              "      <td>2_&lt;=25</td>\n",
              "      <td>Y</td>\n",
              "      <td>B</td>\n",
              "      <td>Single</td>\n",
              "      <td>U</td>\n",
              "      <td>Sales/Service</td>\n",
              "      <td>1Low</td>\n",
              "      <td>0</td>\n",
              "      <td>West</td>\n",
              "      <td>2</td>\n",
              "      <td>L</td>\n",
              "    </tr>\n",
              "    <tr>\n",
              "      <th>4</th>\n",
              "      <td>Y</td>\n",
              "      <td>F</td>\n",
              "      <td>2. Some College</td>\n",
              "      <td>117087</td>\n",
              "      <td>1_Unk</td>\n",
              "      <td>Y</td>\n",
              "      <td>J</td>\n",
              "      <td>Married</td>\n",
              "      <td>Y</td>\n",
              "      <td>Sales/Service</td>\n",
              "      <td>1Low</td>\n",
              "      <td>0</td>\n",
              "      <td>South</td>\n",
              "      <td>7</td>\n",
              "      <td>H</td>\n",
              "    </tr>\n",
              "  </tbody>\n",
              "</table>\n",
              "</div>\n",
              "      <button class=\"colab-df-convert\" onclick=\"convertToInteractive('df-b1e34387-5717-44e2-9b2f-199a79f8ed4e')\"\n",
              "              title=\"Convert this dataframe to an interactive table.\"\n",
              "              style=\"display:none;\">\n",
              "        \n",
              "  <svg xmlns=\"http://www.w3.org/2000/svg\" height=\"24px\"viewBox=\"0 0 24 24\"\n",
              "       width=\"24px\">\n",
              "    <path d=\"M0 0h24v24H0V0z\" fill=\"none\"/>\n",
              "    <path d=\"M18.56 5.44l.94 2.06.94-2.06 2.06-.94-2.06-.94-.94-2.06-.94 2.06-2.06.94zm-11 1L8.5 8.5l.94-2.06 2.06-.94-2.06-.94L8.5 2.5l-.94 2.06-2.06.94zm10 10l.94 2.06.94-2.06 2.06-.94-2.06-.94-.94-2.06-.94 2.06-2.06.94z\"/><path d=\"M17.41 7.96l-1.37-1.37c-.4-.4-.92-.59-1.43-.59-.52 0-1.04.2-1.43.59L10.3 9.45l-7.72 7.72c-.78.78-.78 2.05 0 2.83L4 21.41c.39.39.9.59 1.41.59.51 0 1.02-.2 1.41-.59l7.78-7.78 2.81-2.81c.8-.78.8-2.07 0-2.86zM5.41 20L4 18.59l7.72-7.72 1.47 1.35L5.41 20z\"/>\n",
              "  </svg>\n",
              "      </button>\n",
              "      \n",
              "  <style>\n",
              "    .colab-df-container {\n",
              "      display:flex;\n",
              "      flex-wrap:wrap;\n",
              "      gap: 12px;\n",
              "    }\n",
              "\n",
              "    .colab-df-convert {\n",
              "      background-color: #E8F0FE;\n",
              "      border: none;\n",
              "      border-radius: 50%;\n",
              "      cursor: pointer;\n",
              "      display: none;\n",
              "      fill: #1967D2;\n",
              "      height: 32px;\n",
              "      padding: 0 0 0 0;\n",
              "      width: 32px;\n",
              "    }\n",
              "\n",
              "    .colab-df-convert:hover {\n",
              "      background-color: #E2EBFA;\n",
              "      box-shadow: 0px 1px 2px rgba(60, 64, 67, 0.3), 0px 1px 3px 1px rgba(60, 64, 67, 0.15);\n",
              "      fill: #174EA6;\n",
              "    }\n",
              "\n",
              "    [theme=dark] .colab-df-convert {\n",
              "      background-color: #3B4455;\n",
              "      fill: #D2E3FC;\n",
              "    }\n",
              "\n",
              "    [theme=dark] .colab-df-convert:hover {\n",
              "      background-color: #434B5C;\n",
              "      box-shadow: 0px 1px 3px 1px rgba(0, 0, 0, 0.15);\n",
              "      filter: drop-shadow(0px 1px 2px rgba(0, 0, 0, 0.3));\n",
              "      fill: #FFFFFF;\n",
              "    }\n",
              "  </style>\n",
              "\n",
              "      <script>\n",
              "        const buttonEl =\n",
              "          document.querySelector('#df-b1e34387-5717-44e2-9b2f-199a79f8ed4e button.colab-df-convert');\n",
              "        buttonEl.style.display =\n",
              "          google.colab.kernel.accessAllowed ? 'block' : 'none';\n",
              "\n",
              "        async function convertToInteractive(key) {\n",
              "          const element = document.querySelector('#df-b1e34387-5717-44e2-9b2f-199a79f8ed4e');\n",
              "          const dataTable =\n",
              "            await google.colab.kernel.invokeFunction('convertToInteractive',\n",
              "                                                     [key], {});\n",
              "          if (!dataTable) return;\n",
              "\n",
              "          const docLinkHtml = 'Like what you see? Visit the ' +\n",
              "            '<a target=\"_blank\" href=https://colab.research.google.com/notebooks/data_table.ipynb>data table notebook</a>'\n",
              "            + ' to learn more about interactive tables.';\n",
              "          element.innerHTML = '';\n",
              "          dataTable['output_type'] = 'display_data';\n",
              "          await google.colab.output.renderOutput(dataTable, element);\n",
              "          const docLink = document.createElement('div');\n",
              "          docLink.innerHTML = docLinkHtml;\n",
              "          element.appendChild(docLink);\n",
              "        }\n",
              "      </script>\n",
              "    </div>\n",
              "  </div>\n",
              "  "
            ]
          },
          "metadata": {},
          "execution_count": 115
        }
      ]
    },
    {
      "cell_type": "markdown",
      "source": [
        "Head command is used to see the top 5 records of dataset."
      ],
      "metadata": {
        "id": "zBnZHgXfIbyC"
      }
    },
    {
      "cell_type": "code",
      "source": [
        "#df.dropna(subset=['education'],inplace=True)"
      ],
      "metadata": {
        "id": "XGPKmenzvQLF"
      },
      "execution_count": 116,
      "outputs": []
    },
    {
      "cell_type": "code",
      "source": [
        "#df"
      ],
      "metadata": {
        "id": "33Ssgh4DgERI"
      },
      "execution_count": 117,
      "outputs": []
    },
    {
      "cell_type": "markdown",
      "source": [
        "#Sorting the null values in ascending Order"
      ],
      "metadata": {
        "id": "eam-rsvp68Ij"
      }
    },
    {
      "cell_type": "code",
      "source": [
        "df.isnull().sum().sort_values(ascending=True)"
      ],
      "metadata": {
        "colab": {
          "base_uri": "https://localhost:8080/",
          "height": 0
        },
        "id": "IV7mdD-n6zaQ",
        "outputId": "86d131f5-db04-427b-9df2-a339e42b672c"
      },
      "execution_count": 118,
      "outputs": [
        {
          "output_type": "execute_result",
          "data": {
            "text/plain": [
              "flag              0\n",
              "gender            0\n",
              "house_val         0\n",
              "age               0\n",
              "online            0\n",
              "customer_psy      0\n",
              "marriage          0\n",
              "child             0\n",
              "occupation        0\n",
              "mortgage          0\n",
              "house_owner       0\n",
              "region            0\n",
              "car_prob          0\n",
              "fam_income        0\n",
              "education       735\n",
              "dtype: int64"
            ]
          },
          "metadata": {},
          "execution_count": 118
        }
      ]
    },
    {
      "cell_type": "markdown",
      "source": [
        "# Call top 10 records from the dataset"
      ],
      "metadata": {
        "id": "fZaRyHChuT4p"
      }
    },
    {
      "cell_type": "code",
      "source": [
        "df.head(10)"
      ],
      "metadata": {
        "colab": {
          "base_uri": "https://localhost:8080/",
          "height": 479
        },
        "id": "kx6W-Ch8troW",
        "outputId": "73e733c1-458d-42e9-8b22-8b3b9b0d770a"
      },
      "execution_count": 119,
      "outputs": [
        {
          "output_type": "execute_result",
          "data": {
            "text/plain": [
              "  flag gender        education  house_val     age online customer_psy  \\\n",
              "0    Y      M          4. Grad     756460   1_Unk      N            B   \n",
              "1    N      F          3. Bach     213171   7_>65      N            E   \n",
              "2    N      M  2. Some College     111147  2_<=25      Y            C   \n",
              "3    Y      M  2. Some College     354151  2_<=25      Y            B   \n",
              "4    Y      F  2. Some College     117087   1_Unk      Y            J   \n",
              "5    Y      F          3. Bach     248694  6_<=65      Y            B   \n",
              "6    Y      M          3. Bach    2000000   1_Unk      Y            A   \n",
              "7    N      F          3. Bach     416925  5_<=55      Y            C   \n",
              "8    N      F            1. HS     207676  4_<=45      Y            G   \n",
              "9    Y      M            1. HS     241380   1_Unk      Y            C   \n",
              "\n",
              "  marriage child     occupation mortgage house_owner     region  car_prob  \\\n",
              "0        0     U   Professional     1Low           0    Midwest         1   \n",
              "1        0     U   Professional     1Low       Owner  Northeast         3   \n",
              "2        0     Y   Professional     1Low       Owner    Midwest         1   \n",
              "3   Single     U  Sales/Service     1Low           0       West         2   \n",
              "4  Married     Y  Sales/Service     1Low           0      South         7   \n",
              "5  Married     N   Professional     2Med       Owner       West         1   \n",
              "6  Married     U   Professional     1Low           0  Northeast         5   \n",
              "7  Married     Y   Professional     1Low       Owner      South         2   \n",
              "8        0     Y    Blue Collar     1Low      Renter       West         5   \n",
              "9  Married     U  Sales/Service     1Low           0  Northeast         6   \n",
              "\n",
              "  fam_income  \n",
              "0          L  \n",
              "1          G  \n",
              "2          J  \n",
              "3          L  \n",
              "4          H  \n",
              "5          G  \n",
              "6          C  \n",
              "7          I  \n",
              "8          D  \n",
              "9          G  "
            ],
            "text/html": [
              "\n",
              "  <div id=\"df-deeec9a0-379a-4b00-94c4-5fd3235cf6fd\">\n",
              "    <div class=\"colab-df-container\">\n",
              "      <div>\n",
              "<style scoped>\n",
              "    .dataframe tbody tr th:only-of-type {\n",
              "        vertical-align: middle;\n",
              "    }\n",
              "\n",
              "    .dataframe tbody tr th {\n",
              "        vertical-align: top;\n",
              "    }\n",
              "\n",
              "    .dataframe thead th {\n",
              "        text-align: right;\n",
              "    }\n",
              "</style>\n",
              "<table border=\"1\" class=\"dataframe\">\n",
              "  <thead>\n",
              "    <tr style=\"text-align: right;\">\n",
              "      <th></th>\n",
              "      <th>flag</th>\n",
              "      <th>gender</th>\n",
              "      <th>education</th>\n",
              "      <th>house_val</th>\n",
              "      <th>age</th>\n",
              "      <th>online</th>\n",
              "      <th>customer_psy</th>\n",
              "      <th>marriage</th>\n",
              "      <th>child</th>\n",
              "      <th>occupation</th>\n",
              "      <th>mortgage</th>\n",
              "      <th>house_owner</th>\n",
              "      <th>region</th>\n",
              "      <th>car_prob</th>\n",
              "      <th>fam_income</th>\n",
              "    </tr>\n",
              "  </thead>\n",
              "  <tbody>\n",
              "    <tr>\n",
              "      <th>0</th>\n",
              "      <td>Y</td>\n",
              "      <td>M</td>\n",
              "      <td>4. Grad</td>\n",
              "      <td>756460</td>\n",
              "      <td>1_Unk</td>\n",
              "      <td>N</td>\n",
              "      <td>B</td>\n",
              "      <td>0</td>\n",
              "      <td>U</td>\n",
              "      <td>Professional</td>\n",
              "      <td>1Low</td>\n",
              "      <td>0</td>\n",
              "      <td>Midwest</td>\n",
              "      <td>1</td>\n",
              "      <td>L</td>\n",
              "    </tr>\n",
              "    <tr>\n",
              "      <th>1</th>\n",
              "      <td>N</td>\n",
              "      <td>F</td>\n",
              "      <td>3. Bach</td>\n",
              "      <td>213171</td>\n",
              "      <td>7_&gt;65</td>\n",
              "      <td>N</td>\n",
              "      <td>E</td>\n",
              "      <td>0</td>\n",
              "      <td>U</td>\n",
              "      <td>Professional</td>\n",
              "      <td>1Low</td>\n",
              "      <td>Owner</td>\n",
              "      <td>Northeast</td>\n",
              "      <td>3</td>\n",
              "      <td>G</td>\n",
              "    </tr>\n",
              "    <tr>\n",
              "      <th>2</th>\n",
              "      <td>N</td>\n",
              "      <td>M</td>\n",
              "      <td>2. Some College</td>\n",
              "      <td>111147</td>\n",
              "      <td>2_&lt;=25</td>\n",
              "      <td>Y</td>\n",
              "      <td>C</td>\n",
              "      <td>0</td>\n",
              "      <td>Y</td>\n",
              "      <td>Professional</td>\n",
              "      <td>1Low</td>\n",
              "      <td>Owner</td>\n",
              "      <td>Midwest</td>\n",
              "      <td>1</td>\n",
              "      <td>J</td>\n",
              "    </tr>\n",
              "    <tr>\n",
              "      <th>3</th>\n",
              "      <td>Y</td>\n",
              "      <td>M</td>\n",
              "      <td>2. Some College</td>\n",
              "      <td>354151</td>\n",
              "      <td>2_&lt;=25</td>\n",
              "      <td>Y</td>\n",
              "      <td>B</td>\n",
              "      <td>Single</td>\n",
              "      <td>U</td>\n",
              "      <td>Sales/Service</td>\n",
              "      <td>1Low</td>\n",
              "      <td>0</td>\n",
              "      <td>West</td>\n",
              "      <td>2</td>\n",
              "      <td>L</td>\n",
              "    </tr>\n",
              "    <tr>\n",
              "      <th>4</th>\n",
              "      <td>Y</td>\n",
              "      <td>F</td>\n",
              "      <td>2. Some College</td>\n",
              "      <td>117087</td>\n",
              "      <td>1_Unk</td>\n",
              "      <td>Y</td>\n",
              "      <td>J</td>\n",
              "      <td>Married</td>\n",
              "      <td>Y</td>\n",
              "      <td>Sales/Service</td>\n",
              "      <td>1Low</td>\n",
              "      <td>0</td>\n",
              "      <td>South</td>\n",
              "      <td>7</td>\n",
              "      <td>H</td>\n",
              "    </tr>\n",
              "    <tr>\n",
              "      <th>5</th>\n",
              "      <td>Y</td>\n",
              "      <td>F</td>\n",
              "      <td>3. Bach</td>\n",
              "      <td>248694</td>\n",
              "      <td>6_&lt;=65</td>\n",
              "      <td>Y</td>\n",
              "      <td>B</td>\n",
              "      <td>Married</td>\n",
              "      <td>N</td>\n",
              "      <td>Professional</td>\n",
              "      <td>2Med</td>\n",
              "      <td>Owner</td>\n",
              "      <td>West</td>\n",
              "      <td>1</td>\n",
              "      <td>G</td>\n",
              "    </tr>\n",
              "    <tr>\n",
              "      <th>6</th>\n",
              "      <td>Y</td>\n",
              "      <td>M</td>\n",
              "      <td>3. Bach</td>\n",
              "      <td>2000000</td>\n",
              "      <td>1_Unk</td>\n",
              "      <td>Y</td>\n",
              "      <td>A</td>\n",
              "      <td>Married</td>\n",
              "      <td>U</td>\n",
              "      <td>Professional</td>\n",
              "      <td>1Low</td>\n",
              "      <td>0</td>\n",
              "      <td>Northeast</td>\n",
              "      <td>5</td>\n",
              "      <td>C</td>\n",
              "    </tr>\n",
              "    <tr>\n",
              "      <th>7</th>\n",
              "      <td>N</td>\n",
              "      <td>F</td>\n",
              "      <td>3. Bach</td>\n",
              "      <td>416925</td>\n",
              "      <td>5_&lt;=55</td>\n",
              "      <td>Y</td>\n",
              "      <td>C</td>\n",
              "      <td>Married</td>\n",
              "      <td>Y</td>\n",
              "      <td>Professional</td>\n",
              "      <td>1Low</td>\n",
              "      <td>Owner</td>\n",
              "      <td>South</td>\n",
              "      <td>2</td>\n",
              "      <td>I</td>\n",
              "    </tr>\n",
              "    <tr>\n",
              "      <th>8</th>\n",
              "      <td>N</td>\n",
              "      <td>F</td>\n",
              "      <td>1. HS</td>\n",
              "      <td>207676</td>\n",
              "      <td>4_&lt;=45</td>\n",
              "      <td>Y</td>\n",
              "      <td>G</td>\n",
              "      <td>0</td>\n",
              "      <td>Y</td>\n",
              "      <td>Blue Collar</td>\n",
              "      <td>1Low</td>\n",
              "      <td>Renter</td>\n",
              "      <td>West</td>\n",
              "      <td>5</td>\n",
              "      <td>D</td>\n",
              "    </tr>\n",
              "    <tr>\n",
              "      <th>9</th>\n",
              "      <td>Y</td>\n",
              "      <td>M</td>\n",
              "      <td>1. HS</td>\n",
              "      <td>241380</td>\n",
              "      <td>1_Unk</td>\n",
              "      <td>Y</td>\n",
              "      <td>C</td>\n",
              "      <td>Married</td>\n",
              "      <td>U</td>\n",
              "      <td>Sales/Service</td>\n",
              "      <td>1Low</td>\n",
              "      <td>0</td>\n",
              "      <td>Northeast</td>\n",
              "      <td>6</td>\n",
              "      <td>G</td>\n",
              "    </tr>\n",
              "  </tbody>\n",
              "</table>\n",
              "</div>\n",
              "      <button class=\"colab-df-convert\" onclick=\"convertToInteractive('df-deeec9a0-379a-4b00-94c4-5fd3235cf6fd')\"\n",
              "              title=\"Convert this dataframe to an interactive table.\"\n",
              "              style=\"display:none;\">\n",
              "        \n",
              "  <svg xmlns=\"http://www.w3.org/2000/svg\" height=\"24px\"viewBox=\"0 0 24 24\"\n",
              "       width=\"24px\">\n",
              "    <path d=\"M0 0h24v24H0V0z\" fill=\"none\"/>\n",
              "    <path d=\"M18.56 5.44l.94 2.06.94-2.06 2.06-.94-2.06-.94-.94-2.06-.94 2.06-2.06.94zm-11 1L8.5 8.5l.94-2.06 2.06-.94-2.06-.94L8.5 2.5l-.94 2.06-2.06.94zm10 10l.94 2.06.94-2.06 2.06-.94-2.06-.94-.94-2.06-.94 2.06-2.06.94z\"/><path d=\"M17.41 7.96l-1.37-1.37c-.4-.4-.92-.59-1.43-.59-.52 0-1.04.2-1.43.59L10.3 9.45l-7.72 7.72c-.78.78-.78 2.05 0 2.83L4 21.41c.39.39.9.59 1.41.59.51 0 1.02-.2 1.41-.59l7.78-7.78 2.81-2.81c.8-.78.8-2.07 0-2.86zM5.41 20L4 18.59l7.72-7.72 1.47 1.35L5.41 20z\"/>\n",
              "  </svg>\n",
              "      </button>\n",
              "      \n",
              "  <style>\n",
              "    .colab-df-container {\n",
              "      display:flex;\n",
              "      flex-wrap:wrap;\n",
              "      gap: 12px;\n",
              "    }\n",
              "\n",
              "    .colab-df-convert {\n",
              "      background-color: #E8F0FE;\n",
              "      border: none;\n",
              "      border-radius: 50%;\n",
              "      cursor: pointer;\n",
              "      display: none;\n",
              "      fill: #1967D2;\n",
              "      height: 32px;\n",
              "      padding: 0 0 0 0;\n",
              "      width: 32px;\n",
              "    }\n",
              "\n",
              "    .colab-df-convert:hover {\n",
              "      background-color: #E2EBFA;\n",
              "      box-shadow: 0px 1px 2px rgba(60, 64, 67, 0.3), 0px 1px 3px 1px rgba(60, 64, 67, 0.15);\n",
              "      fill: #174EA6;\n",
              "    }\n",
              "\n",
              "    [theme=dark] .colab-df-convert {\n",
              "      background-color: #3B4455;\n",
              "      fill: #D2E3FC;\n",
              "    }\n",
              "\n",
              "    [theme=dark] .colab-df-convert:hover {\n",
              "      background-color: #434B5C;\n",
              "      box-shadow: 0px 1px 3px 1px rgba(0, 0, 0, 0.15);\n",
              "      filter: drop-shadow(0px 1px 2px rgba(0, 0, 0, 0.3));\n",
              "      fill: #FFFFFF;\n",
              "    }\n",
              "  </style>\n",
              "\n",
              "      <script>\n",
              "        const buttonEl =\n",
              "          document.querySelector('#df-deeec9a0-379a-4b00-94c4-5fd3235cf6fd button.colab-df-convert');\n",
              "        buttonEl.style.display =\n",
              "          google.colab.kernel.accessAllowed ? 'block' : 'none';\n",
              "\n",
              "        async function convertToInteractive(key) {\n",
              "          const element = document.querySelector('#df-deeec9a0-379a-4b00-94c4-5fd3235cf6fd');\n",
              "          const dataTable =\n",
              "            await google.colab.kernel.invokeFunction('convertToInteractive',\n",
              "                                                     [key], {});\n",
              "          if (!dataTable) return;\n",
              "\n",
              "          const docLinkHtml = 'Like what you see? Visit the ' +\n",
              "            '<a target=\"_blank\" href=https://colab.research.google.com/notebooks/data_table.ipynb>data table notebook</a>'\n",
              "            + ' to learn more about interactive tables.';\n",
              "          element.innerHTML = '';\n",
              "          dataTable['output_type'] = 'display_data';\n",
              "          await google.colab.output.renderOutput(dataTable, element);\n",
              "          const docLink = document.createElement('div');\n",
              "          docLink.innerHTML = docLinkHtml;\n",
              "          element.appendChild(docLink);\n",
              "        }\n",
              "      </script>\n",
              "    </div>\n",
              "  </div>\n",
              "  "
            ]
          },
          "metadata": {},
          "execution_count": 119
        }
      ]
    },
    {
      "cell_type": "markdown",
      "source": [
        "# Transposed of records & attributes"
      ],
      "metadata": {
        "id": "1iiSLm7VvNUA"
      }
    },
    {
      "cell_type": "code",
      "source": [
        "df.head().T            "
      ],
      "metadata": {
        "colab": {
          "base_uri": "https://localhost:8080/",
          "height": 520
        },
        "id": "IG9SZeAru8oU",
        "outputId": "8007df6b-4650-4ac5-f864-ff09451b1f6a"
      },
      "execution_count": 120,
      "outputs": [
        {
          "output_type": "execute_result",
          "data": {
            "text/plain": [
              "                         0             1                2                3  \\\n",
              "flag                     Y             N                N                Y   \n",
              "gender                   M             F                M                M   \n",
              "education          4. Grad       3. Bach  2. Some College  2. Some College   \n",
              "house_val           756460        213171           111147           354151   \n",
              "age                  1_Unk         7_>65           2_<=25           2_<=25   \n",
              "online                   N             N                Y                Y   \n",
              "customer_psy             B             E                C                B   \n",
              "marriage                 0             0                0           Single   \n",
              "child                    U             U                Y                U   \n",
              "occupation    Professional  Professional     Professional    Sales/Service   \n",
              "mortgage              1Low          1Low             1Low             1Low   \n",
              "house_owner              0         Owner            Owner                0   \n",
              "region             Midwest     Northeast          Midwest             West   \n",
              "car_prob                 1             3                1                2   \n",
              "fam_income               L             G                J                L   \n",
              "\n",
              "                            4  \n",
              "flag                        Y  \n",
              "gender                      F  \n",
              "education     2. Some College  \n",
              "house_val              117087  \n",
              "age                     1_Unk  \n",
              "online                      Y  \n",
              "customer_psy                J  \n",
              "marriage              Married  \n",
              "child                       Y  \n",
              "occupation      Sales/Service  \n",
              "mortgage                 1Low  \n",
              "house_owner                 0  \n",
              "region                  South  \n",
              "car_prob                    7  \n",
              "fam_income                  H  "
            ],
            "text/html": [
              "\n",
              "  <div id=\"df-b88f1d3d-db93-433f-8f98-b9d92866a2f8\">\n",
              "    <div class=\"colab-df-container\">\n",
              "      <div>\n",
              "<style scoped>\n",
              "    .dataframe tbody tr th:only-of-type {\n",
              "        vertical-align: middle;\n",
              "    }\n",
              "\n",
              "    .dataframe tbody tr th {\n",
              "        vertical-align: top;\n",
              "    }\n",
              "\n",
              "    .dataframe thead th {\n",
              "        text-align: right;\n",
              "    }\n",
              "</style>\n",
              "<table border=\"1\" class=\"dataframe\">\n",
              "  <thead>\n",
              "    <tr style=\"text-align: right;\">\n",
              "      <th></th>\n",
              "      <th>0</th>\n",
              "      <th>1</th>\n",
              "      <th>2</th>\n",
              "      <th>3</th>\n",
              "      <th>4</th>\n",
              "    </tr>\n",
              "  </thead>\n",
              "  <tbody>\n",
              "    <tr>\n",
              "      <th>flag</th>\n",
              "      <td>Y</td>\n",
              "      <td>N</td>\n",
              "      <td>N</td>\n",
              "      <td>Y</td>\n",
              "      <td>Y</td>\n",
              "    </tr>\n",
              "    <tr>\n",
              "      <th>gender</th>\n",
              "      <td>M</td>\n",
              "      <td>F</td>\n",
              "      <td>M</td>\n",
              "      <td>M</td>\n",
              "      <td>F</td>\n",
              "    </tr>\n",
              "    <tr>\n",
              "      <th>education</th>\n",
              "      <td>4. Grad</td>\n",
              "      <td>3. Bach</td>\n",
              "      <td>2. Some College</td>\n",
              "      <td>2. Some College</td>\n",
              "      <td>2. Some College</td>\n",
              "    </tr>\n",
              "    <tr>\n",
              "      <th>house_val</th>\n",
              "      <td>756460</td>\n",
              "      <td>213171</td>\n",
              "      <td>111147</td>\n",
              "      <td>354151</td>\n",
              "      <td>117087</td>\n",
              "    </tr>\n",
              "    <tr>\n",
              "      <th>age</th>\n",
              "      <td>1_Unk</td>\n",
              "      <td>7_&gt;65</td>\n",
              "      <td>2_&lt;=25</td>\n",
              "      <td>2_&lt;=25</td>\n",
              "      <td>1_Unk</td>\n",
              "    </tr>\n",
              "    <tr>\n",
              "      <th>online</th>\n",
              "      <td>N</td>\n",
              "      <td>N</td>\n",
              "      <td>Y</td>\n",
              "      <td>Y</td>\n",
              "      <td>Y</td>\n",
              "    </tr>\n",
              "    <tr>\n",
              "      <th>customer_psy</th>\n",
              "      <td>B</td>\n",
              "      <td>E</td>\n",
              "      <td>C</td>\n",
              "      <td>B</td>\n",
              "      <td>J</td>\n",
              "    </tr>\n",
              "    <tr>\n",
              "      <th>marriage</th>\n",
              "      <td>0</td>\n",
              "      <td>0</td>\n",
              "      <td>0</td>\n",
              "      <td>Single</td>\n",
              "      <td>Married</td>\n",
              "    </tr>\n",
              "    <tr>\n",
              "      <th>child</th>\n",
              "      <td>U</td>\n",
              "      <td>U</td>\n",
              "      <td>Y</td>\n",
              "      <td>U</td>\n",
              "      <td>Y</td>\n",
              "    </tr>\n",
              "    <tr>\n",
              "      <th>occupation</th>\n",
              "      <td>Professional</td>\n",
              "      <td>Professional</td>\n",
              "      <td>Professional</td>\n",
              "      <td>Sales/Service</td>\n",
              "      <td>Sales/Service</td>\n",
              "    </tr>\n",
              "    <tr>\n",
              "      <th>mortgage</th>\n",
              "      <td>1Low</td>\n",
              "      <td>1Low</td>\n",
              "      <td>1Low</td>\n",
              "      <td>1Low</td>\n",
              "      <td>1Low</td>\n",
              "    </tr>\n",
              "    <tr>\n",
              "      <th>house_owner</th>\n",
              "      <td>0</td>\n",
              "      <td>Owner</td>\n",
              "      <td>Owner</td>\n",
              "      <td>0</td>\n",
              "      <td>0</td>\n",
              "    </tr>\n",
              "    <tr>\n",
              "      <th>region</th>\n",
              "      <td>Midwest</td>\n",
              "      <td>Northeast</td>\n",
              "      <td>Midwest</td>\n",
              "      <td>West</td>\n",
              "      <td>South</td>\n",
              "    </tr>\n",
              "    <tr>\n",
              "      <th>car_prob</th>\n",
              "      <td>1</td>\n",
              "      <td>3</td>\n",
              "      <td>1</td>\n",
              "      <td>2</td>\n",
              "      <td>7</td>\n",
              "    </tr>\n",
              "    <tr>\n",
              "      <th>fam_income</th>\n",
              "      <td>L</td>\n",
              "      <td>G</td>\n",
              "      <td>J</td>\n",
              "      <td>L</td>\n",
              "      <td>H</td>\n",
              "    </tr>\n",
              "  </tbody>\n",
              "</table>\n",
              "</div>\n",
              "      <button class=\"colab-df-convert\" onclick=\"convertToInteractive('df-b88f1d3d-db93-433f-8f98-b9d92866a2f8')\"\n",
              "              title=\"Convert this dataframe to an interactive table.\"\n",
              "              style=\"display:none;\">\n",
              "        \n",
              "  <svg xmlns=\"http://www.w3.org/2000/svg\" height=\"24px\"viewBox=\"0 0 24 24\"\n",
              "       width=\"24px\">\n",
              "    <path d=\"M0 0h24v24H0V0z\" fill=\"none\"/>\n",
              "    <path d=\"M18.56 5.44l.94 2.06.94-2.06 2.06-.94-2.06-.94-.94-2.06-.94 2.06-2.06.94zm-11 1L8.5 8.5l.94-2.06 2.06-.94-2.06-.94L8.5 2.5l-.94 2.06-2.06.94zm10 10l.94 2.06.94-2.06 2.06-.94-2.06-.94-.94-2.06-.94 2.06-2.06.94z\"/><path d=\"M17.41 7.96l-1.37-1.37c-.4-.4-.92-.59-1.43-.59-.52 0-1.04.2-1.43.59L10.3 9.45l-7.72 7.72c-.78.78-.78 2.05 0 2.83L4 21.41c.39.39.9.59 1.41.59.51 0 1.02-.2 1.41-.59l7.78-7.78 2.81-2.81c.8-.78.8-2.07 0-2.86zM5.41 20L4 18.59l7.72-7.72 1.47 1.35L5.41 20z\"/>\n",
              "  </svg>\n",
              "      </button>\n",
              "      \n",
              "  <style>\n",
              "    .colab-df-container {\n",
              "      display:flex;\n",
              "      flex-wrap:wrap;\n",
              "      gap: 12px;\n",
              "    }\n",
              "\n",
              "    .colab-df-convert {\n",
              "      background-color: #E8F0FE;\n",
              "      border: none;\n",
              "      border-radius: 50%;\n",
              "      cursor: pointer;\n",
              "      display: none;\n",
              "      fill: #1967D2;\n",
              "      height: 32px;\n",
              "      padding: 0 0 0 0;\n",
              "      width: 32px;\n",
              "    }\n",
              "\n",
              "    .colab-df-convert:hover {\n",
              "      background-color: #E2EBFA;\n",
              "      box-shadow: 0px 1px 2px rgba(60, 64, 67, 0.3), 0px 1px 3px 1px rgba(60, 64, 67, 0.15);\n",
              "      fill: #174EA6;\n",
              "    }\n",
              "\n",
              "    [theme=dark] .colab-df-convert {\n",
              "      background-color: #3B4455;\n",
              "      fill: #D2E3FC;\n",
              "    }\n",
              "\n",
              "    [theme=dark] .colab-df-convert:hover {\n",
              "      background-color: #434B5C;\n",
              "      box-shadow: 0px 1px 3px 1px rgba(0, 0, 0, 0.15);\n",
              "      filter: drop-shadow(0px 1px 2px rgba(0, 0, 0, 0.3));\n",
              "      fill: #FFFFFF;\n",
              "    }\n",
              "  </style>\n",
              "\n",
              "      <script>\n",
              "        const buttonEl =\n",
              "          document.querySelector('#df-b88f1d3d-db93-433f-8f98-b9d92866a2f8 button.colab-df-convert');\n",
              "        buttonEl.style.display =\n",
              "          google.colab.kernel.accessAllowed ? 'block' : 'none';\n",
              "\n",
              "        async function convertToInteractive(key) {\n",
              "          const element = document.querySelector('#df-b88f1d3d-db93-433f-8f98-b9d92866a2f8');\n",
              "          const dataTable =\n",
              "            await google.colab.kernel.invokeFunction('convertToInteractive',\n",
              "                                                     [key], {});\n",
              "          if (!dataTable) return;\n",
              "\n",
              "          const docLinkHtml = 'Like what you see? Visit the ' +\n",
              "            '<a target=\"_blank\" href=https://colab.research.google.com/notebooks/data_table.ipynb>data table notebook</a>'\n",
              "            + ' to learn more about interactive tables.';\n",
              "          element.innerHTML = '';\n",
              "          dataTable['output_type'] = 'display_data';\n",
              "          await google.colab.output.renderOutput(dataTable, element);\n",
              "          const docLink = document.createElement('div');\n",
              "          docLink.innerHTML = docLinkHtml;\n",
              "          element.appendChild(docLink);\n",
              "        }\n",
              "      </script>\n",
              "    </div>\n",
              "  </div>\n",
              "  "
            ]
          },
          "metadata": {},
          "execution_count": 120
        }
      ]
    },
    {
      "cell_type": "markdown",
      "source": [
        "This tranposed command used to transposed the records and attributes."
      ],
      "metadata": {
        "id": "3t4L7fmTJJsK"
      }
    },
    {
      "cell_type": "markdown",
      "source": [
        "# Call 10 bottom records from the dataset"
      ],
      "metadata": {
        "id": "1rGCCAL7CQzN"
      }
    },
    {
      "cell_type": "code",
      "source": [
        "df.tail(10)"
      ],
      "metadata": {
        "colab": {
          "base_uri": "https://localhost:8080/",
          "height": 427
        },
        "id": "UkyGjjj6Bsy9",
        "outputId": "d327f032-5cc1-4a58-c680-a1bcc74e3a58"
      },
      "execution_count": 121,
      "outputs": [
        {
          "output_type": "execute_result",
          "data": {
            "text/plain": [
              "      flag gender education  house_val     age online customer_psy marriage  \\\n",
              "39990    N      F     1. HS     120630   1_Unk      Y            F   Single   \n",
              "39991    N      M    0. <HS      88682   1_Unk      N            G  Married   \n",
              "39992    N      F   4. Grad     256498  5_<=55      Y            E  Married   \n",
              "39993    N      M     1. HS          0   7_>65      Y            C        0   \n",
              "39994    Y      M   4. Grad     603554  5_<=55      Y            C  Married   \n",
              "39995    Y      F   3. Bach          0   7_>65      Y            C        0   \n",
              "39996    N      F     1. HS     213596  4_<=45      N            I  Married   \n",
              "39997    Y      M    0. <HS     134070  3_<=35      Y            F  Married   \n",
              "39998    N      M     1. HS     402210   7_>65      Y            E        0   \n",
              "39999    N      F   3. Bach     836030   7_>65      Y            B  Married   \n",
              "\n",
              "      child     occupation mortgage house_owner     region  car_prob  \\\n",
              "39990     U  Sales/Service     1Low       Owner    Midwest         7   \n",
              "39991     Y    Blue Collar     1Low      Renter       West         9   \n",
              "39992     N    Blue Collar     1Low       Owner      South         3   \n",
              "39993     Y   Professional     1Low       Owner  Northeast         2   \n",
              "39994     Y   Professional    3High       Owner       West         2   \n",
              "39995     U        Retired     1Low           0      South         3   \n",
              "39996     U    Blue Collar     1Low       Owner      South         1   \n",
              "39997     U  Sales/Service     1Low       Owner    Midwest         4   \n",
              "39998     Y  Sales/Service     1Low           0       West         2   \n",
              "39999     N        Retired     2Med       Owner  Northeast         1   \n",
              "\n",
              "      fam_income  \n",
              "39990          H  \n",
              "39991          D  \n",
              "39992          E  \n",
              "39993          G  \n",
              "39994          J  \n",
              "39995          F  \n",
              "39996          D  \n",
              "39997          E  \n",
              "39998          B  \n",
              "39999          J  "
            ],
            "text/html": [
              "\n",
              "  <div id=\"df-43316762-7726-4057-8cb2-1d3e119c4600\">\n",
              "    <div class=\"colab-df-container\">\n",
              "      <div>\n",
              "<style scoped>\n",
              "    .dataframe tbody tr th:only-of-type {\n",
              "        vertical-align: middle;\n",
              "    }\n",
              "\n",
              "    .dataframe tbody tr th {\n",
              "        vertical-align: top;\n",
              "    }\n",
              "\n",
              "    .dataframe thead th {\n",
              "        text-align: right;\n",
              "    }\n",
              "</style>\n",
              "<table border=\"1\" class=\"dataframe\">\n",
              "  <thead>\n",
              "    <tr style=\"text-align: right;\">\n",
              "      <th></th>\n",
              "      <th>flag</th>\n",
              "      <th>gender</th>\n",
              "      <th>education</th>\n",
              "      <th>house_val</th>\n",
              "      <th>age</th>\n",
              "      <th>online</th>\n",
              "      <th>customer_psy</th>\n",
              "      <th>marriage</th>\n",
              "      <th>child</th>\n",
              "      <th>occupation</th>\n",
              "      <th>mortgage</th>\n",
              "      <th>house_owner</th>\n",
              "      <th>region</th>\n",
              "      <th>car_prob</th>\n",
              "      <th>fam_income</th>\n",
              "    </tr>\n",
              "  </thead>\n",
              "  <tbody>\n",
              "    <tr>\n",
              "      <th>39990</th>\n",
              "      <td>N</td>\n",
              "      <td>F</td>\n",
              "      <td>1. HS</td>\n",
              "      <td>120630</td>\n",
              "      <td>1_Unk</td>\n",
              "      <td>Y</td>\n",
              "      <td>F</td>\n",
              "      <td>Single</td>\n",
              "      <td>U</td>\n",
              "      <td>Sales/Service</td>\n",
              "      <td>1Low</td>\n",
              "      <td>Owner</td>\n",
              "      <td>Midwest</td>\n",
              "      <td>7</td>\n",
              "      <td>H</td>\n",
              "    </tr>\n",
              "    <tr>\n",
              "      <th>39991</th>\n",
              "      <td>N</td>\n",
              "      <td>M</td>\n",
              "      <td>0. &lt;HS</td>\n",
              "      <td>88682</td>\n",
              "      <td>1_Unk</td>\n",
              "      <td>N</td>\n",
              "      <td>G</td>\n",
              "      <td>Married</td>\n",
              "      <td>Y</td>\n",
              "      <td>Blue Collar</td>\n",
              "      <td>1Low</td>\n",
              "      <td>Renter</td>\n",
              "      <td>West</td>\n",
              "      <td>9</td>\n",
              "      <td>D</td>\n",
              "    </tr>\n",
              "    <tr>\n",
              "      <th>39992</th>\n",
              "      <td>N</td>\n",
              "      <td>F</td>\n",
              "      <td>4. Grad</td>\n",
              "      <td>256498</td>\n",
              "      <td>5_&lt;=55</td>\n",
              "      <td>Y</td>\n",
              "      <td>E</td>\n",
              "      <td>Married</td>\n",
              "      <td>N</td>\n",
              "      <td>Blue Collar</td>\n",
              "      <td>1Low</td>\n",
              "      <td>Owner</td>\n",
              "      <td>South</td>\n",
              "      <td>3</td>\n",
              "      <td>E</td>\n",
              "    </tr>\n",
              "    <tr>\n",
              "      <th>39993</th>\n",
              "      <td>N</td>\n",
              "      <td>M</td>\n",
              "      <td>1. HS</td>\n",
              "      <td>0</td>\n",
              "      <td>7_&gt;65</td>\n",
              "      <td>Y</td>\n",
              "      <td>C</td>\n",
              "      <td>0</td>\n",
              "      <td>Y</td>\n",
              "      <td>Professional</td>\n",
              "      <td>1Low</td>\n",
              "      <td>Owner</td>\n",
              "      <td>Northeast</td>\n",
              "      <td>2</td>\n",
              "      <td>G</td>\n",
              "    </tr>\n",
              "    <tr>\n",
              "      <th>39994</th>\n",
              "      <td>Y</td>\n",
              "      <td>M</td>\n",
              "      <td>4. Grad</td>\n",
              "      <td>603554</td>\n",
              "      <td>5_&lt;=55</td>\n",
              "      <td>Y</td>\n",
              "      <td>C</td>\n",
              "      <td>Married</td>\n",
              "      <td>Y</td>\n",
              "      <td>Professional</td>\n",
              "      <td>3High</td>\n",
              "      <td>Owner</td>\n",
              "      <td>West</td>\n",
              "      <td>2</td>\n",
              "      <td>J</td>\n",
              "    </tr>\n",
              "    <tr>\n",
              "      <th>39995</th>\n",
              "      <td>Y</td>\n",
              "      <td>F</td>\n",
              "      <td>3. Bach</td>\n",
              "      <td>0</td>\n",
              "      <td>7_&gt;65</td>\n",
              "      <td>Y</td>\n",
              "      <td>C</td>\n",
              "      <td>0</td>\n",
              "      <td>U</td>\n",
              "      <td>Retired</td>\n",
              "      <td>1Low</td>\n",
              "      <td>0</td>\n",
              "      <td>South</td>\n",
              "      <td>3</td>\n",
              "      <td>F</td>\n",
              "    </tr>\n",
              "    <tr>\n",
              "      <th>39996</th>\n",
              "      <td>N</td>\n",
              "      <td>F</td>\n",
              "      <td>1. HS</td>\n",
              "      <td>213596</td>\n",
              "      <td>4_&lt;=45</td>\n",
              "      <td>N</td>\n",
              "      <td>I</td>\n",
              "      <td>Married</td>\n",
              "      <td>U</td>\n",
              "      <td>Blue Collar</td>\n",
              "      <td>1Low</td>\n",
              "      <td>Owner</td>\n",
              "      <td>South</td>\n",
              "      <td>1</td>\n",
              "      <td>D</td>\n",
              "    </tr>\n",
              "    <tr>\n",
              "      <th>39997</th>\n",
              "      <td>Y</td>\n",
              "      <td>M</td>\n",
              "      <td>0. &lt;HS</td>\n",
              "      <td>134070</td>\n",
              "      <td>3_&lt;=35</td>\n",
              "      <td>Y</td>\n",
              "      <td>F</td>\n",
              "      <td>Married</td>\n",
              "      <td>U</td>\n",
              "      <td>Sales/Service</td>\n",
              "      <td>1Low</td>\n",
              "      <td>Owner</td>\n",
              "      <td>Midwest</td>\n",
              "      <td>4</td>\n",
              "      <td>E</td>\n",
              "    </tr>\n",
              "    <tr>\n",
              "      <th>39998</th>\n",
              "      <td>N</td>\n",
              "      <td>M</td>\n",
              "      <td>1. HS</td>\n",
              "      <td>402210</td>\n",
              "      <td>7_&gt;65</td>\n",
              "      <td>Y</td>\n",
              "      <td>E</td>\n",
              "      <td>0</td>\n",
              "      <td>Y</td>\n",
              "      <td>Sales/Service</td>\n",
              "      <td>1Low</td>\n",
              "      <td>0</td>\n",
              "      <td>West</td>\n",
              "      <td>2</td>\n",
              "      <td>B</td>\n",
              "    </tr>\n",
              "    <tr>\n",
              "      <th>39999</th>\n",
              "      <td>N</td>\n",
              "      <td>F</td>\n",
              "      <td>3. Bach</td>\n",
              "      <td>836030</td>\n",
              "      <td>7_&gt;65</td>\n",
              "      <td>Y</td>\n",
              "      <td>B</td>\n",
              "      <td>Married</td>\n",
              "      <td>N</td>\n",
              "      <td>Retired</td>\n",
              "      <td>2Med</td>\n",
              "      <td>Owner</td>\n",
              "      <td>Northeast</td>\n",
              "      <td>1</td>\n",
              "      <td>J</td>\n",
              "    </tr>\n",
              "  </tbody>\n",
              "</table>\n",
              "</div>\n",
              "      <button class=\"colab-df-convert\" onclick=\"convertToInteractive('df-43316762-7726-4057-8cb2-1d3e119c4600')\"\n",
              "              title=\"Convert this dataframe to an interactive table.\"\n",
              "              style=\"display:none;\">\n",
              "        \n",
              "  <svg xmlns=\"http://www.w3.org/2000/svg\" height=\"24px\"viewBox=\"0 0 24 24\"\n",
              "       width=\"24px\">\n",
              "    <path d=\"M0 0h24v24H0V0z\" fill=\"none\"/>\n",
              "    <path d=\"M18.56 5.44l.94 2.06.94-2.06 2.06-.94-2.06-.94-.94-2.06-.94 2.06-2.06.94zm-11 1L8.5 8.5l.94-2.06 2.06-.94-2.06-.94L8.5 2.5l-.94 2.06-2.06.94zm10 10l.94 2.06.94-2.06 2.06-.94-2.06-.94-.94-2.06-.94 2.06-2.06.94z\"/><path d=\"M17.41 7.96l-1.37-1.37c-.4-.4-.92-.59-1.43-.59-.52 0-1.04.2-1.43.59L10.3 9.45l-7.72 7.72c-.78.78-.78 2.05 0 2.83L4 21.41c.39.39.9.59 1.41.59.51 0 1.02-.2 1.41-.59l7.78-7.78 2.81-2.81c.8-.78.8-2.07 0-2.86zM5.41 20L4 18.59l7.72-7.72 1.47 1.35L5.41 20z\"/>\n",
              "  </svg>\n",
              "      </button>\n",
              "      \n",
              "  <style>\n",
              "    .colab-df-container {\n",
              "      display:flex;\n",
              "      flex-wrap:wrap;\n",
              "      gap: 12px;\n",
              "    }\n",
              "\n",
              "    .colab-df-convert {\n",
              "      background-color: #E8F0FE;\n",
              "      border: none;\n",
              "      border-radius: 50%;\n",
              "      cursor: pointer;\n",
              "      display: none;\n",
              "      fill: #1967D2;\n",
              "      height: 32px;\n",
              "      padding: 0 0 0 0;\n",
              "      width: 32px;\n",
              "    }\n",
              "\n",
              "    .colab-df-convert:hover {\n",
              "      background-color: #E2EBFA;\n",
              "      box-shadow: 0px 1px 2px rgba(60, 64, 67, 0.3), 0px 1px 3px 1px rgba(60, 64, 67, 0.15);\n",
              "      fill: #174EA6;\n",
              "    }\n",
              "\n",
              "    [theme=dark] .colab-df-convert {\n",
              "      background-color: #3B4455;\n",
              "      fill: #D2E3FC;\n",
              "    }\n",
              "\n",
              "    [theme=dark] .colab-df-convert:hover {\n",
              "      background-color: #434B5C;\n",
              "      box-shadow: 0px 1px 3px 1px rgba(0, 0, 0, 0.15);\n",
              "      filter: drop-shadow(0px 1px 2px rgba(0, 0, 0, 0.3));\n",
              "      fill: #FFFFFF;\n",
              "    }\n",
              "  </style>\n",
              "\n",
              "      <script>\n",
              "        const buttonEl =\n",
              "          document.querySelector('#df-43316762-7726-4057-8cb2-1d3e119c4600 button.colab-df-convert');\n",
              "        buttonEl.style.display =\n",
              "          google.colab.kernel.accessAllowed ? 'block' : 'none';\n",
              "\n",
              "        async function convertToInteractive(key) {\n",
              "          const element = document.querySelector('#df-43316762-7726-4057-8cb2-1d3e119c4600');\n",
              "          const dataTable =\n",
              "            await google.colab.kernel.invokeFunction('convertToInteractive',\n",
              "                                                     [key], {});\n",
              "          if (!dataTable) return;\n",
              "\n",
              "          const docLinkHtml = 'Like what you see? Visit the ' +\n",
              "            '<a target=\"_blank\" href=https://colab.research.google.com/notebooks/data_table.ipynb>data table notebook</a>'\n",
              "            + ' to learn more about interactive tables.';\n",
              "          element.innerHTML = '';\n",
              "          dataTable['output_type'] = 'display_data';\n",
              "          await google.colab.output.renderOutput(dataTable, element);\n",
              "          const docLink = document.createElement('div');\n",
              "          docLink.innerHTML = docLinkHtml;\n",
              "          element.appendChild(docLink);\n",
              "        }\n",
              "      </script>\n",
              "    </div>\n",
              "  </div>\n",
              "  "
            ]
          },
          "metadata": {},
          "execution_count": 121
        }
      ]
    },
    {
      "cell_type": "code",
      "source": [
        "#df.head().T.to_csv(\"head1.xls\")"
      ],
      "metadata": {
        "id": "EXmRGY7ex1Rh"
      },
      "execution_count": 122,
      "outputs": []
    },
    {
      "cell_type": "markdown",
      "source": [
        "# Summary of dataset"
      ],
      "metadata": {
        "id": "gFgs8kFfvn1Y"
      }
    },
    {
      "cell_type": "code",
      "source": [
        "df.info()"
      ],
      "metadata": {
        "colab": {
          "base_uri": "https://localhost:8080/",
          "height": 0
        },
        "id": "5KLgzGSKu9Er",
        "outputId": "f20b9783-4df8-4fa5-fea5-d9a11500dd2c"
      },
      "execution_count": 123,
      "outputs": [
        {
          "output_type": "stream",
          "name": "stdout",
          "text": [
            "<class 'pandas.core.frame.DataFrame'>\n",
            "Int64Index: 39945 entries, 0 to 39999\n",
            "Data columns (total 15 columns):\n",
            " #   Column        Non-Null Count  Dtype \n",
            "---  ------        --------------  ----- \n",
            " 0   flag          39945 non-null  object\n",
            " 1   gender        39945 non-null  object\n",
            " 2   education     39210 non-null  object\n",
            " 3   house_val     39945 non-null  int64 \n",
            " 4   age           39945 non-null  object\n",
            " 5   online        39945 non-null  object\n",
            " 6   customer_psy  39945 non-null  object\n",
            " 7   marriage      39945 non-null  object\n",
            " 8   child         39945 non-null  object\n",
            " 9   occupation    39945 non-null  object\n",
            " 10  mortgage      39945 non-null  object\n",
            " 11  house_owner   39945 non-null  object\n",
            " 12  region        39945 non-null  object\n",
            " 13  car_prob      39945 non-null  int64 \n",
            " 14  fam_income    39945 non-null  object\n",
            "dtypes: int64(2), object(13)\n",
            "memory usage: 4.9+ MB\n"
          ]
        }
      ]
    },
    {
      "cell_type": "markdown",
      "source": [
        "In info command used to check number of attibutes there name and there data type."
      ],
      "metadata": {
        "id": "VkqJ5lA7Jftm"
      }
    },
    {
      "cell_type": "markdown",
      "source": [
        "# Check there is any extreme values"
      ],
      "metadata": {
        "id": "S15WwDXbC6Iz"
      }
    },
    {
      "cell_type": "code",
      "source": [
        "df.describe()"
      ],
      "metadata": {
        "colab": {
          "base_uri": "https://localhost:8080/",
          "height": 300
        },
        "id": "tVOVMLXRu9Lk",
        "outputId": "b583af42-c97c-4e86-e205-0fde39c39d4a"
      },
      "execution_count": 124,
      "outputs": [
        {
          "output_type": "execute_result",
          "data": {
            "text/plain": [
              "          house_val      car_prob\n",
              "count  3.994500e+04  39945.000000\n",
              "mean   3.075966e+05      3.486719\n",
              "std    4.223422e+05      2.573636\n",
              "min    0.000000e+00      0.000000\n",
              "25%    8.145500e+04      1.000000\n",
              "50%    2.151330e+05      3.000000\n",
              "75%    3.940670e+05      5.000000\n",
              "max    9.999999e+06      9.000000"
            ],
            "text/html": [
              "\n",
              "  <div id=\"df-d9d6e1aa-5f64-4fe6-8753-8a119ba07a81\">\n",
              "    <div class=\"colab-df-container\">\n",
              "      <div>\n",
              "<style scoped>\n",
              "    .dataframe tbody tr th:only-of-type {\n",
              "        vertical-align: middle;\n",
              "    }\n",
              "\n",
              "    .dataframe tbody tr th {\n",
              "        vertical-align: top;\n",
              "    }\n",
              "\n",
              "    .dataframe thead th {\n",
              "        text-align: right;\n",
              "    }\n",
              "</style>\n",
              "<table border=\"1\" class=\"dataframe\">\n",
              "  <thead>\n",
              "    <tr style=\"text-align: right;\">\n",
              "      <th></th>\n",
              "      <th>house_val</th>\n",
              "      <th>car_prob</th>\n",
              "    </tr>\n",
              "  </thead>\n",
              "  <tbody>\n",
              "    <tr>\n",
              "      <th>count</th>\n",
              "      <td>3.994500e+04</td>\n",
              "      <td>39945.000000</td>\n",
              "    </tr>\n",
              "    <tr>\n",
              "      <th>mean</th>\n",
              "      <td>3.075966e+05</td>\n",
              "      <td>3.486719</td>\n",
              "    </tr>\n",
              "    <tr>\n",
              "      <th>std</th>\n",
              "      <td>4.223422e+05</td>\n",
              "      <td>2.573636</td>\n",
              "    </tr>\n",
              "    <tr>\n",
              "      <th>min</th>\n",
              "      <td>0.000000e+00</td>\n",
              "      <td>0.000000</td>\n",
              "    </tr>\n",
              "    <tr>\n",
              "      <th>25%</th>\n",
              "      <td>8.145500e+04</td>\n",
              "      <td>1.000000</td>\n",
              "    </tr>\n",
              "    <tr>\n",
              "      <th>50%</th>\n",
              "      <td>2.151330e+05</td>\n",
              "      <td>3.000000</td>\n",
              "    </tr>\n",
              "    <tr>\n",
              "      <th>75%</th>\n",
              "      <td>3.940670e+05</td>\n",
              "      <td>5.000000</td>\n",
              "    </tr>\n",
              "    <tr>\n",
              "      <th>max</th>\n",
              "      <td>9.999999e+06</td>\n",
              "      <td>9.000000</td>\n",
              "    </tr>\n",
              "  </tbody>\n",
              "</table>\n",
              "</div>\n",
              "      <button class=\"colab-df-convert\" onclick=\"convertToInteractive('df-d9d6e1aa-5f64-4fe6-8753-8a119ba07a81')\"\n",
              "              title=\"Convert this dataframe to an interactive table.\"\n",
              "              style=\"display:none;\">\n",
              "        \n",
              "  <svg xmlns=\"http://www.w3.org/2000/svg\" height=\"24px\"viewBox=\"0 0 24 24\"\n",
              "       width=\"24px\">\n",
              "    <path d=\"M0 0h24v24H0V0z\" fill=\"none\"/>\n",
              "    <path d=\"M18.56 5.44l.94 2.06.94-2.06 2.06-.94-2.06-.94-.94-2.06-.94 2.06-2.06.94zm-11 1L8.5 8.5l.94-2.06 2.06-.94-2.06-.94L8.5 2.5l-.94 2.06-2.06.94zm10 10l.94 2.06.94-2.06 2.06-.94-2.06-.94-.94-2.06-.94 2.06-2.06.94z\"/><path d=\"M17.41 7.96l-1.37-1.37c-.4-.4-.92-.59-1.43-.59-.52 0-1.04.2-1.43.59L10.3 9.45l-7.72 7.72c-.78.78-.78 2.05 0 2.83L4 21.41c.39.39.9.59 1.41.59.51 0 1.02-.2 1.41-.59l7.78-7.78 2.81-2.81c.8-.78.8-2.07 0-2.86zM5.41 20L4 18.59l7.72-7.72 1.47 1.35L5.41 20z\"/>\n",
              "  </svg>\n",
              "      </button>\n",
              "      \n",
              "  <style>\n",
              "    .colab-df-container {\n",
              "      display:flex;\n",
              "      flex-wrap:wrap;\n",
              "      gap: 12px;\n",
              "    }\n",
              "\n",
              "    .colab-df-convert {\n",
              "      background-color: #E8F0FE;\n",
              "      border: none;\n",
              "      border-radius: 50%;\n",
              "      cursor: pointer;\n",
              "      display: none;\n",
              "      fill: #1967D2;\n",
              "      height: 32px;\n",
              "      padding: 0 0 0 0;\n",
              "      width: 32px;\n",
              "    }\n",
              "\n",
              "    .colab-df-convert:hover {\n",
              "      background-color: #E2EBFA;\n",
              "      box-shadow: 0px 1px 2px rgba(60, 64, 67, 0.3), 0px 1px 3px 1px rgba(60, 64, 67, 0.15);\n",
              "      fill: #174EA6;\n",
              "    }\n",
              "\n",
              "    [theme=dark] .colab-df-convert {\n",
              "      background-color: #3B4455;\n",
              "      fill: #D2E3FC;\n",
              "    }\n",
              "\n",
              "    [theme=dark] .colab-df-convert:hover {\n",
              "      background-color: #434B5C;\n",
              "      box-shadow: 0px 1px 3px 1px rgba(0, 0, 0, 0.15);\n",
              "      filter: drop-shadow(0px 1px 2px rgba(0, 0, 0, 0.3));\n",
              "      fill: #FFFFFF;\n",
              "    }\n",
              "  </style>\n",
              "\n",
              "      <script>\n",
              "        const buttonEl =\n",
              "          document.querySelector('#df-d9d6e1aa-5f64-4fe6-8753-8a119ba07a81 button.colab-df-convert');\n",
              "        buttonEl.style.display =\n",
              "          google.colab.kernel.accessAllowed ? 'block' : 'none';\n",
              "\n",
              "        async function convertToInteractive(key) {\n",
              "          const element = document.querySelector('#df-d9d6e1aa-5f64-4fe6-8753-8a119ba07a81');\n",
              "          const dataTable =\n",
              "            await google.colab.kernel.invokeFunction('convertToInteractive',\n",
              "                                                     [key], {});\n",
              "          if (!dataTable) return;\n",
              "\n",
              "          const docLinkHtml = 'Like what you see? Visit the ' +\n",
              "            '<a target=\"_blank\" href=https://colab.research.google.com/notebooks/data_table.ipynb>data table notebook</a>'\n",
              "            + ' to learn more about interactive tables.';\n",
              "          element.innerHTML = '';\n",
              "          dataTable['output_type'] = 'display_data';\n",
              "          await google.colab.output.renderOutput(dataTable, element);\n",
              "          const docLink = document.createElement('div');\n",
              "          docLink.innerHTML = docLinkHtml;\n",
              "          element.appendChild(docLink);\n",
              "        }\n",
              "      </script>\n",
              "    </div>\n",
              "  </div>\n",
              "  "
            ]
          },
          "metadata": {},
          "execution_count": 124
        }
      ]
    },
    {
      "cell_type": "markdown",
      "source": [
        "In this dataset there 2 attributes have integer values.So, describes command explain there five number summary."
      ],
      "metadata": {
        "id": "ykyHT3FFKQx2"
      }
    },
    {
      "cell_type": "code",
      "source": [
        " round(df.describe().T,0)"
      ],
      "metadata": {
        "colab": {
          "base_uri": "https://localhost:8080/",
          "height": 112
        },
        "id": "Vy1TFo_aZI0M",
        "outputId": "f579fc6e-5985-4363-df25-2ee5321616a1"
      },
      "execution_count": 125,
      "outputs": [
        {
          "output_type": "execute_result",
          "data": {
            "text/plain": [
              "             count      mean       std  min      25%       50%       75%  \\\n",
              "house_val  39945.0  307597.0  422342.0  0.0  81455.0  215133.0  394067.0   \n",
              "car_prob   39945.0       3.0       3.0  0.0      1.0       3.0       5.0   \n",
              "\n",
              "                 max  \n",
              "house_val  9999999.0  \n",
              "car_prob         9.0  "
            ],
            "text/html": [
              "\n",
              "  <div id=\"df-30ea3457-b340-417b-b281-b23283ce5aee\">\n",
              "    <div class=\"colab-df-container\">\n",
              "      <div>\n",
              "<style scoped>\n",
              "    .dataframe tbody tr th:only-of-type {\n",
              "        vertical-align: middle;\n",
              "    }\n",
              "\n",
              "    .dataframe tbody tr th {\n",
              "        vertical-align: top;\n",
              "    }\n",
              "\n",
              "    .dataframe thead th {\n",
              "        text-align: right;\n",
              "    }\n",
              "</style>\n",
              "<table border=\"1\" class=\"dataframe\">\n",
              "  <thead>\n",
              "    <tr style=\"text-align: right;\">\n",
              "      <th></th>\n",
              "      <th>count</th>\n",
              "      <th>mean</th>\n",
              "      <th>std</th>\n",
              "      <th>min</th>\n",
              "      <th>25%</th>\n",
              "      <th>50%</th>\n",
              "      <th>75%</th>\n",
              "      <th>max</th>\n",
              "    </tr>\n",
              "  </thead>\n",
              "  <tbody>\n",
              "    <tr>\n",
              "      <th>house_val</th>\n",
              "      <td>39945.0</td>\n",
              "      <td>307597.0</td>\n",
              "      <td>422342.0</td>\n",
              "      <td>0.0</td>\n",
              "      <td>81455.0</td>\n",
              "      <td>215133.0</td>\n",
              "      <td>394067.0</td>\n",
              "      <td>9999999.0</td>\n",
              "    </tr>\n",
              "    <tr>\n",
              "      <th>car_prob</th>\n",
              "      <td>39945.0</td>\n",
              "      <td>3.0</td>\n",
              "      <td>3.0</td>\n",
              "      <td>0.0</td>\n",
              "      <td>1.0</td>\n",
              "      <td>3.0</td>\n",
              "      <td>5.0</td>\n",
              "      <td>9.0</td>\n",
              "    </tr>\n",
              "  </tbody>\n",
              "</table>\n",
              "</div>\n",
              "      <button class=\"colab-df-convert\" onclick=\"convertToInteractive('df-30ea3457-b340-417b-b281-b23283ce5aee')\"\n",
              "              title=\"Convert this dataframe to an interactive table.\"\n",
              "              style=\"display:none;\">\n",
              "        \n",
              "  <svg xmlns=\"http://www.w3.org/2000/svg\" height=\"24px\"viewBox=\"0 0 24 24\"\n",
              "       width=\"24px\">\n",
              "    <path d=\"M0 0h24v24H0V0z\" fill=\"none\"/>\n",
              "    <path d=\"M18.56 5.44l.94 2.06.94-2.06 2.06-.94-2.06-.94-.94-2.06-.94 2.06-2.06.94zm-11 1L8.5 8.5l.94-2.06 2.06-.94-2.06-.94L8.5 2.5l-.94 2.06-2.06.94zm10 10l.94 2.06.94-2.06 2.06-.94-2.06-.94-.94-2.06-.94 2.06-2.06.94z\"/><path d=\"M17.41 7.96l-1.37-1.37c-.4-.4-.92-.59-1.43-.59-.52 0-1.04.2-1.43.59L10.3 9.45l-7.72 7.72c-.78.78-.78 2.05 0 2.83L4 21.41c.39.39.9.59 1.41.59.51 0 1.02-.2 1.41-.59l7.78-7.78 2.81-2.81c.8-.78.8-2.07 0-2.86zM5.41 20L4 18.59l7.72-7.72 1.47 1.35L5.41 20z\"/>\n",
              "  </svg>\n",
              "      </button>\n",
              "      \n",
              "  <style>\n",
              "    .colab-df-container {\n",
              "      display:flex;\n",
              "      flex-wrap:wrap;\n",
              "      gap: 12px;\n",
              "    }\n",
              "\n",
              "    .colab-df-convert {\n",
              "      background-color: #E8F0FE;\n",
              "      border: none;\n",
              "      border-radius: 50%;\n",
              "      cursor: pointer;\n",
              "      display: none;\n",
              "      fill: #1967D2;\n",
              "      height: 32px;\n",
              "      padding: 0 0 0 0;\n",
              "      width: 32px;\n",
              "    }\n",
              "\n",
              "    .colab-df-convert:hover {\n",
              "      background-color: #E2EBFA;\n",
              "      box-shadow: 0px 1px 2px rgba(60, 64, 67, 0.3), 0px 1px 3px 1px rgba(60, 64, 67, 0.15);\n",
              "      fill: #174EA6;\n",
              "    }\n",
              "\n",
              "    [theme=dark] .colab-df-convert {\n",
              "      background-color: #3B4455;\n",
              "      fill: #D2E3FC;\n",
              "    }\n",
              "\n",
              "    [theme=dark] .colab-df-convert:hover {\n",
              "      background-color: #434B5C;\n",
              "      box-shadow: 0px 1px 3px 1px rgba(0, 0, 0, 0.15);\n",
              "      filter: drop-shadow(0px 1px 2px rgba(0, 0, 0, 0.3));\n",
              "      fill: #FFFFFF;\n",
              "    }\n",
              "  </style>\n",
              "\n",
              "      <script>\n",
              "        const buttonEl =\n",
              "          document.querySelector('#df-30ea3457-b340-417b-b281-b23283ce5aee button.colab-df-convert');\n",
              "        buttonEl.style.display =\n",
              "          google.colab.kernel.accessAllowed ? 'block' : 'none';\n",
              "\n",
              "        async function convertToInteractive(key) {\n",
              "          const element = document.querySelector('#df-30ea3457-b340-417b-b281-b23283ce5aee');\n",
              "          const dataTable =\n",
              "            await google.colab.kernel.invokeFunction('convertToInteractive',\n",
              "                                                     [key], {});\n",
              "          if (!dataTable) return;\n",
              "\n",
              "          const docLinkHtml = 'Like what you see? Visit the ' +\n",
              "            '<a target=\"_blank\" href=https://colab.research.google.com/notebooks/data_table.ipynb>data table notebook</a>'\n",
              "            + ' to learn more about interactive tables.';\n",
              "          element.innerHTML = '';\n",
              "          dataTable['output_type'] = 'display_data';\n",
              "          await google.colab.output.renderOutput(dataTable, element);\n",
              "          const docLink = document.createElement('div');\n",
              "          docLink.innerHTML = docLinkHtml;\n",
              "          element.appendChild(docLink);\n",
              "        }\n",
              "      </script>\n",
              "    </div>\n",
              "  </div>\n",
              "  "
            ]
          },
          "metadata": {},
          "execution_count": 125
        }
      ]
    },
    {
      "cell_type": "markdown",
      "source": [
        "# Check Columns Name"
      ],
      "metadata": {
        "id": "tbWl-wq3I6kx"
      }
    },
    {
      "cell_type": "code",
      "source": [
        "df.columns"
      ],
      "metadata": {
        "colab": {
          "base_uri": "https://localhost:8080/",
          "height": 0
        },
        "id": "dXA_ykxPu9TA",
        "outputId": "16f548cb-61e7-4a3a-be64-39e712e912ac"
      },
      "execution_count": 126,
      "outputs": [
        {
          "output_type": "execute_result",
          "data": {
            "text/plain": [
              "Index(['flag', 'gender', 'education', 'house_val', 'age', 'online',\n",
              "       'customer_psy', 'marriage', 'child', 'occupation', 'mortgage',\n",
              "       'house_owner', 'region', 'car_prob', 'fam_income'],\n",
              "      dtype='object')"
            ]
          },
          "metadata": {},
          "execution_count": 126
        }
      ]
    },
    {
      "cell_type": "markdown",
      "source": [
        "# Renaming column name\n",
        "\n",
        "\n",
        "\n",
        "\n"
      ],
      "metadata": {
        "id": "bHOBsSNcy1vI"
      }
    },
    {
      "cell_type": "code",
      "source": [
        "df.rename(columns= {'car_prob':'car_probability','customer_psy':'customer_psychology','house_val': 'house_value','fam_income':'family_income'}, inplace= True)"
      ],
      "metadata": {
        "id": "jgtp7Pzuu9VO"
      },
      "execution_count": 127,
      "outputs": []
    },
    {
      "cell_type": "code",
      "source": [
        "df"
      ],
      "metadata": {
        "colab": {
          "base_uri": "https://localhost:8080/",
          "height": 540
        },
        "id": "BVBjAbtTu9Xu",
        "outputId": "4bff7608-7c38-44bb-d4d4-5ae77a1a4ce8"
      },
      "execution_count": 128,
      "outputs": [
        {
          "output_type": "execute_result",
          "data": {
            "text/plain": [
              "      flag gender        education  house_value     age online  \\\n",
              "0        Y      M          4. Grad       756460   1_Unk      N   \n",
              "1        N      F          3. Bach       213171   7_>65      N   \n",
              "2        N      M  2. Some College       111147  2_<=25      Y   \n",
              "3        Y      M  2. Some College       354151  2_<=25      Y   \n",
              "4        Y      F  2. Some College       117087   1_Unk      Y   \n",
              "...    ...    ...              ...          ...     ...    ...   \n",
              "39995    Y      F          3. Bach            0   7_>65      Y   \n",
              "39996    N      F            1. HS       213596  4_<=45      N   \n",
              "39997    Y      M           0. <HS       134070  3_<=35      Y   \n",
              "39998    N      M            1. HS       402210   7_>65      Y   \n",
              "39999    N      F          3. Bach       836030   7_>65      Y   \n",
              "\n",
              "      customer_psychology marriage child     occupation mortgage house_owner  \\\n",
              "0                       B        0     U   Professional     1Low           0   \n",
              "1                       E        0     U   Professional     1Low       Owner   \n",
              "2                       C        0     Y   Professional     1Low       Owner   \n",
              "3                       B   Single     U  Sales/Service     1Low           0   \n",
              "4                       J  Married     Y  Sales/Service     1Low           0   \n",
              "...                   ...      ...   ...            ...      ...         ...   \n",
              "39995                   C        0     U        Retired     1Low           0   \n",
              "39996                   I  Married     U    Blue Collar     1Low       Owner   \n",
              "39997                   F  Married     U  Sales/Service     1Low       Owner   \n",
              "39998                   E        0     Y  Sales/Service     1Low           0   \n",
              "39999                   B  Married     N        Retired     2Med       Owner   \n",
              "\n",
              "          region  car_probability family_income  \n",
              "0        Midwest                1             L  \n",
              "1      Northeast                3             G  \n",
              "2        Midwest                1             J  \n",
              "3           West                2             L  \n",
              "4          South                7             H  \n",
              "...          ...              ...           ...  \n",
              "39995      South                3             F  \n",
              "39996      South                1             D  \n",
              "39997    Midwest                4             E  \n",
              "39998       West                2             B  \n",
              "39999  Northeast                1             J  \n",
              "\n",
              "[39945 rows x 15 columns]"
            ],
            "text/html": [
              "\n",
              "  <div id=\"df-9e5adc3d-5fb1-4093-a516-f937b1289e8f\">\n",
              "    <div class=\"colab-df-container\">\n",
              "      <div>\n",
              "<style scoped>\n",
              "    .dataframe tbody tr th:only-of-type {\n",
              "        vertical-align: middle;\n",
              "    }\n",
              "\n",
              "    .dataframe tbody tr th {\n",
              "        vertical-align: top;\n",
              "    }\n",
              "\n",
              "    .dataframe thead th {\n",
              "        text-align: right;\n",
              "    }\n",
              "</style>\n",
              "<table border=\"1\" class=\"dataframe\">\n",
              "  <thead>\n",
              "    <tr style=\"text-align: right;\">\n",
              "      <th></th>\n",
              "      <th>flag</th>\n",
              "      <th>gender</th>\n",
              "      <th>education</th>\n",
              "      <th>house_value</th>\n",
              "      <th>age</th>\n",
              "      <th>online</th>\n",
              "      <th>customer_psychology</th>\n",
              "      <th>marriage</th>\n",
              "      <th>child</th>\n",
              "      <th>occupation</th>\n",
              "      <th>mortgage</th>\n",
              "      <th>house_owner</th>\n",
              "      <th>region</th>\n",
              "      <th>car_probability</th>\n",
              "      <th>family_income</th>\n",
              "    </tr>\n",
              "  </thead>\n",
              "  <tbody>\n",
              "    <tr>\n",
              "      <th>0</th>\n",
              "      <td>Y</td>\n",
              "      <td>M</td>\n",
              "      <td>4. Grad</td>\n",
              "      <td>756460</td>\n",
              "      <td>1_Unk</td>\n",
              "      <td>N</td>\n",
              "      <td>B</td>\n",
              "      <td>0</td>\n",
              "      <td>U</td>\n",
              "      <td>Professional</td>\n",
              "      <td>1Low</td>\n",
              "      <td>0</td>\n",
              "      <td>Midwest</td>\n",
              "      <td>1</td>\n",
              "      <td>L</td>\n",
              "    </tr>\n",
              "    <tr>\n",
              "      <th>1</th>\n",
              "      <td>N</td>\n",
              "      <td>F</td>\n",
              "      <td>3. Bach</td>\n",
              "      <td>213171</td>\n",
              "      <td>7_&gt;65</td>\n",
              "      <td>N</td>\n",
              "      <td>E</td>\n",
              "      <td>0</td>\n",
              "      <td>U</td>\n",
              "      <td>Professional</td>\n",
              "      <td>1Low</td>\n",
              "      <td>Owner</td>\n",
              "      <td>Northeast</td>\n",
              "      <td>3</td>\n",
              "      <td>G</td>\n",
              "    </tr>\n",
              "    <tr>\n",
              "      <th>2</th>\n",
              "      <td>N</td>\n",
              "      <td>M</td>\n",
              "      <td>2. Some College</td>\n",
              "      <td>111147</td>\n",
              "      <td>2_&lt;=25</td>\n",
              "      <td>Y</td>\n",
              "      <td>C</td>\n",
              "      <td>0</td>\n",
              "      <td>Y</td>\n",
              "      <td>Professional</td>\n",
              "      <td>1Low</td>\n",
              "      <td>Owner</td>\n",
              "      <td>Midwest</td>\n",
              "      <td>1</td>\n",
              "      <td>J</td>\n",
              "    </tr>\n",
              "    <tr>\n",
              "      <th>3</th>\n",
              "      <td>Y</td>\n",
              "      <td>M</td>\n",
              "      <td>2. Some College</td>\n",
              "      <td>354151</td>\n",
              "      <td>2_&lt;=25</td>\n",
              "      <td>Y</td>\n",
              "      <td>B</td>\n",
              "      <td>Single</td>\n",
              "      <td>U</td>\n",
              "      <td>Sales/Service</td>\n",
              "      <td>1Low</td>\n",
              "      <td>0</td>\n",
              "      <td>West</td>\n",
              "      <td>2</td>\n",
              "      <td>L</td>\n",
              "    </tr>\n",
              "    <tr>\n",
              "      <th>4</th>\n",
              "      <td>Y</td>\n",
              "      <td>F</td>\n",
              "      <td>2. Some College</td>\n",
              "      <td>117087</td>\n",
              "      <td>1_Unk</td>\n",
              "      <td>Y</td>\n",
              "      <td>J</td>\n",
              "      <td>Married</td>\n",
              "      <td>Y</td>\n",
              "      <td>Sales/Service</td>\n",
              "      <td>1Low</td>\n",
              "      <td>0</td>\n",
              "      <td>South</td>\n",
              "      <td>7</td>\n",
              "      <td>H</td>\n",
              "    </tr>\n",
              "    <tr>\n",
              "      <th>...</th>\n",
              "      <td>...</td>\n",
              "      <td>...</td>\n",
              "      <td>...</td>\n",
              "      <td>...</td>\n",
              "      <td>...</td>\n",
              "      <td>...</td>\n",
              "      <td>...</td>\n",
              "      <td>...</td>\n",
              "      <td>...</td>\n",
              "      <td>...</td>\n",
              "      <td>...</td>\n",
              "      <td>...</td>\n",
              "      <td>...</td>\n",
              "      <td>...</td>\n",
              "      <td>...</td>\n",
              "    </tr>\n",
              "    <tr>\n",
              "      <th>39995</th>\n",
              "      <td>Y</td>\n",
              "      <td>F</td>\n",
              "      <td>3. Bach</td>\n",
              "      <td>0</td>\n",
              "      <td>7_&gt;65</td>\n",
              "      <td>Y</td>\n",
              "      <td>C</td>\n",
              "      <td>0</td>\n",
              "      <td>U</td>\n",
              "      <td>Retired</td>\n",
              "      <td>1Low</td>\n",
              "      <td>0</td>\n",
              "      <td>South</td>\n",
              "      <td>3</td>\n",
              "      <td>F</td>\n",
              "    </tr>\n",
              "    <tr>\n",
              "      <th>39996</th>\n",
              "      <td>N</td>\n",
              "      <td>F</td>\n",
              "      <td>1. HS</td>\n",
              "      <td>213596</td>\n",
              "      <td>4_&lt;=45</td>\n",
              "      <td>N</td>\n",
              "      <td>I</td>\n",
              "      <td>Married</td>\n",
              "      <td>U</td>\n",
              "      <td>Blue Collar</td>\n",
              "      <td>1Low</td>\n",
              "      <td>Owner</td>\n",
              "      <td>South</td>\n",
              "      <td>1</td>\n",
              "      <td>D</td>\n",
              "    </tr>\n",
              "    <tr>\n",
              "      <th>39997</th>\n",
              "      <td>Y</td>\n",
              "      <td>M</td>\n",
              "      <td>0. &lt;HS</td>\n",
              "      <td>134070</td>\n",
              "      <td>3_&lt;=35</td>\n",
              "      <td>Y</td>\n",
              "      <td>F</td>\n",
              "      <td>Married</td>\n",
              "      <td>U</td>\n",
              "      <td>Sales/Service</td>\n",
              "      <td>1Low</td>\n",
              "      <td>Owner</td>\n",
              "      <td>Midwest</td>\n",
              "      <td>4</td>\n",
              "      <td>E</td>\n",
              "    </tr>\n",
              "    <tr>\n",
              "      <th>39998</th>\n",
              "      <td>N</td>\n",
              "      <td>M</td>\n",
              "      <td>1. HS</td>\n",
              "      <td>402210</td>\n",
              "      <td>7_&gt;65</td>\n",
              "      <td>Y</td>\n",
              "      <td>E</td>\n",
              "      <td>0</td>\n",
              "      <td>Y</td>\n",
              "      <td>Sales/Service</td>\n",
              "      <td>1Low</td>\n",
              "      <td>0</td>\n",
              "      <td>West</td>\n",
              "      <td>2</td>\n",
              "      <td>B</td>\n",
              "    </tr>\n",
              "    <tr>\n",
              "      <th>39999</th>\n",
              "      <td>N</td>\n",
              "      <td>F</td>\n",
              "      <td>3. Bach</td>\n",
              "      <td>836030</td>\n",
              "      <td>7_&gt;65</td>\n",
              "      <td>Y</td>\n",
              "      <td>B</td>\n",
              "      <td>Married</td>\n",
              "      <td>N</td>\n",
              "      <td>Retired</td>\n",
              "      <td>2Med</td>\n",
              "      <td>Owner</td>\n",
              "      <td>Northeast</td>\n",
              "      <td>1</td>\n",
              "      <td>J</td>\n",
              "    </tr>\n",
              "  </tbody>\n",
              "</table>\n",
              "<p>39945 rows × 15 columns</p>\n",
              "</div>\n",
              "      <button class=\"colab-df-convert\" onclick=\"convertToInteractive('df-9e5adc3d-5fb1-4093-a516-f937b1289e8f')\"\n",
              "              title=\"Convert this dataframe to an interactive table.\"\n",
              "              style=\"display:none;\">\n",
              "        \n",
              "  <svg xmlns=\"http://www.w3.org/2000/svg\" height=\"24px\"viewBox=\"0 0 24 24\"\n",
              "       width=\"24px\">\n",
              "    <path d=\"M0 0h24v24H0V0z\" fill=\"none\"/>\n",
              "    <path d=\"M18.56 5.44l.94 2.06.94-2.06 2.06-.94-2.06-.94-.94-2.06-.94 2.06-2.06.94zm-11 1L8.5 8.5l.94-2.06 2.06-.94-2.06-.94L8.5 2.5l-.94 2.06-2.06.94zm10 10l.94 2.06.94-2.06 2.06-.94-2.06-.94-.94-2.06-.94 2.06-2.06.94z\"/><path d=\"M17.41 7.96l-1.37-1.37c-.4-.4-.92-.59-1.43-.59-.52 0-1.04.2-1.43.59L10.3 9.45l-7.72 7.72c-.78.78-.78 2.05 0 2.83L4 21.41c.39.39.9.59 1.41.59.51 0 1.02-.2 1.41-.59l7.78-7.78 2.81-2.81c.8-.78.8-2.07 0-2.86zM5.41 20L4 18.59l7.72-7.72 1.47 1.35L5.41 20z\"/>\n",
              "  </svg>\n",
              "      </button>\n",
              "      \n",
              "  <style>\n",
              "    .colab-df-container {\n",
              "      display:flex;\n",
              "      flex-wrap:wrap;\n",
              "      gap: 12px;\n",
              "    }\n",
              "\n",
              "    .colab-df-convert {\n",
              "      background-color: #E8F0FE;\n",
              "      border: none;\n",
              "      border-radius: 50%;\n",
              "      cursor: pointer;\n",
              "      display: none;\n",
              "      fill: #1967D2;\n",
              "      height: 32px;\n",
              "      padding: 0 0 0 0;\n",
              "      width: 32px;\n",
              "    }\n",
              "\n",
              "    .colab-df-convert:hover {\n",
              "      background-color: #E2EBFA;\n",
              "      box-shadow: 0px 1px 2px rgba(60, 64, 67, 0.3), 0px 1px 3px 1px rgba(60, 64, 67, 0.15);\n",
              "      fill: #174EA6;\n",
              "    }\n",
              "\n",
              "    [theme=dark] .colab-df-convert {\n",
              "      background-color: #3B4455;\n",
              "      fill: #D2E3FC;\n",
              "    }\n",
              "\n",
              "    [theme=dark] .colab-df-convert:hover {\n",
              "      background-color: #434B5C;\n",
              "      box-shadow: 0px 1px 3px 1px rgba(0, 0, 0, 0.15);\n",
              "      filter: drop-shadow(0px 1px 2px rgba(0, 0, 0, 0.3));\n",
              "      fill: #FFFFFF;\n",
              "    }\n",
              "  </style>\n",
              "\n",
              "      <script>\n",
              "        const buttonEl =\n",
              "          document.querySelector('#df-9e5adc3d-5fb1-4093-a516-f937b1289e8f button.colab-df-convert');\n",
              "        buttonEl.style.display =\n",
              "          google.colab.kernel.accessAllowed ? 'block' : 'none';\n",
              "\n",
              "        async function convertToInteractive(key) {\n",
              "          const element = document.querySelector('#df-9e5adc3d-5fb1-4093-a516-f937b1289e8f');\n",
              "          const dataTable =\n",
              "            await google.colab.kernel.invokeFunction('convertToInteractive',\n",
              "                                                     [key], {});\n",
              "          if (!dataTable) return;\n",
              "\n",
              "          const docLinkHtml = 'Like what you see? Visit the ' +\n",
              "            '<a target=\"_blank\" href=https://colab.research.google.com/notebooks/data_table.ipynb>data table notebook</a>'\n",
              "            + ' to learn more about interactive tables.';\n",
              "          element.innerHTML = '';\n",
              "          dataTable['output_type'] = 'display_data';\n",
              "          await google.colab.output.renderOutput(dataTable, element);\n",
              "          const docLink = document.createElement('div');\n",
              "          docLink.innerHTML = docLinkHtml;\n",
              "          element.appendChild(docLink);\n",
              "        }\n",
              "      </script>\n",
              "    </div>\n",
              "  </div>\n",
              "  "
            ]
          },
          "metadata": {},
          "execution_count": 128
        }
      ]
    },
    {
      "cell_type": "code",
      "source": [
        "df.nunique().sort_values(ascending=False)"
      ],
      "metadata": {
        "colab": {
          "base_uri": "https://localhost:8080/",
          "height": 0
        },
        "id": "myGjPY1QzSLP",
        "outputId": "cf52799c-a04a-4a9f-a30e-f4bfd215a08c"
      },
      "execution_count": 129,
      "outputs": [
        {
          "output_type": "execute_result",
          "data": {
            "text/plain": [
              "house_value            19572\n",
              "family_income             13\n",
              "customer_psychology       11\n",
              "car_probability           10\n",
              "age                        7\n",
              "occupation                 6\n",
              "education                  5\n",
              "region                     5\n",
              "child                      4\n",
              "gender                     3\n",
              "marriage                   3\n",
              "mortgage                   3\n",
              "house_owner                3\n",
              "flag                       2\n",
              "online                     2\n",
              "dtype: int64"
            ]
          },
          "metadata": {},
          "execution_count": 129
        }
      ]
    },
    {
      "cell_type": "code",
      "source": [
        "print (\"car_probability:\",df.car_probability.unique())\n",
        "print(\"mortgage\",df.mortgage.unique())\n",
        "print(\"flag\",df.flag.unique())\n",
        "print(\"age\",df.age.unique())\n"
      ],
      "metadata": {
        "colab": {
          "base_uri": "https://localhost:8080/",
          "height": 0
        },
        "id": "6MBrrKT0zSS7",
        "outputId": "6ac2973e-7151-4f14-a9b4-8b513478314e"
      },
      "execution_count": 130,
      "outputs": [
        {
          "output_type": "stream",
          "name": "stdout",
          "text": [
            "car_probability: [1 3 2 7 5 6 9 8 4 0]\n",
            "mortgage ['1Low' '2Med' '3High']\n",
            "flag ['Y' 'N']\n",
            "age ['1_Unk' '7_>65' '2_<=25' '6_<=65' '5_<=55' '4_<=45' '3_<=35']\n"
          ]
        }
      ]
    },
    {
      "cell_type": "markdown",
      "source": [
        "This command is used to check the unique values corresponding to each attribute."
      ],
      "metadata": {
        "id": "JbSoDOYDLeN-"
      }
    },
    {
      "cell_type": "markdown",
      "source": [
        "# Check data types"
      ],
      "metadata": {
        "id": "0BKGfJDVL35z"
      }
    },
    {
      "cell_type": "code",
      "source": [
        "df.dtypes"
      ],
      "metadata": {
        "colab": {
          "base_uri": "https://localhost:8080/",
          "height": 0
        },
        "id": "oIRe1_nEzSVa",
        "outputId": "c1a07310-1427-4c1d-e32e-2b217cef9157"
      },
      "execution_count": 131,
      "outputs": [
        {
          "output_type": "execute_result",
          "data": {
            "text/plain": [
              "flag                   object\n",
              "gender                 object\n",
              "education              object\n",
              "house_value             int64\n",
              "age                    object\n",
              "online                 object\n",
              "customer_psychology    object\n",
              "marriage               object\n",
              "child                  object\n",
              "occupation             object\n",
              "mortgage               object\n",
              "house_owner            object\n",
              "region                 object\n",
              "car_probability         int64\n",
              "family_income          object\n",
              "dtype: object"
            ]
          },
          "metadata": {},
          "execution_count": 131
        }
      ]
    },
    {
      "cell_type": "markdown",
      "source": [
        "# Changing the data type from character to category"
      ],
      "metadata": {
        "id": "kxM3w6GrGVit"
      }
    },
    {
      "cell_type": "code",
      "source": [
        "df.nunique()"
      ],
      "metadata": {
        "colab": {
          "base_uri": "https://localhost:8080/",
          "height": 0
        },
        "id": "gGfWtMFCm37A",
        "outputId": "a62927ae-af0f-45df-cfe5-d36f94859bb3"
      },
      "execution_count": 132,
      "outputs": [
        {
          "output_type": "execute_result",
          "data": {
            "text/plain": [
              "flag                       2\n",
              "gender                     3\n",
              "education                  5\n",
              "house_value            19572\n",
              "age                        7\n",
              "online                     2\n",
              "customer_psychology       11\n",
              "marriage                   3\n",
              "child                      4\n",
              "occupation                 6\n",
              "mortgage                   3\n",
              "house_owner                3\n",
              "region                     5\n",
              "car_probability           10\n",
              "family_income             13\n",
              "dtype: int64"
            ]
          },
          "metadata": {},
          "execution_count": 132
        }
      ]
    },
    {
      "cell_type": "code",
      "source": [
        "df[\"flag\"] = df[\"flag\"].astype(\"category\")\n",
        "df[\"gender\"] = df[\"gender\"].astype(\"category\")  \n",
        "df[\"education\"] = df[\"education\"].astype(\"category\")\n",
        "df[\"age\"] = df[\"age\"].astype(\"string\") \n",
        "df[\"online\"] = df[\"online\"].astype(\"category\")\n",
        "df[\"customer_psychology \"] = df[\"customer_psychology\"].astype(\"category\")\n",
        "df[\"marriage\"] = df[\"marriage\"].astype(\"category\")\n",
        "df[\"child\"] = df[\"child\"].astype(\"category\")\n",
        "df[\"occupation\"] = df[\"occupation\"].astype(\"category\")\n",
        "df[\"mortgage\"] = df[\"mortgage\"].astype(\"category\")\n",
        "df[\"house_owner\"] = df[\"house_owner\"].astype(\"category\")\n",
        "df[\"child\"] = df[\"child\"].astype(\"category\")\n",
        "df['region']= df['region'].astype(\"category\")\n",
        "df[\"occupation\"] = df[\"occupation\"].astype(\"category\")\n",
        "df[\"family_income\"] = df [\"family_income\"].astype(\"category\")"
      ],
      "metadata": {
        "id": "-M5DyE5mzSX8"
      },
      "execution_count": 133,
      "outputs": []
    },
    {
      "cell_type": "code",
      "source": [
        "df.dtypes"
      ],
      "metadata": {
        "colab": {
          "base_uri": "https://localhost:8080/",
          "height": 0
        },
        "id": "-ObllIgg7Oo9",
        "outputId": "3657198e-8114-4f55-c493-cd0214c02601"
      },
      "execution_count": 134,
      "outputs": [
        {
          "output_type": "execute_result",
          "data": {
            "text/plain": [
              "flag                    category\n",
              "gender                  category\n",
              "education               category\n",
              "house_value                int64\n",
              "age                       string\n",
              "online                  category\n",
              "customer_psychology       object\n",
              "marriage                category\n",
              "child                   category\n",
              "occupation              category\n",
              "mortgage                category\n",
              "house_owner             category\n",
              "region                  category\n",
              "car_probability            int64\n",
              "family_income           category\n",
              "customer_psychology     category\n",
              "dtype: object"
            ]
          },
          "metadata": {},
          "execution_count": 134
        }
      ]
    },
    {
      "cell_type": "markdown",
      "source": [
        "# Deleted Columns from Dataset "
      ],
      "metadata": {
        "id": "sO0cBEmQBJa7"
      }
    },
    {
      "cell_type": "code",
      "source": [
        "df.drop(['education','house_owner','child'],axis=1,inplace=True)\n",
        "df"
      ],
      "metadata": {
        "colab": {
          "base_uri": "https://localhost:8080/",
          "height": 488
        },
        "id": "c71CYW83gOhT",
        "outputId": "2dc0c34b-ed6e-4352-e3a3-e7715a7dc483"
      },
      "execution_count": 135,
      "outputs": [
        {
          "output_type": "execute_result",
          "data": {
            "text/plain": [
              "      flag gender  house_value     age online customer_psychology marriage  \\\n",
              "0        Y      M       756460   1_Unk      N                   B        0   \n",
              "1        N      F       213171   7_>65      N                   E        0   \n",
              "2        N      M       111147  2_<=25      Y                   C        0   \n",
              "3        Y      M       354151  2_<=25      Y                   B   Single   \n",
              "4        Y      F       117087   1_Unk      Y                   J  Married   \n",
              "...    ...    ...          ...     ...    ...                 ...      ...   \n",
              "39995    Y      F            0   7_>65      Y                   C        0   \n",
              "39996    N      F       213596  4_<=45      N                   I  Married   \n",
              "39997    Y      M       134070  3_<=35      Y                   F  Married   \n",
              "39998    N      M       402210   7_>65      Y                   E        0   \n",
              "39999    N      F       836030   7_>65      Y                   B  Married   \n",
              "\n",
              "          occupation mortgage     region  car_probability family_income  \\\n",
              "0       Professional     1Low    Midwest                1             L   \n",
              "1       Professional     1Low  Northeast                3             G   \n",
              "2       Professional     1Low    Midwest                1             J   \n",
              "3      Sales/Service     1Low       West                2             L   \n",
              "4      Sales/Service     1Low      South                7             H   \n",
              "...              ...      ...        ...              ...           ...   \n",
              "39995        Retired     1Low      South                3             F   \n",
              "39996    Blue Collar     1Low      South                1             D   \n",
              "39997  Sales/Service     1Low    Midwest                4             E   \n",
              "39998  Sales/Service     1Low       West                2             B   \n",
              "39999        Retired     2Med  Northeast                1             J   \n",
              "\n",
              "      customer_psychology   \n",
              "0                        B  \n",
              "1                        E  \n",
              "2                        C  \n",
              "3                        B  \n",
              "4                        J  \n",
              "...                    ...  \n",
              "39995                    C  \n",
              "39996                    I  \n",
              "39997                    F  \n",
              "39998                    E  \n",
              "39999                    B  \n",
              "\n",
              "[39945 rows x 13 columns]"
            ],
            "text/html": [
              "\n",
              "  <div id=\"df-c4bfef9f-15d8-472d-97aa-63c6a3f0055a\">\n",
              "    <div class=\"colab-df-container\">\n",
              "      <div>\n",
              "<style scoped>\n",
              "    .dataframe tbody tr th:only-of-type {\n",
              "        vertical-align: middle;\n",
              "    }\n",
              "\n",
              "    .dataframe tbody tr th {\n",
              "        vertical-align: top;\n",
              "    }\n",
              "\n",
              "    .dataframe thead th {\n",
              "        text-align: right;\n",
              "    }\n",
              "</style>\n",
              "<table border=\"1\" class=\"dataframe\">\n",
              "  <thead>\n",
              "    <tr style=\"text-align: right;\">\n",
              "      <th></th>\n",
              "      <th>flag</th>\n",
              "      <th>gender</th>\n",
              "      <th>house_value</th>\n",
              "      <th>age</th>\n",
              "      <th>online</th>\n",
              "      <th>customer_psychology</th>\n",
              "      <th>marriage</th>\n",
              "      <th>occupation</th>\n",
              "      <th>mortgage</th>\n",
              "      <th>region</th>\n",
              "      <th>car_probability</th>\n",
              "      <th>family_income</th>\n",
              "      <th>customer_psychology</th>\n",
              "    </tr>\n",
              "  </thead>\n",
              "  <tbody>\n",
              "    <tr>\n",
              "      <th>0</th>\n",
              "      <td>Y</td>\n",
              "      <td>M</td>\n",
              "      <td>756460</td>\n",
              "      <td>1_Unk</td>\n",
              "      <td>N</td>\n",
              "      <td>B</td>\n",
              "      <td>0</td>\n",
              "      <td>Professional</td>\n",
              "      <td>1Low</td>\n",
              "      <td>Midwest</td>\n",
              "      <td>1</td>\n",
              "      <td>L</td>\n",
              "      <td>B</td>\n",
              "    </tr>\n",
              "    <tr>\n",
              "      <th>1</th>\n",
              "      <td>N</td>\n",
              "      <td>F</td>\n",
              "      <td>213171</td>\n",
              "      <td>7_&gt;65</td>\n",
              "      <td>N</td>\n",
              "      <td>E</td>\n",
              "      <td>0</td>\n",
              "      <td>Professional</td>\n",
              "      <td>1Low</td>\n",
              "      <td>Northeast</td>\n",
              "      <td>3</td>\n",
              "      <td>G</td>\n",
              "      <td>E</td>\n",
              "    </tr>\n",
              "    <tr>\n",
              "      <th>2</th>\n",
              "      <td>N</td>\n",
              "      <td>M</td>\n",
              "      <td>111147</td>\n",
              "      <td>2_&lt;=25</td>\n",
              "      <td>Y</td>\n",
              "      <td>C</td>\n",
              "      <td>0</td>\n",
              "      <td>Professional</td>\n",
              "      <td>1Low</td>\n",
              "      <td>Midwest</td>\n",
              "      <td>1</td>\n",
              "      <td>J</td>\n",
              "      <td>C</td>\n",
              "    </tr>\n",
              "    <tr>\n",
              "      <th>3</th>\n",
              "      <td>Y</td>\n",
              "      <td>M</td>\n",
              "      <td>354151</td>\n",
              "      <td>2_&lt;=25</td>\n",
              "      <td>Y</td>\n",
              "      <td>B</td>\n",
              "      <td>Single</td>\n",
              "      <td>Sales/Service</td>\n",
              "      <td>1Low</td>\n",
              "      <td>West</td>\n",
              "      <td>2</td>\n",
              "      <td>L</td>\n",
              "      <td>B</td>\n",
              "    </tr>\n",
              "    <tr>\n",
              "      <th>4</th>\n",
              "      <td>Y</td>\n",
              "      <td>F</td>\n",
              "      <td>117087</td>\n",
              "      <td>1_Unk</td>\n",
              "      <td>Y</td>\n",
              "      <td>J</td>\n",
              "      <td>Married</td>\n",
              "      <td>Sales/Service</td>\n",
              "      <td>1Low</td>\n",
              "      <td>South</td>\n",
              "      <td>7</td>\n",
              "      <td>H</td>\n",
              "      <td>J</td>\n",
              "    </tr>\n",
              "    <tr>\n",
              "      <th>...</th>\n",
              "      <td>...</td>\n",
              "      <td>...</td>\n",
              "      <td>...</td>\n",
              "      <td>...</td>\n",
              "      <td>...</td>\n",
              "      <td>...</td>\n",
              "      <td>...</td>\n",
              "      <td>...</td>\n",
              "      <td>...</td>\n",
              "      <td>...</td>\n",
              "      <td>...</td>\n",
              "      <td>...</td>\n",
              "      <td>...</td>\n",
              "    </tr>\n",
              "    <tr>\n",
              "      <th>39995</th>\n",
              "      <td>Y</td>\n",
              "      <td>F</td>\n",
              "      <td>0</td>\n",
              "      <td>7_&gt;65</td>\n",
              "      <td>Y</td>\n",
              "      <td>C</td>\n",
              "      <td>0</td>\n",
              "      <td>Retired</td>\n",
              "      <td>1Low</td>\n",
              "      <td>South</td>\n",
              "      <td>3</td>\n",
              "      <td>F</td>\n",
              "      <td>C</td>\n",
              "    </tr>\n",
              "    <tr>\n",
              "      <th>39996</th>\n",
              "      <td>N</td>\n",
              "      <td>F</td>\n",
              "      <td>213596</td>\n",
              "      <td>4_&lt;=45</td>\n",
              "      <td>N</td>\n",
              "      <td>I</td>\n",
              "      <td>Married</td>\n",
              "      <td>Blue Collar</td>\n",
              "      <td>1Low</td>\n",
              "      <td>South</td>\n",
              "      <td>1</td>\n",
              "      <td>D</td>\n",
              "      <td>I</td>\n",
              "    </tr>\n",
              "    <tr>\n",
              "      <th>39997</th>\n",
              "      <td>Y</td>\n",
              "      <td>M</td>\n",
              "      <td>134070</td>\n",
              "      <td>3_&lt;=35</td>\n",
              "      <td>Y</td>\n",
              "      <td>F</td>\n",
              "      <td>Married</td>\n",
              "      <td>Sales/Service</td>\n",
              "      <td>1Low</td>\n",
              "      <td>Midwest</td>\n",
              "      <td>4</td>\n",
              "      <td>E</td>\n",
              "      <td>F</td>\n",
              "    </tr>\n",
              "    <tr>\n",
              "      <th>39998</th>\n",
              "      <td>N</td>\n",
              "      <td>M</td>\n",
              "      <td>402210</td>\n",
              "      <td>7_&gt;65</td>\n",
              "      <td>Y</td>\n",
              "      <td>E</td>\n",
              "      <td>0</td>\n",
              "      <td>Sales/Service</td>\n",
              "      <td>1Low</td>\n",
              "      <td>West</td>\n",
              "      <td>2</td>\n",
              "      <td>B</td>\n",
              "      <td>E</td>\n",
              "    </tr>\n",
              "    <tr>\n",
              "      <th>39999</th>\n",
              "      <td>N</td>\n",
              "      <td>F</td>\n",
              "      <td>836030</td>\n",
              "      <td>7_&gt;65</td>\n",
              "      <td>Y</td>\n",
              "      <td>B</td>\n",
              "      <td>Married</td>\n",
              "      <td>Retired</td>\n",
              "      <td>2Med</td>\n",
              "      <td>Northeast</td>\n",
              "      <td>1</td>\n",
              "      <td>J</td>\n",
              "      <td>B</td>\n",
              "    </tr>\n",
              "  </tbody>\n",
              "</table>\n",
              "<p>39945 rows × 13 columns</p>\n",
              "</div>\n",
              "      <button class=\"colab-df-convert\" onclick=\"convertToInteractive('df-c4bfef9f-15d8-472d-97aa-63c6a3f0055a')\"\n",
              "              title=\"Convert this dataframe to an interactive table.\"\n",
              "              style=\"display:none;\">\n",
              "        \n",
              "  <svg xmlns=\"http://www.w3.org/2000/svg\" height=\"24px\"viewBox=\"0 0 24 24\"\n",
              "       width=\"24px\">\n",
              "    <path d=\"M0 0h24v24H0V0z\" fill=\"none\"/>\n",
              "    <path d=\"M18.56 5.44l.94 2.06.94-2.06 2.06-.94-2.06-.94-.94-2.06-.94 2.06-2.06.94zm-11 1L8.5 8.5l.94-2.06 2.06-.94-2.06-.94L8.5 2.5l-.94 2.06-2.06.94zm10 10l.94 2.06.94-2.06 2.06-.94-2.06-.94-.94-2.06-.94 2.06-2.06.94z\"/><path d=\"M17.41 7.96l-1.37-1.37c-.4-.4-.92-.59-1.43-.59-.52 0-1.04.2-1.43.59L10.3 9.45l-7.72 7.72c-.78.78-.78 2.05 0 2.83L4 21.41c.39.39.9.59 1.41.59.51 0 1.02-.2 1.41-.59l7.78-7.78 2.81-2.81c.8-.78.8-2.07 0-2.86zM5.41 20L4 18.59l7.72-7.72 1.47 1.35L5.41 20z\"/>\n",
              "  </svg>\n",
              "      </button>\n",
              "      \n",
              "  <style>\n",
              "    .colab-df-container {\n",
              "      display:flex;\n",
              "      flex-wrap:wrap;\n",
              "      gap: 12px;\n",
              "    }\n",
              "\n",
              "    .colab-df-convert {\n",
              "      background-color: #E8F0FE;\n",
              "      border: none;\n",
              "      border-radius: 50%;\n",
              "      cursor: pointer;\n",
              "      display: none;\n",
              "      fill: #1967D2;\n",
              "      height: 32px;\n",
              "      padding: 0 0 0 0;\n",
              "      width: 32px;\n",
              "    }\n",
              "\n",
              "    .colab-df-convert:hover {\n",
              "      background-color: #E2EBFA;\n",
              "      box-shadow: 0px 1px 2px rgba(60, 64, 67, 0.3), 0px 1px 3px 1px rgba(60, 64, 67, 0.15);\n",
              "      fill: #174EA6;\n",
              "    }\n",
              "\n",
              "    [theme=dark] .colab-df-convert {\n",
              "      background-color: #3B4455;\n",
              "      fill: #D2E3FC;\n",
              "    }\n",
              "\n",
              "    [theme=dark] .colab-df-convert:hover {\n",
              "      background-color: #434B5C;\n",
              "      box-shadow: 0px 1px 3px 1px rgba(0, 0, 0, 0.15);\n",
              "      filter: drop-shadow(0px 1px 2px rgba(0, 0, 0, 0.3));\n",
              "      fill: #FFFFFF;\n",
              "    }\n",
              "  </style>\n",
              "\n",
              "      <script>\n",
              "        const buttonEl =\n",
              "          document.querySelector('#df-c4bfef9f-15d8-472d-97aa-63c6a3f0055a button.colab-df-convert');\n",
              "        buttonEl.style.display =\n",
              "          google.colab.kernel.accessAllowed ? 'block' : 'none';\n",
              "\n",
              "        async function convertToInteractive(key) {\n",
              "          const element = document.querySelector('#df-c4bfef9f-15d8-472d-97aa-63c6a3f0055a');\n",
              "          const dataTable =\n",
              "            await google.colab.kernel.invokeFunction('convertToInteractive',\n",
              "                                                     [key], {});\n",
              "          if (!dataTable) return;\n",
              "\n",
              "          const docLinkHtml = 'Like what you see? Visit the ' +\n",
              "            '<a target=\"_blank\" href=https://colab.research.google.com/notebooks/data_table.ipynb>data table notebook</a>'\n",
              "            + ' to learn more about interactive tables.';\n",
              "          element.innerHTML = '';\n",
              "          dataTable['output_type'] = 'display_data';\n",
              "          await google.colab.output.renderOutput(dataTable, element);\n",
              "          const docLink = document.createElement('div');\n",
              "          docLink.innerHTML = docLinkHtml;\n",
              "          element.appendChild(docLink);\n",
              "        }\n",
              "      </script>\n",
              "    </div>\n",
              "  </div>\n",
              "  "
            ]
          },
          "metadata": {},
          "execution_count": 135
        }
      ]
    },
    {
      "cell_type": "code",
      "source": [
        "df[\"region\"].unique()"
      ],
      "metadata": {
        "colab": {
          "base_uri": "https://localhost:8080/",
          "height": 0
        },
        "id": "KYebw8T5M6Ve",
        "outputId": "a56b40bf-4ab4-4831-dd5b-e4950d79e25a"
      },
      "execution_count": 136,
      "outputs": [
        {
          "output_type": "execute_result",
          "data": {
            "text/plain": [
              "['Midwest', 'Northeast', 'West', 'South', 'Rest']\n",
              "Categories (5, object): ['Midwest', 'Northeast', 'Rest', 'South', 'West']"
            ]
          },
          "metadata": {},
          "execution_count": 136
        }
      ]
    },
    {
      "cell_type": "code",
      "source": [
        "df[\"region\"].value_counts()"
      ],
      "metadata": {
        "colab": {
          "base_uri": "https://localhost:8080/",
          "height": 0
        },
        "id": "IfrIzqeCM-H7",
        "outputId": "e0c3be13-2973-49f0-a34b-0cf44e6c960d"
      },
      "execution_count": 137,
      "outputs": [
        {
          "output_type": "execute_result",
          "data": {
            "text/plain": [
              "South        15652\n",
              "West          8717\n",
              "Midwest       8097\n",
              "Northeast     7234\n",
              "Rest           245\n",
              "Name: region, dtype: int64"
            ]
          },
          "metadata": {},
          "execution_count": 137
        }
      ]
    },
    {
      "cell_type": "markdown",
      "source": [
        "# Data Visualization"
      ],
      "metadata": {
        "id": "P7G_yQ7e7sOc"
      }
    },
    {
      "cell_type": "code",
      "source": [
        "# Customer with region Visualization\n",
        "sns.countplot(y='region',data=df)"
      ],
      "metadata": {
        "colab": {
          "base_uri": "https://localhost:8080/",
          "height": 296
        },
        "id": "gm-SI40Q70ZK",
        "outputId": "ac7a15cb-b4cd-4e39-a47b-052f8e9c6727"
      },
      "execution_count": 138,
      "outputs": [
        {
          "output_type": "execute_result",
          "data": {
            "text/plain": [
              "<matplotlib.axes._subplots.AxesSubplot at 0x7ff5921f35d0>"
            ]
          },
          "metadata": {},
          "execution_count": 138
        },
        {
          "output_type": "display_data",
          "data": {
            "text/plain": [
              "<Figure size 432x288 with 1 Axes>"
            ],
            "image/png": "[encoded data removed]"
          },
          "metadata": {
            "needs_background": "light"
          }
        }
      ]
    },
    {
      "cell_type": "markdown",
      "source": [
        "This bar graph represent the information cross ponding to customers count from different region. The highest count of customer belongs to south region that is 15676. The count of customers from midwest and west almost same with small difference that is 8107 from midwest and 8725 from west. The count of rest of region is 245."
      ],
      "metadata": {
        "id": "sQcFtW9oCuvS"
      }
    },
    {
      "cell_type": "code",
      "source": [
        "sns.countplot(x='gender', hue = 'car_probability', data = df)\n",
        "#plt.savefig('Car_prob Vs gender.jpg')"
      ],
      "metadata": {
        "colab": {
          "base_uri": "https://localhost:8080/",
          "height": 296
        },
        "id": "XQvn2nKB_ReV",
        "outputId": "3e09c0ba-1273-4ee0-958f-5ef872386ea2"
      },
      "execution_count": 139,
      "outputs": [
        {
          "output_type": "execute_result",
          "data": {
            "text/plain": [
              "<matplotlib.axes._subplots.AxesSubplot at 0x7ff5921d6c10>"
            ]
          },
          "metadata": {},
          "execution_count": 139
        },
        {
          "output_type": "display_data",
          "data": {
            "text/plain": [
              "<Figure size 432x288 with 1 Axes>"
            ],
            "image/png": "[encoded data removed]"
          },
          "metadata": {
            "needs_background": "light"
          }
        }
      ]
    },
    {
      "cell_type": "markdown",
      "source": [
        "This bar graph shows the information gender cross ponding car probability. This graph shows the count of female,male cross ponding to the count of car probability. As the car probability of 1 in both female,male is highest.And the probability of 4 to 9 cars in female,male is almost same.There are some unknown values in gender attribute the count of car probability is low as compared to male and female."
      ],
      "metadata": {
        "id": "W_gYj39rNtMm"
      }
    },
    {
      "cell_type": "code",
      "source": [
        "# Customer with occupation Visualization\n",
        "sns.countplot(y='occupation',data=df)"
      ],
      "metadata": {
        "colab": {
          "base_uri": "https://localhost:8080/",
          "height": 296
        },
        "id": "rUATR0ep8MVa",
        "outputId": "2de3ec3a-e45a-491d-f867-24619afe6262"
      },
      "execution_count": 140,
      "outputs": [
        {
          "output_type": "execute_result",
          "data": {
            "text/plain": [
              "<matplotlib.axes._subplots.AxesSubplot at 0x7ff59212da90>"
            ]
          },
          "metadata": {},
          "execution_count": 140
        },
        {
          "output_type": "display_data",
          "data": {
            "text/plain": [
              "<Figure size 432x288 with 1 Axes>"
            ],
            "image/png": "[encoded data removed]"
          },
          "metadata": {
            "needs_background": "light"
          }
        }
      ]
    },
    {
      "cell_type": "markdown",
      "source": [
        "This graph represent the information of customers occupation in different fields. As the highest count of customers count lies in the professional category that is 15000. the sales/service category is second highest category with 11500 count of customers. In blue collar the count of customer is 6300 and the count of customers in in farm and others is lowest as compared to other four categories."
      ],
      "metadata": {
        "id": "KbEuJOkBSXkX"
      }
    },
    {
      "cell_type": "code",
      "source": [
        "sns.countplot(x='online', hue = 'age', data = df) \n",
        "#plt.savefig('online Vs age.jpg')"
      ],
      "metadata": {
        "colab": {
          "base_uri": "https://localhost:8080/",
          "height": 296
        },
        "id": "-B7r0kUd_b-T",
        "outputId": "fc415f4e-1869-4a8c-afb3-854d1ad8006f"
      },
      "execution_count": 141,
      "outputs": [
        {
          "output_type": "execute_result",
          "data": {
            "text/plain": [
              "<matplotlib.axes._subplots.AxesSubplot at 0x7ff59203fad0>"
            ]
          },
          "metadata": {},
          "execution_count": 141
        },
        {
          "output_type": "display_data",
          "data": {
            "text/plain": [
              "<Figure size 432x288 with 1 Axes>"
            ],
            "image/png": "[encoded data removed]"
          },
          "metadata": {
            "needs_background": "light"
          }
        }
      ]
    },
    {
      "cell_type": "markdown",
      "source": [
        "This bar graph showes the information about how many customers have online shopping experience and how many do not have online shopping experience according to their age group. It is also seen that more customers have online shopping experience."
      ],
      "metadata": {
        "id": "x-GIYCgQYvuP"
      }
    },
    {
      "cell_type": "code",
      "source": [
        "df[\"flag\"].unique()"
      ],
      "metadata": {
        "colab": {
          "base_uri": "https://localhost:8080/",
          "height": 0
        },
        "id": "6-Zzqa5Wm3_G",
        "outputId": "4a47fe92-9cd4-40b2-d7d8-f128b74cc32c"
      },
      "execution_count": 142,
      "outputs": [
        {
          "output_type": "execute_result",
          "data": {
            "text/plain": [
              "['Y', 'N']\n",
              "Categories (2, object): ['N', 'Y']"
            ]
          },
          "metadata": {},
          "execution_count": 142
        }
      ]
    },
    {
      "cell_type": "code",
      "source": [
        "df[\"flag\"].value_counts()"
      ],
      "metadata": {
        "colab": {
          "base_uri": "https://localhost:8080/",
          "height": 0
        },
        "id": "snorljxQc4bJ",
        "outputId": "8e3be850-10ee-46c2-ca92-a61a7c040e42"
      },
      "execution_count": 143,
      "outputs": [
        {
          "output_type": "execute_result",
          "data": {
            "text/plain": [
              "Y    19986\n",
              "N    19959\n",
              "Name: flag, dtype: int64"
            ]
          },
          "metadata": {},
          "execution_count": 143
        }
      ]
    },
    {
      "cell_type": "code",
      "source": [
        "df[\"gender\"].unique()"
      ],
      "metadata": {
        "colab": {
          "base_uri": "https://localhost:8080/",
          "height": 0
        },
        "id": "qvFwzxwWjRPu",
        "outputId": "80963e98-aecb-46eb-b3a5-17e5eab4c0fb"
      },
      "execution_count": 144,
      "outputs": [
        {
          "output_type": "execute_result",
          "data": {
            "text/plain": [
              "['M', 'F', 'U']\n",
              "Categories (3, object): ['F', 'M', 'U']"
            ]
          },
          "metadata": {},
          "execution_count": 144
        }
      ]
    },
    {
      "cell_type": "code",
      "source": [
        "df[\"gender\"].value_counts()"
      ],
      "metadata": {
        "colab": {
          "base_uri": "https://localhost:8080/",
          "height": 0
        },
        "id": "rpcYi0XG6aZK",
        "outputId": "cc5a040e-748b-4f95-d985-d328257157b1"
      },
      "execution_count": 145,
      "outputs": [
        {
          "output_type": "execute_result",
          "data": {
            "text/plain": [
              "M    21997\n",
              "F    16799\n",
              "U     1149\n",
              "Name: gender, dtype: int64"
            ]
          },
          "metadata": {},
          "execution_count": 145
        }
      ]
    },
    {
      "cell_type": "code",
      "source": [
        "df[\"online\"].unique()"
      ],
      "metadata": {
        "colab": {
          "base_uri": "https://localhost:8080/",
          "height": 0
        },
        "id": "tICaKzBcB1H4",
        "outputId": "d62bc7f8-5b9e-4563-ed0e-92fbefe5e69d"
      },
      "execution_count": 146,
      "outputs": [
        {
          "output_type": "execute_result",
          "data": {
            "text/plain": [
              "['N', 'Y']\n",
              "Categories (2, object): ['N', 'Y']"
            ]
          },
          "metadata": {},
          "execution_count": 146
        }
      ]
    },
    {
      "cell_type": "code",
      "source": [
        "df[\"online\"].value_counts()"
      ],
      "metadata": {
        "colab": {
          "base_uri": "https://localhost:8080/",
          "height": 0
        },
        "id": "DRW_Tl5uCD_j",
        "outputId": "a78af4f1-f82d-43d3-cd26-2928f5d8a811"
      },
      "execution_count": 147,
      "outputs": [
        {
          "output_type": "execute_result",
          "data": {
            "text/plain": [
              "Y    27296\n",
              "N    12649\n",
              "Name: online, dtype: int64"
            ]
          },
          "metadata": {},
          "execution_count": 147
        }
      ]
    },
    {
      "cell_type": "code",
      "source": [
        "a = df.online.value_counts()\n",
        "#a.to_csv('a.csv')"
      ],
      "metadata": {
        "id": "v616W6CgzSfc"
      },
      "execution_count": 148,
      "outputs": []
    },
    {
      "cell_type": "code",
      "source": [
        "df['flag'] = df['flag'].cat.rename_categories({'Y': 1, 'N': 2}).astype(int)\n",
        "df['gender'] =df['gender'].cat.rename_categories({'M': 1, 'F': 2,'U':3}).astype(int)\n",
        "df['online'] =df['online'].cat.rename_categories({'N':2 , 'Y': 1}).astype(int)\n",
        "df['marriage'] =df['marriage'].cat.rename_categories({'Married':1 , 'Single': 2}).astype(int)\n",
        "df['occupation'] =df['occupation'].cat.rename_categories({'Professional':1,'Sales/Service':2,'Blue Collar':3,'Others':4,'Retired':5,'Farm':6}).astype(int)\n",
        "df['region'] =df['region'].cat.rename_categories({'Midwest':1,'Northeast':2,'West':3,'South':4,'Rest':5}).astype(int)\n",
        "df['family_income'] =df['family_income'].cat.rename_categories({'E':1,'F':2,'D':3,'G':4,'C':5,'H':6,'A':7,'B':8,'I':9,'J':10,'K':11,'U':12,'L':13}).astype(int)"
      ],
      "metadata": {
        "id": "Z2iHFlyrDQPN"
      },
      "execution_count": 149,
      "outputs": []
    },
    {
      "cell_type": "markdown",
      "source": [
        "# Recheck the Data type"
      ],
      "metadata": {
        "id": "Iddnwk1PGbdT"
      }
    },
    {
      "cell_type": "code",
      "source": [
        "df.dtypes"
      ],
      "metadata": {
        "colab": {
          "base_uri": "https://localhost:8080/",
          "height": 0
        },
        "id": "SaHoTL8aGfMD",
        "outputId": "35a8fe30-c472-4ff3-b438-1ac61104418e"
      },
      "execution_count": 150,
      "outputs": [
        {
          "output_type": "execute_result",
          "data": {
            "text/plain": [
              "flag                       int64\n",
              "gender                     int64\n",
              "house_value                int64\n",
              "age                       string\n",
              "online                     int64\n",
              "customer_psychology       object\n",
              "marriage                   int64\n",
              "occupation                 int64\n",
              "mortgage                category\n",
              "region                     int64\n",
              "car_probability            int64\n",
              "family_income              int64\n",
              "customer_psychology     category\n",
              "dtype: object"
            ]
          },
          "metadata": {},
          "execution_count": 150
        }
      ]
    },
    {
      "cell_type": "markdown",
      "source": [
        "# Checking the target varible is balance or imbalance"
      ],
      "metadata": {
        "id": "YoOc0LfhGwKl"
      }
    },
    {
      "cell_type": "code",
      "source": [
        "df[\"online\"].value_counts() # checking amount of values of target variable"
      ],
      "metadata": {
        "id": "at5CkYsdR-d-",
        "colab": {
          "base_uri": "https://localhost:8080/",
          "height": 0
        },
        "outputId": "f5da25e7-4866-4967-913b-a214e3dc2093"
      },
      "execution_count": 151,
      "outputs": [
        {
          "output_type": "execute_result",
          "data": {
            "text/plain": [
              "1    27296\n",
              "2    12649\n",
              "Name: online, dtype: int64"
            ]
          },
          "metadata": {},
          "execution_count": 151
        }
      ]
    },
    {
      "cell_type": "code",
      "source": [
        "df.dtypes"
      ],
      "metadata": {
        "id": "oaHX1_05H5-s",
        "colab": {
          "base_uri": "https://localhost:8080/",
          "height": 0
        },
        "outputId": "200ad025-8bf7-44a3-c761-1e5cddbfea76"
      },
      "execution_count": 152,
      "outputs": [
        {
          "output_type": "execute_result",
          "data": {
            "text/plain": [
              "flag                       int64\n",
              "gender                     int64\n",
              "house_value                int64\n",
              "age                       string\n",
              "online                     int64\n",
              "customer_psychology       object\n",
              "marriage                   int64\n",
              "occupation                 int64\n",
              "mortgage                category\n",
              "region                     int64\n",
              "car_probability            int64\n",
              "family_income              int64\n",
              "customer_psychology     category\n",
              "dtype: object"
            ]
          },
          "metadata": {},
          "execution_count": 152
        }
      ]
    },
    {
      "cell_type": "code",
      "source": [
        "df['Age'] = df['age'].str[0].astype(int)\n",
        "df['Mortgage'] = df['mortgage'].str[0].astype(int)"
      ],
      "metadata": {
        "id": "vo-FK-042fXi"
      },
      "execution_count": 153,
      "outputs": []
    },
    {
      "cell_type": "code",
      "source": [
        "df"
      ],
      "metadata": {
        "colab": {
          "base_uri": "https://localhost:8080/",
          "height": 488
        },
        "id": "aCPTsYt-Zn6z",
        "outputId": "0f43252d-24b8-4aba-9716-e3d4aa2ec09d"
      },
      "execution_count": 154,
      "outputs": [
        {
          "output_type": "execute_result",
          "data": {
            "text/plain": [
              "       flag  gender  house_value     age  online customer_psychology  \\\n",
              "0         1       1       756460   1_Unk       2                   B   \n",
              "1         2       2       213171   7_>65       2                   E   \n",
              "2         2       1       111147  2_<=25       1                   C   \n",
              "3         1       1       354151  2_<=25       1                   B   \n",
              "4         1       2       117087   1_Unk       1                   J   \n",
              "...     ...     ...          ...     ...     ...                 ...   \n",
              "39995     1       2            0   7_>65       1                   C   \n",
              "39996     2       2       213596  4_<=45       2                   I   \n",
              "39997     1       1       134070  3_<=35       1                   F   \n",
              "39998     2       1       402210   7_>65       1                   E   \n",
              "39999     2       2       836030   7_>65       1                   B   \n",
              "\n",
              "       marriage  occupation mortgage  region  car_probability  family_income  \\\n",
              "0             0           1     1Low       1                1             13   \n",
              "1             0           1     1Low       2                3              4   \n",
              "2             0           1     1Low       1                1             10   \n",
              "3             2           2     1Low       3                2             13   \n",
              "4             1           2     1Low       4                7              6   \n",
              "...         ...         ...      ...     ...              ...            ...   \n",
              "39995         0           5     1Low       4                3              2   \n",
              "39996         1           3     1Low       4                1              3   \n",
              "39997         1           2     1Low       1                4              1   \n",
              "39998         0           2     1Low       3                2              8   \n",
              "39999         1           5     2Med       2                1             10   \n",
              "\n",
              "      customer_psychology   Age  Mortgage  \n",
              "0                        B    1         1  \n",
              "1                        E    7         1  \n",
              "2                        C    2         1  \n",
              "3                        B    2         1  \n",
              "4                        J    1         1  \n",
              "...                    ...  ...       ...  \n",
              "39995                    C    7         1  \n",
              "39996                    I    4         1  \n",
              "39997                    F    3         1  \n",
              "39998                    E    7         1  \n",
              "39999                    B    7         2  \n",
              "\n",
              "[39945 rows x 15 columns]"
            ],
            "text/html": [
              "\n",
              "  <div id=\"df-cb4b316b-1ff7-4006-b203-566f695be814\">\n",
              "    <div class=\"colab-df-container\">\n",
              "      <div>\n",
              "<style scoped>\n",
              "    .dataframe tbody tr th:only-of-type {\n",
              "        vertical-align: middle;\n",
              "    }\n",
              "\n",
              "    .dataframe tbody tr th {\n",
              "        vertical-align: top;\n",
              "    }\n",
              "\n",
              "    .dataframe thead th {\n",
              "        text-align: right;\n",
              "    }\n",
              "</style>\n",
              "<table border=\"1\" class=\"dataframe\">\n",
              "  <thead>\n",
              "    <tr style=\"text-align: right;\">\n",
              "      <th></th>\n",
              "      <th>flag</th>\n",
              "      <th>gender</th>\n",
              "      <th>house_value</th>\n",
              "      <th>age</th>\n",
              "      <th>online</th>\n",
              "      <th>customer_psychology</th>\n",
              "      <th>marriage</th>\n",
              "      <th>occupation</th>\n",
              "      <th>mortgage</th>\n",
              "      <th>region</th>\n",
              "      <th>car_probability</th>\n",
              "      <th>family_income</th>\n",
              "      <th>customer_psychology</th>\n",
              "      <th>Age</th>\n",
              "      <th>Mortgage</th>\n",
              "    </tr>\n",
              "  </thead>\n",
              "  <tbody>\n",
              "    <tr>\n",
              "      <th>0</th>\n",
              "      <td>1</td>\n",
              "      <td>1</td>\n",
              "      <td>756460</td>\n",
              "      <td>1_Unk</td>\n",
              "      <td>2</td>\n",
              "      <td>B</td>\n",
              "      <td>0</td>\n",
              "      <td>1</td>\n",
              "      <td>1Low</td>\n",
              "      <td>1</td>\n",
              "      <td>1</td>\n",
              "      <td>13</td>\n",
              "      <td>B</td>\n",
              "      <td>1</td>\n",
              "      <td>1</td>\n",
              "    </tr>\n",
              "    <tr>\n",
              "      <th>1</th>\n",
              "      <td>2</td>\n",
              "      <td>2</td>\n",
              "      <td>213171</td>\n",
              "      <td>7_&gt;65</td>\n",
              "      <td>2</td>\n",
              "      <td>E</td>\n",
              "      <td>0</td>\n",
              "      <td>1</td>\n",
              "      <td>1Low</td>\n",
              "      <td>2</td>\n",
              "      <td>3</td>\n",
              "      <td>4</td>\n",
              "      <td>E</td>\n",
              "      <td>7</td>\n",
              "      <td>1</td>\n",
              "    </tr>\n",
              "    <tr>\n",
              "      <th>2</th>\n",
              "      <td>2</td>\n",
              "      <td>1</td>\n",
              "      <td>111147</td>\n",
              "      <td>2_&lt;=25</td>\n",
              "      <td>1</td>\n",
              "      <td>C</td>\n",
              "      <td>0</td>\n",
              "      <td>1</td>\n",
              "      <td>1Low</td>\n",
              "      <td>1</td>\n",
              "      <td>1</td>\n",
              "      <td>10</td>\n",
              "      <td>C</td>\n",
              "      <td>2</td>\n",
              "      <td>1</td>\n",
              "    </tr>\n",
              "    <tr>\n",
              "      <th>3</th>\n",
              "      <td>1</td>\n",
              "      <td>1</td>\n",
              "      <td>354151</td>\n",
              "      <td>2_&lt;=25</td>\n",
              "      <td>1</td>\n",
              "      <td>B</td>\n",
              "      <td>2</td>\n",
              "      <td>2</td>\n",
              "      <td>1Low</td>\n",
              "      <td>3</td>\n",
              "      <td>2</td>\n",
              "      <td>13</td>\n",
              "      <td>B</td>\n",
              "      <td>2</td>\n",
              "      <td>1</td>\n",
              "    </tr>\n",
              "    <tr>\n",
              "      <th>4</th>\n",
              "      <td>1</td>\n",
              "      <td>2</td>\n",
              "      <td>117087</td>\n",
              "      <td>1_Unk</td>\n",
              "      <td>1</td>\n",
              "      <td>J</td>\n",
              "      <td>1</td>\n",
              "      <td>2</td>\n",
              "      <td>1Low</td>\n",
              "      <td>4</td>\n",
              "      <td>7</td>\n",
              "      <td>6</td>\n",
              "      <td>J</td>\n",
              "      <td>1</td>\n",
              "      <td>1</td>\n",
              "    </tr>\n",
              "    <tr>\n",
              "      <th>...</th>\n",
              "      <td>...</td>\n",
              "      <td>...</td>\n",
              "      <td>...</td>\n",
              "      <td>...</td>\n",
              "      <td>...</td>\n",
              "      <td>...</td>\n",
              "      <td>...</td>\n",
              "      <td>...</td>\n",
              "      <td>...</td>\n",
              "      <td>...</td>\n",
              "      <td>...</td>\n",
              "      <td>...</td>\n",
              "      <td>...</td>\n",
              "      <td>...</td>\n",
              "      <td>...</td>\n",
              "    </tr>\n",
              "    <tr>\n",
              "      <th>39995</th>\n",
              "      <td>1</td>\n",
              "      <td>2</td>\n",
              "      <td>0</td>\n",
              "      <td>7_&gt;65</td>\n",
              "      <td>1</td>\n",
              "      <td>C</td>\n",
              "      <td>0</td>\n",
              "      <td>5</td>\n",
              "      <td>1Low</td>\n",
              "      <td>4</td>\n",
              "      <td>3</td>\n",
              "      <td>2</td>\n",
              "      <td>C</td>\n",
              "      <td>7</td>\n",
              "      <td>1</td>\n",
              "    </tr>\n",
              "    <tr>\n",
              "      <th>39996</th>\n",
              "      <td>2</td>\n",
              "      <td>2</td>\n",
              "      <td>213596</td>\n",
              "      <td>4_&lt;=45</td>\n",
              "      <td>2</td>\n",
              "      <td>I</td>\n",
              "      <td>1</td>\n",
              "      <td>3</td>\n",
              "      <td>1Low</td>\n",
              "      <td>4</td>\n",
              "      <td>1</td>\n",
              "      <td>3</td>\n",
              "      <td>I</td>\n",
              "      <td>4</td>\n",
              "      <td>1</td>\n",
              "    </tr>\n",
              "    <tr>\n",
              "      <th>39997</th>\n",
              "      <td>1</td>\n",
              "      <td>1</td>\n",
              "      <td>134070</td>\n",
              "      <td>3_&lt;=35</td>\n",
              "      <td>1</td>\n",
              "      <td>F</td>\n",
              "      <td>1</td>\n",
              "      <td>2</td>\n",
              "      <td>1Low</td>\n",
              "      <td>1</td>\n",
              "      <td>4</td>\n",
              "      <td>1</td>\n",
              "      <td>F</td>\n",
              "      <td>3</td>\n",
              "      <td>1</td>\n",
              "    </tr>\n",
              "    <tr>\n",
              "      <th>39998</th>\n",
              "      <td>2</td>\n",
              "      <td>1</td>\n",
              "      <td>402210</td>\n",
              "      <td>7_&gt;65</td>\n",
              "      <td>1</td>\n",
              "      <td>E</td>\n",
              "      <td>0</td>\n",
              "      <td>2</td>\n",
              "      <td>1Low</td>\n",
              "      <td>3</td>\n",
              "      <td>2</td>\n",
              "      <td>8</td>\n",
              "      <td>E</td>\n",
              "      <td>7</td>\n",
              "      <td>1</td>\n",
              "    </tr>\n",
              "    <tr>\n",
              "      <th>39999</th>\n",
              "      <td>2</td>\n",
              "      <td>2</td>\n",
              "      <td>836030</td>\n",
              "      <td>7_&gt;65</td>\n",
              "      <td>1</td>\n",
              "      <td>B</td>\n",
              "      <td>1</td>\n",
              "      <td>5</td>\n",
              "      <td>2Med</td>\n",
              "      <td>2</td>\n",
              "      <td>1</td>\n",
              "      <td>10</td>\n",
              "      <td>B</td>\n",
              "      <td>7</td>\n",
              "      <td>2</td>\n",
              "    </tr>\n",
              "  </tbody>\n",
              "</table>\n",
              "<p>39945 rows × 15 columns</p>\n",
              "</div>\n",
              "      <button class=\"colab-df-convert\" onclick=\"convertToInteractive('df-cb4b316b-1ff7-4006-b203-566f695be814')\"\n",
              "              title=\"Convert this dataframe to an interactive table.\"\n",
              "              style=\"display:none;\">\n",
              "        \n",
              "  <svg xmlns=\"http://www.w3.org/2000/svg\" height=\"24px\"viewBox=\"0 0 24 24\"\n",
              "       width=\"24px\">\n",
              "    <path d=\"M0 0h24v24H0V0z\" fill=\"none\"/>\n",
              "    <path d=\"M18.56 5.44l.94 2.06.94-2.06 2.06-.94-2.06-.94-.94-2.06-.94 2.06-2.06.94zm-11 1L8.5 8.5l.94-2.06 2.06-.94-2.06-.94L8.5 2.5l-.94 2.06-2.06.94zm10 10l.94 2.06.94-2.06 2.06-.94-2.06-.94-.94-2.06-.94 2.06-2.06.94z\"/><path d=\"M17.41 7.96l-1.37-1.37c-.4-.4-.92-.59-1.43-.59-.52 0-1.04.2-1.43.59L10.3 9.45l-7.72 7.72c-.78.78-.78 2.05 0 2.83L4 21.41c.39.39.9.59 1.41.59.51 0 1.02-.2 1.41-.59l7.78-7.78 2.81-2.81c.8-.78.8-2.07 0-2.86zM5.41 20L4 18.59l7.72-7.72 1.47 1.35L5.41 20z\"/>\n",
              "  </svg>\n",
              "      </button>\n",
              "      \n",
              "  <style>\n",
              "    .colab-df-container {\n",
              "      display:flex;\n",
              "      flex-wrap:wrap;\n",
              "      gap: 12px;\n",
              "    }\n",
              "\n",
              "    .colab-df-convert {\n",
              "      background-color: #E8F0FE;\n",
              "      border: none;\n",
              "      border-radius: 50%;\n",
              "      cursor: pointer;\n",
              "      display: none;\n",
              "      fill: #1967D2;\n",
              "      height: 32px;\n",
              "      padding: 0 0 0 0;\n",
              "      width: 32px;\n",
              "    }\n",
              "\n",
              "    .colab-df-convert:hover {\n",
              "      background-color: #E2EBFA;\n",
              "      box-shadow: 0px 1px 2px rgba(60, 64, 67, 0.3), 0px 1px 3px 1px rgba(60, 64, 67, 0.15);\n",
              "      fill: #174EA6;\n",
              "    }\n",
              "\n",
              "    [theme=dark] .colab-df-convert {\n",
              "      background-color: #3B4455;\n",
              "      fill: #D2E3FC;\n",
              "    }\n",
              "\n",
              "    [theme=dark] .colab-df-convert:hover {\n",
              "      background-color: #434B5C;\n",
              "      box-shadow: 0px 1px 3px 1px rgba(0, 0, 0, 0.15);\n",
              "      filter: drop-shadow(0px 1px 2px rgba(0, 0, 0, 0.3));\n",
              "      fill: #FFFFFF;\n",
              "    }\n",
              "  </style>\n",
              "\n",
              "      <script>\n",
              "        const buttonEl =\n",
              "          document.querySelector('#df-cb4b316b-1ff7-4006-b203-566f695be814 button.colab-df-convert');\n",
              "        buttonEl.style.display =\n",
              "          google.colab.kernel.accessAllowed ? 'block' : 'none';\n",
              "\n",
              "        async function convertToInteractive(key) {\n",
              "          const element = document.querySelector('#df-cb4b316b-1ff7-4006-b203-566f695be814');\n",
              "          const dataTable =\n",
              "            await google.colab.kernel.invokeFunction('convertToInteractive',\n",
              "                                                     [key], {});\n",
              "          if (!dataTable) return;\n",
              "\n",
              "          const docLinkHtml = 'Like what you see? Visit the ' +\n",
              "            '<a target=\"_blank\" href=https://colab.research.google.com/notebooks/data_table.ipynb>data table notebook</a>'\n",
              "            + ' to learn more about interactive tables.';\n",
              "          element.innerHTML = '';\n",
              "          dataTable['output_type'] = 'display_data';\n",
              "          await google.colab.output.renderOutput(dataTable, element);\n",
              "          const docLink = document.createElement('div');\n",
              "          docLink.innerHTML = docLinkHtml;\n",
              "          element.appendChild(docLink);\n",
              "        }\n",
              "      </script>\n",
              "    </div>\n",
              "  </div>\n",
              "  "
            ]
          },
          "metadata": {},
          "execution_count": 154
        }
      ]
    },
    {
      "cell_type": "markdown",
      "source": [
        "# Rearrange the Attributes"
      ],
      "metadata": {
        "id": "bApFQrXyHll5"
      }
    },
    {
      "cell_type": "code",
      "source": [
        "df=df.reindex(columns= ['flag', 'gender', 'house_value', 'Age',\n",
        "        'marriage', 'occupation', 'Mortgage',\n",
        "     'region', 'car_probability', 'family_income','online'])# rearrange columns for easy to progress\n",
        "print(df)"
      ],
      "metadata": {
        "id": "rZD9kDC0XqnL",
        "colab": {
          "base_uri": "https://localhost:8080/",
          "height": 0
        },
        "outputId": "f112a36a-5a0e-4a79-a3c2-7a1f84f9aa79"
      },
      "execution_count": 155,
      "outputs": [
        {
          "output_type": "stream",
          "name": "stdout",
          "text": [
            "       flag  gender  house_value  Age  marriage  occupation  Mortgage  region  \\\n",
            "0         1       1       756460    1         0           1         1       1   \n",
            "1         2       2       213171    7         0           1         1       2   \n",
            "2         2       1       111147    2         0           1         1       1   \n",
            "3         1       1       354151    2         2           2         1       3   \n",
            "4         1       2       117087    1         1           2         1       4   \n",
            "...     ...     ...          ...  ...       ...         ...       ...     ...   \n",
            "39995     1       2            0    7         0           5         1       4   \n",
            "39996     2       2       213596    4         1           3         1       4   \n",
            "39997     1       1       134070    3         1           2         1       1   \n",
            "39998     2       1       402210    7         0           2         1       3   \n",
            "39999     2       2       836030    7         1           5         2       2   \n",
            "\n",
            "       car_probability  family_income  online  \n",
            "0                    1             13       2  \n",
            "1                    3              4       2  \n",
            "2                    1             10       1  \n",
            "3                    2             13       1  \n",
            "4                    7              6       1  \n",
            "...                ...            ...     ...  \n",
            "39995                3              2       1  \n",
            "39996                1              3       2  \n",
            "39997                4              1       1  \n",
            "39998                2              8       1  \n",
            "39999                1             10       1  \n",
            "\n",
            "[39945 rows x 11 columns]\n"
          ]
        }
      ]
    },
    {
      "cell_type": "markdown",
      "source": [
        "# Separating the independent Variables from the Dependent Variables"
      ],
      "metadata": {
        "id": "ylCguOoKctqa"
      }
    },
    {
      "cell_type": "code",
      "source": [
        "x = df.iloc[:,:-1] # independent variables\n",
        "y = df.iloc[:,-1]  # dependent variable"
      ],
      "metadata": {
        "id": "LDk0_pOB3iyn"
      },
      "execution_count": 156,
      "outputs": []
    },
    {
      "cell_type": "markdown",
      "source": [
        "# Show only independent Variables"
      ],
      "metadata": {
        "id": "8eIe8UX2dV6B"
      }
    },
    {
      "cell_type": "code",
      "source": [
        "x.head(4) # print first 4 rows of independence"
      ],
      "metadata": {
        "id": "Wj_iNHol3i1P",
        "colab": {
          "base_uri": "https://localhost:8080/",
          "height": 239
        },
        "outputId": "c8094fb2-b1d3-4c6a-96b1-c24a364c6efc"
      },
      "execution_count": 157,
      "outputs": [
        {
          "output_type": "execute_result",
          "data": {
            "text/plain": [
              "   flag  gender  house_value  Age  marriage  occupation  Mortgage  region  \\\n",
              "0     1       1       756460    1         0           1         1       1   \n",
              "1     2       2       213171    7         0           1         1       2   \n",
              "2     2       1       111147    2         0           1         1       1   \n",
              "3     1       1       354151    2         2           2         1       3   \n",
              "\n",
              "   car_probability  family_income  \n",
              "0                1             13  \n",
              "1                3              4  \n",
              "2                1             10  \n",
              "3                2             13  "
            ],
            "text/html": [
              "\n",
              "  <div id=\"df-0d6bb599-cc54-4631-93c4-775289e6aa16\">\n",
              "    <div class=\"colab-df-container\">\n",
              "      <div>\n",
              "<style scoped>\n",
              "    .dataframe tbody tr th:only-of-type {\n",
              "        vertical-align: middle;\n",
              "    }\n",
              "\n",
              "    .dataframe tbody tr th {\n",
              "        vertical-align: top;\n",
              "    }\n",
              "\n",
              "    .dataframe thead th {\n",
              "        text-align: right;\n",
              "    }\n",
              "</style>\n",
              "<table border=\"1\" class=\"dataframe\">\n",
              "  <thead>\n",
              "    <tr style=\"text-align: right;\">\n",
              "      <th></th>\n",
              "      <th>flag</th>\n",
              "      <th>gender</th>\n",
              "      <th>house_value</th>\n",
              "      <th>Age</th>\n",
              "      <th>marriage</th>\n",
              "      <th>occupation</th>\n",
              "      <th>Mortgage</th>\n",
              "      <th>region</th>\n",
              "      <th>car_probability</th>\n",
              "      <th>family_income</th>\n",
              "    </tr>\n",
              "  </thead>\n",
              "  <tbody>\n",
              "    <tr>\n",
              "      <th>0</th>\n",
              "      <td>1</td>\n",
              "      <td>1</td>\n",
              "      <td>756460</td>\n",
              "      <td>1</td>\n",
              "      <td>0</td>\n",
              "      <td>1</td>\n",
              "      <td>1</td>\n",
              "      <td>1</td>\n",
              "      <td>1</td>\n",
              "      <td>13</td>\n",
              "    </tr>\n",
              "    <tr>\n",
              "      <th>1</th>\n",
              "      <td>2</td>\n",
              "      <td>2</td>\n",
              "      <td>213171</td>\n",
              "      <td>7</td>\n",
              "      <td>0</td>\n",
              "      <td>1</td>\n",
              "      <td>1</td>\n",
              "      <td>2</td>\n",
              "      <td>3</td>\n",
              "      <td>4</td>\n",
              "    </tr>\n",
              "    <tr>\n",
              "      <th>2</th>\n",
              "      <td>2</td>\n",
              "      <td>1</td>\n",
              "      <td>111147</td>\n",
              "      <td>2</td>\n",
              "      <td>0</td>\n",
              "      <td>1</td>\n",
              "      <td>1</td>\n",
              "      <td>1</td>\n",
              "      <td>1</td>\n",
              "      <td>10</td>\n",
              "    </tr>\n",
              "    <tr>\n",
              "      <th>3</th>\n",
              "      <td>1</td>\n",
              "      <td>1</td>\n",
              "      <td>354151</td>\n",
              "      <td>2</td>\n",
              "      <td>2</td>\n",
              "      <td>2</td>\n",
              "      <td>1</td>\n",
              "      <td>3</td>\n",
              "      <td>2</td>\n",
              "      <td>13</td>\n",
              "    </tr>\n",
              "  </tbody>\n",
              "</table>\n",
              "</div>\n",
              "      <button class=\"colab-df-convert\" onclick=\"convertToInteractive('df-0d6bb599-cc54-4631-93c4-775289e6aa16')\"\n",
              "              title=\"Convert this dataframe to an interactive table.\"\n",
              "              style=\"display:none;\">\n",
              "        \n",
              "  <svg xmlns=\"http://www.w3.org/2000/svg\" height=\"24px\"viewBox=\"0 0 24 24\"\n",
              "       width=\"24px\">\n",
              "    <path d=\"M0 0h24v24H0V0z\" fill=\"none\"/>\n",
              "    <path d=\"M18.56 5.44l.94 2.06.94-2.06 2.06-.94-2.06-.94-.94-2.06-.94 2.06-2.06.94zm-11 1L8.5 8.5l.94-2.06 2.06-.94-2.06-.94L8.5 2.5l-.94 2.06-2.06.94zm10 10l.94 2.06.94-2.06 2.06-.94-2.06-.94-.94-2.06-.94 2.06-2.06.94z\"/><path d=\"M17.41 7.96l-1.37-1.37c-.4-.4-.92-.59-1.43-.59-.52 0-1.04.2-1.43.59L10.3 9.45l-7.72 7.72c-.78.78-.78 2.05 0 2.83L4 21.41c.39.39.9.59 1.41.59.51 0 1.02-.2 1.41-.59l7.78-7.78 2.81-2.81c.8-.78.8-2.07 0-2.86zM5.41 20L4 18.59l7.72-7.72 1.47 1.35L5.41 20z\"/>\n",
              "  </svg>\n",
              "      </button>\n",
              "      \n",
              "  <style>\n",
              "    .colab-df-container {\n",
              "      display:flex;\n",
              "      flex-wrap:wrap;\n",
              "      gap: 12px;\n",
              "    }\n",
              "\n",
              "    .colab-df-convert {\n",
              "      background-color: #E8F0FE;\n",
              "      border: none;\n",
              "      border-radius: 50%;\n",
              "      cursor: pointer;\n",
              "      display: none;\n",
              "      fill: #1967D2;\n",
              "      height: 32px;\n",
              "      padding: 0 0 0 0;\n",
              "      width: 32px;\n",
              "    }\n",
              "\n",
              "    .colab-df-convert:hover {\n",
              "      background-color: #E2EBFA;\n",
              "      box-shadow: 0px 1px 2px rgba(60, 64, 67, 0.3), 0px 1px 3px 1px rgba(60, 64, 67, 0.15);\n",
              "      fill: #174EA6;\n",
              "    }\n",
              "\n",
              "    [theme=dark] .colab-df-convert {\n",
              "      background-color: #3B4455;\n",
              "      fill: #D2E3FC;\n",
              "    }\n",
              "\n",
              "    [theme=dark] .colab-df-convert:hover {\n",
              "      background-color: #434B5C;\n",
              "      box-shadow: 0px 1px 3px 1px rgba(0, 0, 0, 0.15);\n",
              "      filter: drop-shadow(0px 1px 2px rgba(0, 0, 0, 0.3));\n",
              "      fill: #FFFFFF;\n",
              "    }\n",
              "  </style>\n",
              "\n",
              "      <script>\n",
              "        const buttonEl =\n",
              "          document.querySelector('#df-0d6bb599-cc54-4631-93c4-775289e6aa16 button.colab-df-convert');\n",
              "        buttonEl.style.display =\n",
              "          google.colab.kernel.accessAllowed ? 'block' : 'none';\n",
              "\n",
              "        async function convertToInteractive(key) {\n",
              "          const element = document.querySelector('#df-0d6bb599-cc54-4631-93c4-775289e6aa16');\n",
              "          const dataTable =\n",
              "            await google.colab.kernel.invokeFunction('convertToInteractive',\n",
              "                                                     [key], {});\n",
              "          if (!dataTable) return;\n",
              "\n",
              "          const docLinkHtml = 'Like what you see? Visit the ' +\n",
              "            '<a target=\"_blank\" href=https://colab.research.google.com/notebooks/data_table.ipynb>data table notebook</a>'\n",
              "            + ' to learn more about interactive tables.';\n",
              "          element.innerHTML = '';\n",
              "          dataTable['output_type'] = 'display_data';\n",
              "          await google.colab.output.renderOutput(dataTable, element);\n",
              "          const docLink = document.createElement('div');\n",
              "          docLink.innerHTML = docLinkHtml;\n",
              "          element.appendChild(docLink);\n",
              "        }\n",
              "      </script>\n",
              "    </div>\n",
              "  </div>\n",
              "  "
            ]
          },
          "metadata": {},
          "execution_count": 157
        }
      ]
    },
    {
      "cell_type": "markdown",
      "source": [
        "# It show ten records corresponding response varibles"
      ],
      "metadata": {
        "id": "PKSAtTAid3s8"
      }
    },
    {
      "cell_type": "code",
      "source": [
        "y.head(10) #print first 10 rows of dependence variable"
      ],
      "metadata": {
        "id": "wUA_wWxd3i3i",
        "colab": {
          "base_uri": "https://localhost:8080/",
          "height": 0
        },
        "outputId": "5fc13ffd-9c02-4418-b8da-78d2666e6d9d"
      },
      "execution_count": 158,
      "outputs": [
        {
          "output_type": "execute_result",
          "data": {
            "text/plain": [
              "0    2\n",
              "1    2\n",
              "2    1\n",
              "3    1\n",
              "4    1\n",
              "5    1\n",
              "6    1\n",
              "7    1\n",
              "8    1\n",
              "9    1\n",
              "Name: online, dtype: int64"
            ]
          },
          "metadata": {},
          "execution_count": 158
        }
      ]
    },
    {
      "cell_type": "markdown",
      "source": [
        "# train-test-split method"
      ],
      "metadata": {
        "id": "upK1_HC2fAwu"
      }
    },
    {
      "cell_type": "code",
      "source": [
        "from sklearn.model_selection import train_test_split # train test split package"
      ],
      "metadata": {
        "id": "ohLY_Lrs3i6K"
      },
      "execution_count": 159,
      "outputs": []
    },
    {
      "cell_type": "markdown",
      "source": [
        "# With random state"
      ],
      "metadata": {
        "id": "3PQtAKkZfc5F"
      }
    },
    {
      "cell_type": "code",
      "source": [
        "x_train, x_test, y_train, y_test = train_test_split(x,y,test_size=0.30,random_state=4) # train independent , y target, response"
      ],
      "metadata": {
        "id": "DEKWhr_T3i8r"
      },
      "execution_count": 160,
      "outputs": []
    },
    {
      "cell_type": "code",
      "source": [
        "x"
      ],
      "metadata": {
        "id": "Pk_qE5LOmhEp",
        "colab": {
          "base_uri": "https://localhost:8080/",
          "height": 488
        },
        "outputId": "752b8500-c72b-497c-92a6-9db5857a85ae"
      },
      "execution_count": 161,
      "outputs": [
        {
          "output_type": "execute_result",
          "data": {
            "text/plain": [
              "       flag  gender  house_value  Age  marriage  occupation  Mortgage  region  \\\n",
              "0         1       1       756460    1         0           1         1       1   \n",
              "1         2       2       213171    7         0           1         1       2   \n",
              "2         2       1       111147    2         0           1         1       1   \n",
              "3         1       1       354151    2         2           2         1       3   \n",
              "4         1       2       117087    1         1           2         1       4   \n",
              "...     ...     ...          ...  ...       ...         ...       ...     ...   \n",
              "39995     1       2            0    7         0           5         1       4   \n",
              "39996     2       2       213596    4         1           3         1       4   \n",
              "39997     1       1       134070    3         1           2         1       1   \n",
              "39998     2       1       402210    7         0           2         1       3   \n",
              "39999     2       2       836030    7         1           5         2       2   \n",
              "\n",
              "       car_probability  family_income  \n",
              "0                    1             13  \n",
              "1                    3              4  \n",
              "2                    1             10  \n",
              "3                    2             13  \n",
              "4                    7              6  \n",
              "...                ...            ...  \n",
              "39995                3              2  \n",
              "39996                1              3  \n",
              "39997                4              1  \n",
              "39998                2              8  \n",
              "39999                1             10  \n",
              "\n",
              "[39945 rows x 10 columns]"
            ],
            "text/html": [
              "\n",
              "  <div id=\"df-9cf0541d-6108-456e-8a8d-8975981fa018\">\n",
              "    <div class=\"colab-df-container\">\n",
              "      <div>\n",
              "<style scoped>\n",
              "    .dataframe tbody tr th:only-of-type {\n",
              "        vertical-align: middle;\n",
              "    }\n",
              "\n",
              "    .dataframe tbody tr th {\n",
              "        vertical-align: top;\n",
              "    }\n",
              "\n",
              "    .dataframe thead th {\n",
              "        text-align: right;\n",
              "    }\n",
              "</style>\n",
              "<table border=\"1\" class=\"dataframe\">\n",
              "  <thead>\n",
              "    <tr style=\"text-align: right;\">\n",
              "      <th></th>\n",
              "      <th>flag</th>\n",
              "      <th>gender</th>\n",
              "      <th>house_value</th>\n",
              "      <th>Age</th>\n",
              "      <th>marriage</th>\n",
              "      <th>occupation</th>\n",
              "      <th>Mortgage</th>\n",
              "      <th>region</th>\n",
              "      <th>car_probability</th>\n",
              "      <th>family_income</th>\n",
              "    </tr>\n",
              "  </thead>\n",
              "  <tbody>\n",
              "    <tr>\n",
              "      <th>0</th>\n",
              "      <td>1</td>\n",
              "      <td>1</td>\n",
              "      <td>756460</td>\n",
              "      <td>1</td>\n",
              "      <td>0</td>\n",
              "      <td>1</td>\n",
              "      <td>1</td>\n",
              "      <td>1</td>\n",
              "      <td>1</td>\n",
              "      <td>13</td>\n",
              "    </tr>\n",
              "    <tr>\n",
              "      <th>1</th>\n",
              "      <td>2</td>\n",
              "      <td>2</td>\n",
              "      <td>213171</td>\n",
              "      <td>7</td>\n",
              "      <td>0</td>\n",
              "      <td>1</td>\n",
              "      <td>1</td>\n",
              "      <td>2</td>\n",
              "      <td>3</td>\n",
              "      <td>4</td>\n",
              "    </tr>\n",
              "    <tr>\n",
              "      <th>2</th>\n",
              "      <td>2</td>\n",
              "      <td>1</td>\n",
              "      <td>111147</td>\n",
              "      <td>2</td>\n",
              "      <td>0</td>\n",
              "      <td>1</td>\n",
              "      <td>1</td>\n",
              "      <td>1</td>\n",
              "      <td>1</td>\n",
              "      <td>10</td>\n",
              "    </tr>\n",
              "    <tr>\n",
              "      <th>3</th>\n",
              "      <td>1</td>\n",
              "      <td>1</td>\n",
              "      <td>354151</td>\n",
              "      <td>2</td>\n",
              "      <td>2</td>\n",
              "      <td>2</td>\n",
              "      <td>1</td>\n",
              "      <td>3</td>\n",
              "      <td>2</td>\n",
              "      <td>13</td>\n",
              "    </tr>\n",
              "    <tr>\n",
              "      <th>4</th>\n",
              "      <td>1</td>\n",
              "      <td>2</td>\n",
              "      <td>117087</td>\n",
              "      <td>1</td>\n",
              "      <td>1</td>\n",
              "      <td>2</td>\n",
              "      <td>1</td>\n",
              "      <td>4</td>\n",
              "      <td>7</td>\n",
              "      <td>6</td>\n",
              "    </tr>\n",
              "    <tr>\n",
              "      <th>...</th>\n",
              "      <td>...</td>\n",
              "      <td>...</td>\n",
              "      <td>...</td>\n",
              "      <td>...</td>\n",
              "      <td>...</td>\n",
              "      <td>...</td>\n",
              "      <td>...</td>\n",
              "      <td>...</td>\n",
              "      <td>...</td>\n",
              "      <td>...</td>\n",
              "    </tr>\n",
              "    <tr>\n",
              "      <th>39995</th>\n",
              "      <td>1</td>\n",
              "      <td>2</td>\n",
              "      <td>0</td>\n",
              "      <td>7</td>\n",
              "      <td>0</td>\n",
              "      <td>5</td>\n",
              "      <td>1</td>\n",
              "      <td>4</td>\n",
              "      <td>3</td>\n",
              "      <td>2</td>\n",
              "    </tr>\n",
              "    <tr>\n",
              "      <th>39996</th>\n",
              "      <td>2</td>\n",
              "      <td>2</td>\n",
              "      <td>213596</td>\n",
              "      <td>4</td>\n",
              "      <td>1</td>\n",
              "      <td>3</td>\n",
              "      <td>1</td>\n",
              "      <td>4</td>\n",
              "      <td>1</td>\n",
              "      <td>3</td>\n",
              "    </tr>\n",
              "    <tr>\n",
              "      <th>39997</th>\n",
              "      <td>1</td>\n",
              "      <td>1</td>\n",
              "      <td>134070</td>\n",
              "      <td>3</td>\n",
              "      <td>1</td>\n",
              "      <td>2</td>\n",
              "      <td>1</td>\n",
              "      <td>1</td>\n",
              "      <td>4</td>\n",
              "      <td>1</td>\n",
              "    </tr>\n",
              "    <tr>\n",
              "      <th>39998</th>\n",
              "      <td>2</td>\n",
              "      <td>1</td>\n",
              "      <td>402210</td>\n",
              "      <td>7</td>\n",
              "      <td>0</td>\n",
              "      <td>2</td>\n",
              "      <td>1</td>\n",
              "      <td>3</td>\n",
              "      <td>2</td>\n",
              "      <td>8</td>\n",
              "    </tr>\n",
              "    <tr>\n",
              "      <th>39999</th>\n",
              "      <td>2</td>\n",
              "      <td>2</td>\n",
              "      <td>836030</td>\n",
              "      <td>7</td>\n",
              "      <td>1</td>\n",
              "      <td>5</td>\n",
              "      <td>2</td>\n",
              "      <td>2</td>\n",
              "      <td>1</td>\n",
              "      <td>10</td>\n",
              "    </tr>\n",
              "  </tbody>\n",
              "</table>\n",
              "<p>39945 rows × 10 columns</p>\n",
              "</div>\n",
              "      <button class=\"colab-df-convert\" onclick=\"convertToInteractive('df-9cf0541d-6108-456e-8a8d-8975981fa018')\"\n",
              "              title=\"Convert this dataframe to an interactive table.\"\n",
              "              style=\"display:none;\">\n",
              "        \n",
              "  <svg xmlns=\"http://www.w3.org/2000/svg\" height=\"24px\"viewBox=\"0 0 24 24\"\n",
              "       width=\"24px\">\n",
              "    <path d=\"M0 0h24v24H0V0z\" fill=\"none\"/>\n",
              "    <path d=\"M18.56 5.44l.94 2.06.94-2.06 2.06-.94-2.06-.94-.94-2.06-.94 2.06-2.06.94zm-11 1L8.5 8.5l.94-2.06 2.06-.94-2.06-.94L8.5 2.5l-.94 2.06-2.06.94zm10 10l.94 2.06.94-2.06 2.06-.94-2.06-.94-.94-2.06-.94 2.06-2.06.94z\"/><path d=\"M17.41 7.96l-1.37-1.37c-.4-.4-.92-.59-1.43-.59-.52 0-1.04.2-1.43.59L10.3 9.45l-7.72 7.72c-.78.78-.78 2.05 0 2.83L4 21.41c.39.39.9.59 1.41.59.51 0 1.02-.2 1.41-.59l7.78-7.78 2.81-2.81c.8-.78.8-2.07 0-2.86zM5.41 20L4 18.59l7.72-7.72 1.47 1.35L5.41 20z\"/>\n",
              "  </svg>\n",
              "      </button>\n",
              "      \n",
              "  <style>\n",
              "    .colab-df-container {\n",
              "      display:flex;\n",
              "      flex-wrap:wrap;\n",
              "      gap: 12px;\n",
              "    }\n",
              "\n",
              "    .colab-df-convert {\n",
              "      background-color: #E8F0FE;\n",
              "      border: none;\n",
              "      border-radius: 50%;\n",
              "      cursor: pointer;\n",
              "      display: none;\n",
              "      fill: #1967D2;\n",
              "      height: 32px;\n",
              "      padding: 0 0 0 0;\n",
              "      width: 32px;\n",
              "    }\n",
              "\n",
              "    .colab-df-convert:hover {\n",
              "      background-color: #E2EBFA;\n",
              "      box-shadow: 0px 1px 2px rgba(60, 64, 67, 0.3), 0px 1px 3px 1px rgba(60, 64, 67, 0.15);\n",
              "      fill: #174EA6;\n",
              "    }\n",
              "\n",
              "    [theme=dark] .colab-df-convert {\n",
              "      background-color: #3B4455;\n",
              "      fill: #D2E3FC;\n",
              "    }\n",
              "\n",
              "    [theme=dark] .colab-df-convert:hover {\n",
              "      background-color: #434B5C;\n",
              "      box-shadow: 0px 1px 3px 1px rgba(0, 0, 0, 0.15);\n",
              "      filter: drop-shadow(0px 1px 2px rgba(0, 0, 0, 0.3));\n",
              "      fill: #FFFFFF;\n",
              "    }\n",
              "  </style>\n",
              "\n",
              "      <script>\n",
              "        const buttonEl =\n",
              "          document.querySelector('#df-9cf0541d-6108-456e-8a8d-8975981fa018 button.colab-df-convert');\n",
              "        buttonEl.style.display =\n",
              "          google.colab.kernel.accessAllowed ? 'block' : 'none';\n",
              "\n",
              "        async function convertToInteractive(key) {\n",
              "          const element = document.querySelector('#df-9cf0541d-6108-456e-8a8d-8975981fa018');\n",
              "          const dataTable =\n",
              "            await google.colab.kernel.invokeFunction('convertToInteractive',\n",
              "                                                     [key], {});\n",
              "          if (!dataTable) return;\n",
              "\n",
              "          const docLinkHtml = 'Like what you see? Visit the ' +\n",
              "            '<a target=\"_blank\" href=https://colab.research.google.com/notebooks/data_table.ipynb>data table notebook</a>'\n",
              "            + ' to learn more about interactive tables.';\n",
              "          element.innerHTML = '';\n",
              "          dataTable['output_type'] = 'display_data';\n",
              "          await google.colab.output.renderOutput(dataTable, element);\n",
              "          const docLink = document.createElement('div');\n",
              "          docLink.innerHTML = docLinkHtml;\n",
              "          element.appendChild(docLink);\n",
              "        }\n",
              "      </script>\n",
              "    </div>\n",
              "  </div>\n",
              "  "
            ]
          },
          "metadata": {},
          "execution_count": 161
        }
      ]
    },
    {
      "cell_type": "code",
      "source": [
        "x_train.head(3)"
      ],
      "metadata": {
        "id": "y_jXUylN3i_H",
        "colab": {
          "base_uri": "https://localhost:8080/",
          "height": 207
        },
        "outputId": "d092d8ea-e773-414b-cfca-e1ad86dd0922"
      },
      "execution_count": 162,
      "outputs": [
        {
          "output_type": "execute_result",
          "data": {
            "text/plain": [
              "       flag  gender  house_value  Age  marriage  occupation  Mortgage  region  \\\n",
              "18980     2       1       144425    3         0           3         2       1   \n",
              "13589     1       2       261327    5         0           1         1       4   \n",
              "5487      2       2       172132    3         0           2         1       4   \n",
              "\n",
              "       car_probability  family_income  \n",
              "18980                6              2  \n",
              "13589                1              2  \n",
              "5487                 3              7  "
            ],
            "text/html": [
              "\n",
              "  <div id=\"df-b159f261-c699-4a01-9c71-bfd5d521a66b\">\n",
              "    <div class=\"colab-df-container\">\n",
              "      <div>\n",
              "<style scoped>\n",
              "    .dataframe tbody tr th:only-of-type {\n",
              "        vertical-align: middle;\n",
              "    }\n",
              "\n",
              "    .dataframe tbody tr th {\n",
              "        vertical-align: top;\n",
              "    }\n",
              "\n",
              "    .dataframe thead th {\n",
              "        text-align: right;\n",
              "    }\n",
              "</style>\n",
              "<table border=\"1\" class=\"dataframe\">\n",
              "  <thead>\n",
              "    <tr style=\"text-align: right;\">\n",
              "      <th></th>\n",
              "      <th>flag</th>\n",
              "      <th>gender</th>\n",
              "      <th>house_value</th>\n",
              "      <th>Age</th>\n",
              "      <th>marriage</th>\n",
              "      <th>occupation</th>\n",
              "      <th>Mortgage</th>\n",
              "      <th>region</th>\n",
              "      <th>car_probability</th>\n",
              "      <th>family_income</th>\n",
              "    </tr>\n",
              "  </thead>\n",
              "  <tbody>\n",
              "    <tr>\n",
              "      <th>18980</th>\n",
              "      <td>2</td>\n",
              "      <td>1</td>\n",
              "      <td>144425</td>\n",
              "      <td>3</td>\n",
              "      <td>0</td>\n",
              "      <td>3</td>\n",
              "      <td>2</td>\n",
              "      <td>1</td>\n",
              "      <td>6</td>\n",
              "      <td>2</td>\n",
              "    </tr>\n",
              "    <tr>\n",
              "      <th>13589</th>\n",
              "      <td>1</td>\n",
              "      <td>2</td>\n",
              "      <td>261327</td>\n",
              "      <td>5</td>\n",
              "      <td>0</td>\n",
              "      <td>1</td>\n",
              "      <td>1</td>\n",
              "      <td>4</td>\n",
              "      <td>1</td>\n",
              "      <td>2</td>\n",
              "    </tr>\n",
              "    <tr>\n",
              "      <th>5487</th>\n",
              "      <td>2</td>\n",
              "      <td>2</td>\n",
              "      <td>172132</td>\n",
              "      <td>3</td>\n",
              "      <td>0</td>\n",
              "      <td>2</td>\n",
              "      <td>1</td>\n",
              "      <td>4</td>\n",
              "      <td>3</td>\n",
              "      <td>7</td>\n",
              "    </tr>\n",
              "  </tbody>\n",
              "</table>\n",
              "</div>\n",
              "      <button class=\"colab-df-convert\" onclick=\"convertToInteractive('df-b159f261-c699-4a01-9c71-bfd5d521a66b')\"\n",
              "              title=\"Convert this dataframe to an interactive table.\"\n",
              "              style=\"display:none;\">\n",
              "        \n",
              "  <svg xmlns=\"http://www.w3.org/2000/svg\" height=\"24px\"viewBox=\"0 0 24 24\"\n",
              "       width=\"24px\">\n",
              "    <path d=\"M0 0h24v24H0V0z\" fill=\"none\"/>\n",
              "    <path d=\"M18.56 5.44l.94 2.06.94-2.06 2.06-.94-2.06-.94-.94-2.06-.94 2.06-2.06.94zm-11 1L8.5 8.5l.94-2.06 2.06-.94-2.06-.94L8.5 2.5l-.94 2.06-2.06.94zm10 10l.94 2.06.94-2.06 2.06-.94-2.06-.94-.94-2.06-.94 2.06-2.06.94z\"/><path d=\"M17.41 7.96l-1.37-1.37c-.4-.4-.92-.59-1.43-.59-.52 0-1.04.2-1.43.59L10.3 9.45l-7.72 7.72c-.78.78-.78 2.05 0 2.83L4 21.41c.39.39.9.59 1.41.59.51 0 1.02-.2 1.41-.59l7.78-7.78 2.81-2.81c.8-.78.8-2.07 0-2.86zM5.41 20L4 18.59l7.72-7.72 1.47 1.35L5.41 20z\"/>\n",
              "  </svg>\n",
              "      </button>\n",
              "      \n",
              "  <style>\n",
              "    .colab-df-container {\n",
              "      display:flex;\n",
              "      flex-wrap:wrap;\n",
              "      gap: 12px;\n",
              "    }\n",
              "\n",
              "    .colab-df-convert {\n",
              "      background-color: #E8F0FE;\n",
              "      border: none;\n",
              "      border-radius: 50%;\n",
              "      cursor: pointer;\n",
              "      display: none;\n",
              "      fill: #1967D2;\n",
              "      height: 32px;\n",
              "      padding: 0 0 0 0;\n",
              "      width: 32px;\n",
              "    }\n",
              "\n",
              "    .colab-df-convert:hover {\n",
              "      background-color: #E2EBFA;\n",
              "      box-shadow: 0px 1px 2px rgba(60, 64, 67, 0.3), 0px 1px 3px 1px rgba(60, 64, 67, 0.15);\n",
              "      fill: #174EA6;\n",
              "    }\n",
              "\n",
              "    [theme=dark] .colab-df-convert {\n",
              "      background-color: #3B4455;\n",
              "      fill: #D2E3FC;\n",
              "    }\n",
              "\n",
              "    [theme=dark] .colab-df-convert:hover {\n",
              "      background-color: #434B5C;\n",
              "      box-shadow: 0px 1px 3px 1px rgba(0, 0, 0, 0.15);\n",
              "      filter: drop-shadow(0px 1px 2px rgba(0, 0, 0, 0.3));\n",
              "      fill: #FFFFFF;\n",
              "    }\n",
              "  </style>\n",
              "\n",
              "      <script>\n",
              "        const buttonEl =\n",
              "          document.querySelector('#df-b159f261-c699-4a01-9c71-bfd5d521a66b button.colab-df-convert');\n",
              "        buttonEl.style.display =\n",
              "          google.colab.kernel.accessAllowed ? 'block' : 'none';\n",
              "\n",
              "        async function convertToInteractive(key) {\n",
              "          const element = document.querySelector('#df-b159f261-c699-4a01-9c71-bfd5d521a66b');\n",
              "          const dataTable =\n",
              "            await google.colab.kernel.invokeFunction('convertToInteractive',\n",
              "                                                     [key], {});\n",
              "          if (!dataTable) return;\n",
              "\n",
              "          const docLinkHtml = 'Like what you see? Visit the ' +\n",
              "            '<a target=\"_blank\" href=https://colab.research.google.com/notebooks/data_table.ipynb>data table notebook</a>'\n",
              "            + ' to learn more about interactive tables.';\n",
              "          element.innerHTML = '';\n",
              "          dataTable['output_type'] = 'display_data';\n",
              "          await google.colab.output.renderOutput(dataTable, element);\n",
              "          const docLink = document.createElement('div');\n",
              "          docLink.innerHTML = docLinkHtml;\n",
              "          element.appendChild(docLink);\n",
              "        }\n",
              "      </script>\n",
              "    </div>\n",
              "  </div>\n",
              "  "
            ]
          },
          "metadata": {},
          "execution_count": 162
        }
      ]
    },
    {
      "cell_type": "code",
      "source": [
        "y_train.head(5)"
      ],
      "metadata": {
        "id": "c422QqmzeoKy",
        "colab": {
          "base_uri": "https://localhost:8080/",
          "height": 0
        },
        "outputId": "ce59466b-c206-49de-a7f9-26e21cd2cf0f"
      },
      "execution_count": 163,
      "outputs": [
        {
          "output_type": "execute_result",
          "data": {
            "text/plain": [
              "18980    1\n",
              "13589    1\n",
              "5487     1\n",
              "2040     2\n",
              "21531    1\n",
              "Name: online, dtype: int64"
            ]
          },
          "metadata": {},
          "execution_count": 163
        }
      ]
    },
    {
      "cell_type": "markdown",
      "source": [
        "# Summarize Class Distribution"
      ],
      "metadata": {
        "id": "SZZxb_65gXJB"
      }
    },
    {
      "cell_type": "code",
      "source": [
        "print(\"Before undersampling:\")\n",
        "y_train.value_counts() # show target variable imbalance"
      ],
      "metadata": {
        "id": "6UpQYPIT3jBa",
        "colab": {
          "base_uri": "https://localhost:8080/",
          "height": 0
        },
        "outputId": "f132cf37-47fa-4a1c-b0ca-e05a02b3da60"
      },
      "execution_count": 164,
      "outputs": [
        {
          "output_type": "stream",
          "name": "stdout",
          "text": [
            "Before undersampling:\n"
          ]
        },
        {
          "output_type": "execute_result",
          "data": {
            "text/plain": [
              "1    19103\n",
              "2     8858\n",
              "Name: online, dtype: int64"
            ]
          },
          "metadata": {},
          "execution_count": 164
        }
      ]
    },
    {
      "cell_type": "markdown",
      "source": [
        "# Define under sampling strategy"
      ],
      "metadata": {
        "id": "b5LxHVKOENRR"
      }
    },
    {
      "cell_type": "code",
      "source": [
        "!pip install imblearn #libraray"
      ],
      "metadata": {
        "id": "2UKwDatp3jD9",
        "colab": {
          "base_uri": "https://localhost:8080/",
          "height": 0
        },
        "outputId": "d7b7636e-30a9-4d60-9082-b6e05f9ca016"
      },
      "execution_count": 165,
      "outputs": [
        {
          "output_type": "stream",
          "name": "stdout",
          "text": [
            "Requirement already satisfied: imblearn in /usr/local/lib/python3.7/dist-packages (0.0)\n",
            "Requirement already satisfied: imbalanced-learn in /usr/local/lib/python3.7/dist-packages (from imblearn) (0.8.1)\n",
            "Requirement already satisfied: numpy>=1.13.3 in /usr/local/lib/python3.7/dist-packages (from imbalanced-learn->imblearn) (1.21.6)\n",
            "Requirement already satisfied: scikit-learn>=0.24 in /usr/local/lib/python3.7/dist-packages (from imbalanced-learn->imblearn) (1.0.2)\n",
            "Requirement already satisfied: joblib>=0.11 in /usr/local/lib/python3.7/dist-packages (from imbalanced-learn->imblearn) (1.1.0)\n",
            "Requirement already satisfied: scipy>=0.19.1 in /usr/local/lib/python3.7/dist-packages (from imbalanced-learn->imblearn) (1.4.1)\n",
            "Requirement already satisfied: threadpoolctl>=2.0.0 in /usr/local/lib/python3.7/dist-packages (from scikit-learn>=0.24->imbalanced-learn->imblearn) (3.1.0)\n"
          ]
        }
      ]
    },
    {
      "cell_type": "code",
      "source": [
        "from imblearn.under_sampling import RandomUnderSampler "
      ],
      "metadata": {
        "id": "RS51XT9O3jGq"
      },
      "execution_count": 166,
      "outputs": []
    },
    {
      "cell_type": "code",
      "source": [
        "undersample = RandomUnderSampler(sampling_strategy='majority',random_state=4) "
      ],
      "metadata": {
        "id": "3Ey6ixcU3jJh"
      },
      "execution_count": 167,
      "outputs": []
    },
    {
      "cell_type": "markdown",
      "source": [
        "# Fit and Apply the Transform, Random State Three"
      ],
      "metadata": {
        "id": "J7b3KM9FEgwG"
      }
    },
    {
      "cell_type": "code",
      "source": [
        "x_train_under, y_train_under = undersample.fit_resample(x_train,y_train)\n",
        "x_train_under.head(3)"
      ],
      "metadata": {
        "id": "AC9q97ER3jMh",
        "colab": {
          "base_uri": "https://localhost:8080/",
          "height": 207
        },
        "outputId": "34e30e3a-8e01-4b64-958b-94823b419b48"
      },
      "execution_count": 168,
      "outputs": [
        {
          "output_type": "execute_result",
          "data": {
            "text/plain": [
              "   flag  gender  house_value  Age  marriage  occupation  Mortgage  region  \\\n",
              "0     2       1       313625    7         1           5         2       4   \n",
              "1     2       1            0    1         1           2         1       2   \n",
              "2     1       1            0    3         0           1         1       1   \n",
              "\n",
              "   car_probability  family_income  \n",
              "0                2              4  \n",
              "1                7              1  \n",
              "2                7              9  "
            ],
            "text/html": [
              "\n",
              "  <div id=\"df-8ee2ae5c-8f32-4fc5-8a13-4599c940e1e8\">\n",
              "    <div class=\"colab-df-container\">\n",
              "      <div>\n",
              "<style scoped>\n",
              "    .dataframe tbody tr th:only-of-type {\n",
              "        vertical-align: middle;\n",
              "    }\n",
              "\n",
              "    .dataframe tbody tr th {\n",
              "        vertical-align: top;\n",
              "    }\n",
              "\n",
              "    .dataframe thead th {\n",
              "        text-align: right;\n",
              "    }\n",
              "</style>\n",
              "<table border=\"1\" class=\"dataframe\">\n",
              "  <thead>\n",
              "    <tr style=\"text-align: right;\">\n",
              "      <th></th>\n",
              "      <th>flag</th>\n",
              "      <th>gender</th>\n",
              "      <th>house_value</th>\n",
              "      <th>Age</th>\n",
              "      <th>marriage</th>\n",
              "      <th>occupation</th>\n",
              "      <th>Mortgage</th>\n",
              "      <th>region</th>\n",
              "      <th>car_probability</th>\n",
              "      <th>family_income</th>\n",
              "    </tr>\n",
              "  </thead>\n",
              "  <tbody>\n",
              "    <tr>\n",
              "      <th>0</th>\n",
              "      <td>2</td>\n",
              "      <td>1</td>\n",
              "      <td>313625</td>\n",
              "      <td>7</td>\n",
              "      <td>1</td>\n",
              "      <td>5</td>\n",
              "      <td>2</td>\n",
              "      <td>4</td>\n",
              "      <td>2</td>\n",
              "      <td>4</td>\n",
              "    </tr>\n",
              "    <tr>\n",
              "      <th>1</th>\n",
              "      <td>2</td>\n",
              "      <td>1</td>\n",
              "      <td>0</td>\n",
              "      <td>1</td>\n",
              "      <td>1</td>\n",
              "      <td>2</td>\n",
              "      <td>1</td>\n",
              "      <td>2</td>\n",
              "      <td>7</td>\n",
              "      <td>1</td>\n",
              "    </tr>\n",
              "    <tr>\n",
              "      <th>2</th>\n",
              "      <td>1</td>\n",
              "      <td>1</td>\n",
              "      <td>0</td>\n",
              "      <td>3</td>\n",
              "      <td>0</td>\n",
              "      <td>1</td>\n",
              "      <td>1</td>\n",
              "      <td>1</td>\n",
              "      <td>7</td>\n",
              "      <td>9</td>\n",
              "    </tr>\n",
              "  </tbody>\n",
              "</table>\n",
              "</div>\n",
              "      <button class=\"colab-df-convert\" onclick=\"convertToInteractive('df-8ee2ae5c-8f32-4fc5-8a13-4599c940e1e8')\"\n",
              "              title=\"Convert this dataframe to an interactive table.\"\n",
              "              style=\"display:none;\">\n",
              "        \n",
              "  <svg xmlns=\"http://www.w3.org/2000/svg\" height=\"24px\"viewBox=\"0 0 24 24\"\n",
              "       width=\"24px\">\n",
              "    <path d=\"M0 0h24v24H0V0z\" fill=\"none\"/>\n",
              "    <path d=\"M18.56 5.44l.94 2.06.94-2.06 2.06-.94-2.06-.94-.94-2.06-.94 2.06-2.06.94zm-11 1L8.5 8.5l.94-2.06 2.06-.94-2.06-.94L8.5 2.5l-.94 2.06-2.06.94zm10 10l.94 2.06.94-2.06 2.06-.94-2.06-.94-.94-2.06-.94 2.06-2.06.94z\"/><path d=\"M17.41 7.96l-1.37-1.37c-.4-.4-.92-.59-1.43-.59-.52 0-1.04.2-1.43.59L10.3 9.45l-7.72 7.72c-.78.78-.78 2.05 0 2.83L4 21.41c.39.39.9.59 1.41.59.51 0 1.02-.2 1.41-.59l7.78-7.78 2.81-2.81c.8-.78.8-2.07 0-2.86zM5.41 20L4 18.59l7.72-7.72 1.47 1.35L5.41 20z\"/>\n",
              "  </svg>\n",
              "      </button>\n",
              "      \n",
              "  <style>\n",
              "    .colab-df-container {\n",
              "      display:flex;\n",
              "      flex-wrap:wrap;\n",
              "      gap: 12px;\n",
              "    }\n",
              "\n",
              "    .colab-df-convert {\n",
              "      background-color: #E8F0FE;\n",
              "      border: none;\n",
              "      border-radius: 50%;\n",
              "      cursor: pointer;\n",
              "      display: none;\n",
              "      fill: #1967D2;\n",
              "      height: 32px;\n",
              "      padding: 0 0 0 0;\n",
              "      width: 32px;\n",
              "    }\n",
              "\n",
              "    .colab-df-convert:hover {\n",
              "      background-color: #E2EBFA;\n",
              "      box-shadow: 0px 1px 2px rgba(60, 64, 67, 0.3), 0px 1px 3px 1px rgba(60, 64, 67, 0.15);\n",
              "      fill: #174EA6;\n",
              "    }\n",
              "\n",
              "    [theme=dark] .colab-df-convert {\n",
              "      background-color: #3B4455;\n",
              "      fill: #D2E3FC;\n",
              "    }\n",
              "\n",
              "    [theme=dark] .colab-df-convert:hover {\n",
              "      background-color: #434B5C;\n",
              "      box-shadow: 0px 1px 3px 1px rgba(0, 0, 0, 0.15);\n",
              "      filter: drop-shadow(0px 1px 2px rgba(0, 0, 0, 0.3));\n",
              "      fill: #FFFFFF;\n",
              "    }\n",
              "  </style>\n",
              "\n",
              "      <script>\n",
              "        const buttonEl =\n",
              "          document.querySelector('#df-8ee2ae5c-8f32-4fc5-8a13-4599c940e1e8 button.colab-df-convert');\n",
              "        buttonEl.style.display =\n",
              "          google.colab.kernel.accessAllowed ? 'block' : 'none';\n",
              "\n",
              "        async function convertToInteractive(key) {\n",
              "          const element = document.querySelector('#df-8ee2ae5c-8f32-4fc5-8a13-4599c940e1e8');\n",
              "          const dataTable =\n",
              "            await google.colab.kernel.invokeFunction('convertToInteractive',\n",
              "                                                     [key], {});\n",
              "          if (!dataTable) return;\n",
              "\n",
              "          const docLinkHtml = 'Like what you see? Visit the ' +\n",
              "            '<a target=\"_blank\" href=https://colab.research.google.com/notebooks/data_table.ipynb>data table notebook</a>'\n",
              "            + ' to learn more about interactive tables.';\n",
              "          element.innerHTML = '';\n",
              "          dataTable['output_type'] = 'display_data';\n",
              "          await google.colab.output.renderOutput(dataTable, element);\n",
              "          const docLink = document.createElement('div');\n",
              "          docLink.innerHTML = docLinkHtml;\n",
              "          element.appendChild(docLink);\n",
              "        }\n",
              "      </script>\n",
              "    </div>\n",
              "  </div>\n",
              "  "
            ]
          },
          "metadata": {},
          "execution_count": 168
        }
      ]
    },
    {
      "cell_type": "markdown",
      "source": [
        "# Recheck the target variable is balance or imbalance"
      ],
      "metadata": {
        "id": "OM4Q_cAKOMgP"
      }
    },
    {
      "cell_type": "code",
      "source": [
        "print(\"after undersampling:\")\n",
        "y_train_under.value_counts()"
      ],
      "metadata": {
        "id": "bePc_Wsc3jPO",
        "colab": {
          "base_uri": "https://localhost:8080/",
          "height": 0
        },
        "outputId": "1e72db25-02bd-4c34-98d6-2ea45a156288"
      },
      "execution_count": 169,
      "outputs": [
        {
          "output_type": "stream",
          "name": "stdout",
          "text": [
            "after undersampling:\n"
          ]
        },
        {
          "output_type": "execute_result",
          "data": {
            "text/plain": [
              "1    8858\n",
              "2    8858\n",
              "Name: online, dtype: int64"
            ]
          },
          "metadata": {},
          "execution_count": 169
        }
      ]
    },
    {
      "cell_type": "code",
      "source": [
        "print(y)"
      ],
      "metadata": {
        "id": "8lU6tl3sbd9V",
        "colab": {
          "base_uri": "https://localhost:8080/",
          "height": 0
        },
        "outputId": "bd692d3d-60ee-449a-9775-b764d0ea56ae"
      },
      "execution_count": 170,
      "outputs": [
        {
          "output_type": "stream",
          "name": "stdout",
          "text": [
            "0        2\n",
            "1        2\n",
            "2        1\n",
            "3        1\n",
            "4        1\n",
            "        ..\n",
            "39995    1\n",
            "39996    2\n",
            "39997    1\n",
            "39998    1\n",
            "39999    1\n",
            "Name: online, Length: 39945, dtype: int64\n"
          ]
        }
      ]
    },
    {
      "cell_type": "code",
      "source": [
        "y_train = y_train.astype('float')\n"
      ],
      "metadata": {
        "id": "9BJ1LMhuc5lv"
      },
      "execution_count": 171,
      "outputs": []
    },
    {
      "cell_type": "code",
      "source": [
        "y_train\n"
      ],
      "metadata": {
        "id": "VoMVmiBQdO1o",
        "colab": {
          "base_uri": "https://localhost:8080/",
          "height": 0
        },
        "outputId": "0224e369-3575-4e43-90da-9c4233272c8f"
      },
      "execution_count": 172,
      "outputs": [
        {
          "output_type": "execute_result",
          "data": {
            "text/plain": [
              "18980    1.0\n",
              "13589    1.0\n",
              "5487     1.0\n",
              "2040     2.0\n",
              "21531    1.0\n",
              "        ... \n",
              "23367    1.0\n",
              "11866    1.0\n",
              "27089    1.0\n",
              "8366     1.0\n",
              "17544    1.0\n",
              "Name: online, Length: 27961, dtype: float64"
            ]
          },
          "metadata": {},
          "execution_count": 172
        }
      ]
    },
    {
      "cell_type": "markdown",
      "source": [
        "# Modelling "
      ],
      "metadata": {
        "id": "xbk1M8z246FA"
      }
    },
    {
      "cell_type": "code",
      "source": [
        "from sklearn.neighbors import KNeighborsClassifier\n",
        "from sklearn.linear_model import LogisticRegression\n",
        "from sklearn.naive_bayes import GaussianNB\n",
        "from sklearn.ensemble import RandomForestClassifier\n",
        "from sklearn.metrics import classification_report,confusion_matrix,accuracy_score\n",
        "from sklearn import metrics"
      ],
      "metadata": {
        "id": "IBH0wRAmTpb8"
      },
      "execution_count": 173,
      "outputs": []
    },
    {
      "cell_type": "code",
      "source": [
        "from sklearn.metrics import classification_report,confusion_matrix,accuracy_score"
      ],
      "metadata": {
        "id": "OL6D1KqZTpel"
      },
      "execution_count": 174,
      "outputs": []
    },
    {
      "cell_type": "code",
      "source": [
        "from sklearn.linear_model import LogisticRegression\n",
        "model = LogisticRegression(random_state=0)\n",
        "model.fit(x_train_under,y_train_under)\n"
      ],
      "metadata": {
        "id": "Zdc1-z72TphX",
        "colab": {
          "base_uri": "https://localhost:8080/",
          "height": 0
        },
        "outputId": "41bbba06-5075-4ed2-873b-ea8276776ae5"
      },
      "execution_count": 175,
      "outputs": [
        {
          "output_type": "execute_result",
          "data": {
            "text/plain": [
              "LogisticRegression(random_state=0)"
            ]
          },
          "metadata": {},
          "execution_count": 175
        }
      ]
    },
    {
      "cell_type": "code",
      "source": [
        "predict_logistic=model.predict(x_test)\n",
        "predict_logistic"
      ],
      "metadata": {
        "id": "WOl1jFD6e7DV",
        "colab": {
          "base_uri": "https://localhost:8080/",
          "height": 0
        },
        "outputId": "aac5d012-a8a6-4c23-80d8-8e971b0f8078"
      },
      "execution_count": 176,
      "outputs": [
        {
          "output_type": "execute_result",
          "data": {
            "text/plain": [
              "array([1, 1, 1, ..., 1, 1, 1])"
            ]
          },
          "metadata": {},
          "execution_count": 176
        }
      ]
    },
    {
      "cell_type": "code",
      "source": [
        "y_test"
      ],
      "metadata": {
        "id": "D7ftgxleTpkF",
        "colab": {
          "base_uri": "https://localhost:8080/",
          "height": 0
        },
        "outputId": "41b54b70-d514-43a3-8beb-ba8f7e7259ac"
      },
      "execution_count": 177,
      "outputs": [
        {
          "output_type": "execute_result",
          "data": {
            "text/plain": [
              "37592    1\n",
              "7713     1\n",
              "10464    1\n",
              "35632    1\n",
              "23664    1\n",
              "        ..\n",
              "34354    1\n",
              "15053    1\n",
              "9408     1\n",
              "19429    1\n",
              "21402    1\n",
              "Name: online, Length: 11984, dtype: int64"
            ]
          },
          "metadata": {},
          "execution_count": 177
        }
      ]
    },
    {
      "cell_type": "code",
      "source": [
        "cf_matrix_logistic = confusion_matrix(y_test,predict_logistic)\n",
        "logistic_acc = accuracy_score(y_test,predict_logistic)*100\n",
        "print(\"accuracy of Logistic Regression:\",logistic_acc)"
      ],
      "metadata": {
        "id": "or1laKN4Tpm8",
        "colab": {
          "base_uri": "https://localhost:8080/",
          "height": 0
        },
        "outputId": "530a977f-6e62-41e6-cba8-f2a1e89b7de0"
      },
      "execution_count": 178,
      "outputs": [
        {
          "output_type": "stream",
          "name": "stdout",
          "text": [
            "accuracy of Logistic Regression: 67.06441922563417\n"
          ]
        }
      ]
    },
    {
      "cell_type": "code",
      "source": [
        "from sklearn.ensemble import RandomForestClassifier\n",
        "RFC = RandomForestClassifier()\n",
        "RFC.fit(x_train_under,y_train_under)\n",
        "pred_RFC=RFC.predict(x_test)\n",
        "RFC_acc = accuracy_score(y_test,pred_RFC)*100\n",
        "print(\"accuracy of RFC:\",RFC_acc)"
      ],
      "metadata": {
        "id": "Uf5JGNtQTpvO",
        "colab": {
          "base_uri": "https://localhost:8080/",
          "height": 0
        },
        "outputId": "d1b2ce3b-4619-412f-f7e9-f59dfb4a4aee"
      },
      "execution_count": 179,
      "outputs": [
        {
          "output_type": "stream",
          "name": "stdout",
          "text": [
            "accuracy of RFC: 65.52903871829105\n"
          ]
        }
      ]
    },
    {
      "cell_type": "code",
      "source": [
        "from sklearn.naive_bayes import GaussianNB\n",
        "GNB=GaussianNB()\n",
        "GNB.fit(x_train_under,y_train_under)\n",
        "pred_GNB=GNB.predict(x_test)\n",
        "GNB_acc = accuracy_score(y_test,pred_GNB)*100\n",
        "print(\"accuracy of GNB :\", GNB_acc)"
      ],
      "metadata": {
        "id": "LVhxrIwV8by0",
        "colab": {
          "base_uri": "https://localhost:8080/",
          "height": 0
        },
        "outputId": "c8d626bc-d4a4-4147-80a9-141e028409f9"
      },
      "execution_count": 180,
      "outputs": [
        {
          "output_type": "stream",
          "name": "stdout",
          "text": [
            "accuracy of GNB : 42.523364485981304\n"
          ]
        }
      ]
    },
    {
      "cell_type": "code",
      "source": [
        "from sklearn.neighbors import KNeighborsClassifier\n",
        "knn=KNeighborsClassifier()\n",
        "knn.fit(x_train_under,y_train_under)\n",
        "pred_k=knn.predict(x_test)\n",
        "knn_acc = accuracy_score(y_test,pred_k)*100\n",
        "print(\"accuracy of KNN :\", knn_acc)"
      ],
      "metadata": {
        "id": "9RQjZ41h8b1k",
        "colab": {
          "base_uri": "https://localhost:8080/",
          "height": 0
        },
        "outputId": "62eeb921-6dcd-4990-a5c2-9dafb4daecca"
      },
      "execution_count": 181,
      "outputs": [
        {
          "output_type": "stream",
          "name": "stdout",
          "text": [
            "accuracy of KNN : 56.78404539385847\n"
          ]
        }
      ]
    },
    {
      "cell_type": "code",
      "source": [
        "labels = [\"Logistic Regression\",\"KNN\",\"Naive Bayes\",\"random forest\"]\n",
        "x = [logistic_acc,knn_acc,GNB_acc,RFC_acc]\n",
        "eval_frame = pd.DataFrame()\n",
        "eval_frame['Model'] = labels\n",
        "eval_frame['train_test_split'] = x\n",
        "eval_frame"
      ],
      "metadata": {
        "colab": {
          "base_uri": "https://localhost:8080/",
          "height": 175
        },
        "id": "urixD2FJiZii",
        "outputId": "8480d4fb-2e37-44bd-9fbe-aa6fab2187c0"
      },
      "execution_count": 182,
      "outputs": [
        {
          "output_type": "execute_result",
          "data": {
            "text/plain": [
              "                 Model  train_test_split\n",
              "0  Logistic Regression         67.064419\n",
              "1                  KNN         56.784045\n",
              "2          Naive Bayes         42.523364\n",
              "3        random forest         65.529039"
            ],
            "text/html": [
              "\n",
              "  <div id=\"df-3f1133d4-8cf5-4121-ba1c-6d48f31049e7\">\n",
              "    <div class=\"colab-df-container\">\n",
              "      <div>\n",
              "<style scoped>\n",
              "    .dataframe tbody tr th:only-of-type {\n",
              "        vertical-align: middle;\n",
              "    }\n",
              "\n",
              "    .dataframe tbody tr th {\n",
              "        vertical-align: top;\n",
              "    }\n",
              "\n",
              "    .dataframe thead th {\n",
              "        text-align: right;\n",
              "    }\n",
              "</style>\n",
              "<table border=\"1\" class=\"dataframe\">\n",
              "  <thead>\n",
              "    <tr style=\"text-align: right;\">\n",
              "      <th></th>\n",
              "      <th>Model</th>\n",
              "      <th>train_test_split</th>\n",
              "    </tr>\n",
              "  </thead>\n",
              "  <tbody>\n",
              "    <tr>\n",
              "      <th>0</th>\n",
              "      <td>Logistic Regression</td>\n",
              "      <td>67.064419</td>\n",
              "    </tr>\n",
              "    <tr>\n",
              "      <th>1</th>\n",
              "      <td>KNN</td>\n",
              "      <td>56.784045</td>\n",
              "    </tr>\n",
              "    <tr>\n",
              "      <th>2</th>\n",
              "      <td>Naive Bayes</td>\n",
              "      <td>42.523364</td>\n",
              "    </tr>\n",
              "    <tr>\n",
              "      <th>3</th>\n",
              "      <td>random forest</td>\n",
              "      <td>65.529039</td>\n",
              "    </tr>\n",
              "  </tbody>\n",
              "</table>\n",
              "</div>\n",
              "      <button class=\"colab-df-convert\" onclick=\"convertToInteractive('df-3f1133d4-8cf5-4121-ba1c-6d48f31049e7')\"\n",
              "              title=\"Convert this dataframe to an interactive table.\"\n",
              "              style=\"display:none;\">\n",
              "        \n",
              "  <svg xmlns=\"http://www.w3.org/2000/svg\" height=\"24px\"viewBox=\"0 0 24 24\"\n",
              "       width=\"24px\">\n",
              "    <path d=\"M0 0h24v24H0V0z\" fill=\"none\"/>\n",
              "    <path d=\"M18.56 5.44l.94 2.06.94-2.06 2.06-.94-2.06-.94-.94-2.06-.94 2.06-2.06.94zm-11 1L8.5 8.5l.94-2.06 2.06-.94-2.06-.94L8.5 2.5l-.94 2.06-2.06.94zm10 10l.94 2.06.94-2.06 2.06-.94-2.06-.94-.94-2.06-.94 2.06-2.06.94z\"/><path d=\"M17.41 7.96l-1.37-1.37c-.4-.4-.92-.59-1.43-.59-.52 0-1.04.2-1.43.59L10.3 9.45l-7.72 7.72c-.78.78-.78 2.05 0 2.83L4 21.41c.39.39.9.59 1.41.59.51 0 1.02-.2 1.41-.59l7.78-7.78 2.81-2.81c.8-.78.8-2.07 0-2.86zM5.41 20L4 18.59l7.72-7.72 1.47 1.35L5.41 20z\"/>\n",
              "  </svg>\n",
              "      </button>\n",
              "      \n",
              "  <style>\n",
              "    .colab-df-container {\n",
              "      display:flex;\n",
              "      flex-wrap:wrap;\n",
              "      gap: 12px;\n",
              "    }\n",
              "\n",
              "    .colab-df-convert {\n",
              "      background-color: #E8F0FE;\n",
              "      border: none;\n",
              "      border-radius: 50%;\n",
              "      cursor: pointer;\n",
              "      display: none;\n",
              "      fill: #1967D2;\n",
              "      height: 32px;\n",
              "      padding: 0 0 0 0;\n",
              "      width: 32px;\n",
              "    }\n",
              "\n",
              "    .colab-df-convert:hover {\n",
              "      background-color: #E2EBFA;\n",
              "      box-shadow: 0px 1px 2px rgba(60, 64, 67, 0.3), 0px 1px 3px 1px rgba(60, 64, 67, 0.15);\n",
              "      fill: #174EA6;\n",
              "    }\n",
              "\n",
              "    [theme=dark] .colab-df-convert {\n",
              "      background-color: #3B4455;\n",
              "      fill: #D2E3FC;\n",
              "    }\n",
              "\n",
              "    [theme=dark] .colab-df-convert:hover {\n",
              "      background-color: #434B5C;\n",
              "      box-shadow: 0px 1px 3px 1px rgba(0, 0, 0, 0.15);\n",
              "      filter: drop-shadow(0px 1px 2px rgba(0, 0, 0, 0.3));\n",
              "      fill: #FFFFFF;\n",
              "    }\n",
              "  </style>\n",
              "\n",
              "      <script>\n",
              "        const buttonEl =\n",
              "          document.querySelector('#df-3f1133d4-8cf5-4121-ba1c-6d48f31049e7 button.colab-df-convert');\n",
              "        buttonEl.style.display =\n",
              "          google.colab.kernel.accessAllowed ? 'block' : 'none';\n",
              "\n",
              "        async function convertToInteractive(key) {\n",
              "          const element = document.querySelector('#df-3f1133d4-8cf5-4121-ba1c-6d48f31049e7');\n",
              "          const dataTable =\n",
              "            await google.colab.kernel.invokeFunction('convertToInteractive',\n",
              "                                                     [key], {});\n",
              "          if (!dataTable) return;\n",
              "\n",
              "          const docLinkHtml = 'Like what you see? Visit the ' +\n",
              "            '<a target=\"_blank\" href=https://colab.research.google.com/notebooks/data_table.ipynb>data table notebook</a>'\n",
              "            + ' to learn more about interactive tables.';\n",
              "          element.innerHTML = '';\n",
              "          dataTable['output_type'] = 'display_data';\n",
              "          await google.colab.output.renderOutput(dataTable, element);\n",
              "          const docLink = document.createElement('div');\n",
              "          docLink.innerHTML = docLinkHtml;\n",
              "          element.appendChild(docLink);\n",
              "        }\n",
              "      </script>\n",
              "    </div>\n",
              "  </div>\n",
              "  "
            ]
          },
          "metadata": {},
          "execution_count": 182
        }
      ]
    },
    {
      "cell_type": "markdown",
      "source": [
        "# K-FOLDS CROSS VALIDATION"
      ],
      "metadata": {
        "id": "wB8Xb4EvDii1"
      }
    },
    {
      "cell_type": "code",
      "source": [
        "from sklearn.model_selection import KFold"
      ],
      "metadata": {
        "id": "6oN8Lt5pDmJa"
      },
      "execution_count": 183,
      "outputs": []
    },
    {
      "cell_type": "code",
      "source": [
        "kfold = KFold(n_splits = 5)"
      ],
      "metadata": {
        "id": "cOBv0VJrDmxp"
      },
      "execution_count": 184,
      "outputs": []
    },
    {
      "cell_type": "code",
      "source": [
        "#Modeling step test differents algorithms\n",
        "\n",
        "classifiers1 = []\n",
        "\n",
        "classifiers1.append(KNeighborsClassifier())\n",
        "classifiers1.append(LogisticRegression())\n",
        "classifiers1.append(GaussianNB())\n",
        "classifiers1.append(RandomForestClassifier())"
      ],
      "metadata": {
        "id": "oSXpnqeTDmuQ"
      },
      "execution_count": 185,
      "outputs": []
    },
    {
      "cell_type": "code",
      "source": [
        "from sklearn.model_selection import cross_val_score"
      ],
      "metadata": {
        "id": "agpqvT8CDmrD"
      },
      "execution_count": 186,
      "outputs": []
    },
    {
      "cell_type": "code",
      "source": [
        "accuracy_results1 = []\n",
        "for a in classifiers1:\n",
        "  accuracy_results1.append(cross_val_score(a, x_train_under, y_train_under, scoring = \"accuracy\", cv = kfold))#Here a is 1st model knn"
      ],
      "metadata": {
        "id": "d3STIzbVDmoP"
      },
      "execution_count": 187,
      "outputs": []
    },
    {
      "cell_type": "code",
      "source": [
        "#folds corresponding to models\n",
        "accuracy_results1"
      ],
      "metadata": {
        "colab": {
          "base_uri": "https://localhost:8080/",
          "height": 0
        },
        "id": "2IOGk5eWDmmB",
        "outputId": "dccd24e3-10c2-4813-9562-5dec029be253"
      },
      "execution_count": 188,
      "outputs": [
        {
          "output_type": "execute_result",
          "data": {
            "text/plain": [
              "[array([0.38233634, 0.38893593, 0.55151002, 0.33107536, 0.34575219]),\n",
              " array([0.        , 0.09060119, 0.55066328, 0.00282247, 0.00366921]),\n",
              " array([0.09057562, 0.09596387, 0.54784081, 0.        , 0.        ]),\n",
              " array([0.49689616, 0.48151284, 0.63815975, 0.4552639 , 0.44905447])]"
            ]
          },
          "metadata": {},
          "execution_count": 188
        }
      ]
    },
    {
      "cell_type": "code",
      "source": [
        "accuracy_means1 = []\n",
        "for e in accuracy_results1:\n",
        "  accuracy_means1.append(e.mean()*100)"
      ],
      "metadata": {
        "id": "84BsukFBDmi7"
      },
      "execution_count": 189,
      "outputs": []
    },
    {
      "cell_type": "code",
      "source": [
        "accuracy_means1"
      ],
      "metadata": {
        "colab": {
          "base_uri": "https://localhost:8080/",
          "height": 0
        },
        "id": "Tx1SRRlBDmgK",
        "outputId": "3709a95c-b79a-421d-d0e1-0ba5b85c7f39"
      },
      "execution_count": 190,
      "outputs": [
        {
          "output_type": "execute_result",
          "data": {
            "text/plain": [
              "[39.99219680303068, 12.955122777307365, 14.687606121248841, 50.41774261268682]"
            ]
          },
          "metadata": {},
          "execution_count": 190
        }
      ]
    },
    {
      "cell_type": "code",
      "source": [
        "eval_frame['kfolds_5'] = accuracy_means1\n",
        "eval_frame"
      ],
      "metadata": {
        "colab": {
          "base_uri": "https://localhost:8080/",
          "height": 175
        },
        "id": "K6naahNLDmUN",
        "outputId": "3f48eb7d-8d34-478c-ff6e-3375ee68a4ee"
      },
      "execution_count": 191,
      "outputs": [
        {
          "output_type": "execute_result",
          "data": {
            "text/plain": [
              "                 Model  train_test_split   kfolds_5\n",
              "0  Logistic Regression         67.064419  39.992197\n",
              "1                  KNN         56.784045  12.955123\n",
              "2          Naive Bayes         42.523364  14.687606\n",
              "3        random forest         65.529039  50.417743"
            ],
            "text/html": [
              "\n",
              "  <div id=\"df-f918c3e1-5ee3-4580-b315-09cee8644c02\">\n",
              "    <div class=\"colab-df-container\">\n",
              "      <div>\n",
              "<style scoped>\n",
              "    .dataframe tbody tr th:only-of-type {\n",
              "        vertical-align: middle;\n",
              "    }\n",
              "\n",
              "    .dataframe tbody tr th {\n",
              "        vertical-align: top;\n",
              "    }\n",
              "\n",
              "    .dataframe thead th {\n",
              "        text-align: right;\n",
              "    }\n",
              "</style>\n",
              "<table border=\"1\" class=\"dataframe\">\n",
              "  <thead>\n",
              "    <tr style=\"text-align: right;\">\n",
              "      <th></th>\n",
              "      <th>Model</th>\n",
              "      <th>train_test_split</th>\n",
              "      <th>kfolds_5</th>\n",
              "    </tr>\n",
              "  </thead>\n",
              "  <tbody>\n",
              "    <tr>\n",
              "      <th>0</th>\n",
              "      <td>Logistic Regression</td>\n",
              "      <td>67.064419</td>\n",
              "      <td>39.992197</td>\n",
              "    </tr>\n",
              "    <tr>\n",
              "      <th>1</th>\n",
              "      <td>KNN</td>\n",
              "      <td>56.784045</td>\n",
              "      <td>12.955123</td>\n",
              "    </tr>\n",
              "    <tr>\n",
              "      <th>2</th>\n",
              "      <td>Naive Bayes</td>\n",
              "      <td>42.523364</td>\n",
              "      <td>14.687606</td>\n",
              "    </tr>\n",
              "    <tr>\n",
              "      <th>3</th>\n",
              "      <td>random forest</td>\n",
              "      <td>65.529039</td>\n",
              "      <td>50.417743</td>\n",
              "    </tr>\n",
              "  </tbody>\n",
              "</table>\n",
              "</div>\n",
              "      <button class=\"colab-df-convert\" onclick=\"convertToInteractive('df-f918c3e1-5ee3-4580-b315-09cee8644c02')\"\n",
              "              title=\"Convert this dataframe to an interactive table.\"\n",
              "              style=\"display:none;\">\n",
              "        \n",
              "  <svg xmlns=\"http://www.w3.org/2000/svg\" height=\"24px\"viewBox=\"0 0 24 24\"\n",
              "       width=\"24px\">\n",
              "    <path d=\"M0 0h24v24H0V0z\" fill=\"none\"/>\n",
              "    <path d=\"M18.56 5.44l.94 2.06.94-2.06 2.06-.94-2.06-.94-.94-2.06-.94 2.06-2.06.94zm-11 1L8.5 8.5l.94-2.06 2.06-.94-2.06-.94L8.5 2.5l-.94 2.06-2.06.94zm10 10l.94 2.06.94-2.06 2.06-.94-2.06-.94-.94-2.06-.94 2.06-2.06.94z\"/><path d=\"M17.41 7.96l-1.37-1.37c-.4-.4-.92-.59-1.43-.59-.52 0-1.04.2-1.43.59L10.3 9.45l-7.72 7.72c-.78.78-.78 2.05 0 2.83L4 21.41c.39.39.9.59 1.41.59.51 0 1.02-.2 1.41-.59l7.78-7.78 2.81-2.81c.8-.78.8-2.07 0-2.86zM5.41 20L4 18.59l7.72-7.72 1.47 1.35L5.41 20z\"/>\n",
              "  </svg>\n",
              "      </button>\n",
              "      \n",
              "  <style>\n",
              "    .colab-df-container {\n",
              "      display:flex;\n",
              "      flex-wrap:wrap;\n",
              "      gap: 12px;\n",
              "    }\n",
              "\n",
              "    .colab-df-convert {\n",
              "      background-color: #E8F0FE;\n",
              "      border: none;\n",
              "      border-radius: 50%;\n",
              "      cursor: pointer;\n",
              "      display: none;\n",
              "      fill: #1967D2;\n",
              "      height: 32px;\n",
              "      padding: 0 0 0 0;\n",
              "      width: 32px;\n",
              "    }\n",
              "\n",
              "    .colab-df-convert:hover {\n",
              "      background-color: #E2EBFA;\n",
              "      box-shadow: 0px 1px 2px rgba(60, 64, 67, 0.3), 0px 1px 3px 1px rgba(60, 64, 67, 0.15);\n",
              "      fill: #174EA6;\n",
              "    }\n",
              "\n",
              "    [theme=dark] .colab-df-convert {\n",
              "      background-color: #3B4455;\n",
              "      fill: #D2E3FC;\n",
              "    }\n",
              "\n",
              "    [theme=dark] .colab-df-convert:hover {\n",
              "      background-color: #434B5C;\n",
              "      box-shadow: 0px 1px 3px 1px rgba(0, 0, 0, 0.15);\n",
              "      filter: drop-shadow(0px 1px 2px rgba(0, 0, 0, 0.3));\n",
              "      fill: #FFFFFF;\n",
              "    }\n",
              "  </style>\n",
              "\n",
              "      <script>\n",
              "        const buttonEl =\n",
              "          document.querySelector('#df-f918c3e1-5ee3-4580-b315-09cee8644c02 button.colab-df-convert');\n",
              "        buttonEl.style.display =\n",
              "          google.colab.kernel.accessAllowed ? 'block' : 'none';\n",
              "\n",
              "        async function convertToInteractive(key) {\n",
              "          const element = document.querySelector('#df-f918c3e1-5ee3-4580-b315-09cee8644c02');\n",
              "          const dataTable =\n",
              "            await google.colab.kernel.invokeFunction('convertToInteractive',\n",
              "                                                     [key], {});\n",
              "          if (!dataTable) return;\n",
              "\n",
              "          const docLinkHtml = 'Like what you see? Visit the ' +\n",
              "            '<a target=\"_blank\" href=https://colab.research.google.com/notebooks/data_table.ipynb>data table notebook</a>'\n",
              "            + ' to learn more about interactive tables.';\n",
              "          element.innerHTML = '';\n",
              "          dataTable['output_type'] = 'display_data';\n",
              "          await google.colab.output.renderOutput(dataTable, element);\n",
              "          const docLink = document.createElement('div');\n",
              "          docLink.innerHTML = docLinkHtml;\n",
              "          element.appendChild(docLink);\n",
              "        }\n",
              "      </script>\n",
              "    </div>\n",
              "  </div>\n",
              "  "
            ]
          },
          "metadata": {},
          "execution_count": 191
        }
      ]
    },
    {
      "cell_type": "markdown",
      "source": [
        "STRATIFIED K FOLD"
      ],
      "metadata": {
        "id": "CrSGAaFSEozA"
      }
    },
    {
      "cell_type": "code",
      "source": [
        "from sklearn.model_selection import StratifiedKFold"
      ],
      "metadata": {
        "id": "g5e0biOlEoat"
      },
      "execution_count": 192,
      "outputs": []
    },
    {
      "cell_type": "code",
      "source": [
        "Stratifiedkfold = StratifiedKFold(n_splits = 5)"
      ],
      "metadata": {
        "id": "OZ2oT5BtEilo"
      },
      "execution_count": 193,
      "outputs": []
    },
    {
      "cell_type": "code",
      "source": [
        "# Modeling step Test differents algorithms \n",
        "classifiers_4 = []\n",
        "classifiers_4.append(KNeighborsClassifier())\n",
        "classifiers_4.append(LogisticRegression())\n",
        "classifiers_4.append(GaussianNB())\n",
        "classifiers_4.append(RandomForestClassifier())\n",
        "accuracy_results_4 = []\n",
        "for classifier in classifiers_4 :\n",
        "    accuracy_results_4.append(cross_val_score(classifier, x_train_under,y_train_under, scoring = \"accuracy\", cv = Stratifiedkfold))\n",
        "accuracy_means_4 = []\n",
        "for accuracy_result in accuracy_results_4:\n",
        "    accuracy_means_4.append(accuracy_result.mean()*100)\n",
        "accuracy_means_4\n",
        "eval_frame['Stratifiedkfold_5']=accuracy_means_4\n",
        "eval_frame"
      ],
      "metadata": {
        "colab": {
          "base_uri": "https://localhost:8080/",
          "height": 175
        },
        "id": "W_01POwgE020",
        "outputId": "5d889e81-83e8-4cc6-d8e3-f5c58e905fa5"
      },
      "execution_count": 194,
      "outputs": [
        {
          "output_type": "execute_result",
          "data": {
            "text/plain": [
              "                 Model  train_test_split   kfolds_5  Stratifiedkfold_5\n",
              "0  Logistic Regression         67.064419  39.992197          56.463094\n",
              "1                  KNN         56.784045  12.955123          56.259879\n",
              "2          Naive Bayes         42.523364  14.687606          54.713180\n",
              "3        random forest         65.529039  50.417743          65.088076"
            ],
            "text/html": [
              "\n",
              "  <div id=\"df-42bba02b-85d4-401b-8325-99d6979baafb\">\n",
              "    <div class=\"colab-df-container\">\n",
              "      <div>\n",
              "<style scoped>\n",
              "    .dataframe tbody tr th:only-of-type {\n",
              "        vertical-align: middle;\n",
              "    }\n",
              "\n",
              "    .dataframe tbody tr th {\n",
              "        vertical-align: top;\n",
              "    }\n",
              "\n",
              "    .dataframe thead th {\n",
              "        text-align: right;\n",
              "    }\n",
              "</style>\n",
              "<table border=\"1\" class=\"dataframe\">\n",
              "  <thead>\n",
              "    <tr style=\"text-align: right;\">\n",
              "      <th></th>\n",
              "      <th>Model</th>\n",
              "      <th>train_test_split</th>\n",
              "      <th>kfolds_5</th>\n",
              "      <th>Stratifiedkfold_5</th>\n",
              "    </tr>\n",
              "  </thead>\n",
              "  <tbody>\n",
              "    <tr>\n",
              "      <th>0</th>\n",
              "      <td>Logistic Regression</td>\n",
              "      <td>67.064419</td>\n",
              "      <td>39.992197</td>\n",
              "      <td>56.463094</td>\n",
              "    </tr>\n",
              "    <tr>\n",
              "      <th>1</th>\n",
              "      <td>KNN</td>\n",
              "      <td>56.784045</td>\n",
              "      <td>12.955123</td>\n",
              "      <td>56.259879</td>\n",
              "    </tr>\n",
              "    <tr>\n",
              "      <th>2</th>\n",
              "      <td>Naive Bayes</td>\n",
              "      <td>42.523364</td>\n",
              "      <td>14.687606</td>\n",
              "      <td>54.713180</td>\n",
              "    </tr>\n",
              "    <tr>\n",
              "      <th>3</th>\n",
              "      <td>random forest</td>\n",
              "      <td>65.529039</td>\n",
              "      <td>50.417743</td>\n",
              "      <td>65.088076</td>\n",
              "    </tr>\n",
              "  </tbody>\n",
              "</table>\n",
              "</div>\n",
              "      <button class=\"colab-df-convert\" onclick=\"convertToInteractive('df-42bba02b-85d4-401b-8325-99d6979baafb')\"\n",
              "              title=\"Convert this dataframe to an interactive table.\"\n",
              "              style=\"display:none;\">\n",
              "        \n",
              "  <svg xmlns=\"http://www.w3.org/2000/svg\" height=\"24px\"viewBox=\"0 0 24 24\"\n",
              "       width=\"24px\">\n",
              "    <path d=\"M0 0h24v24H0V0z\" fill=\"none\"/>\n",
              "    <path d=\"M18.56 5.44l.94 2.06.94-2.06 2.06-.94-2.06-.94-.94-2.06-.94 2.06-2.06.94zm-11 1L8.5 8.5l.94-2.06 2.06-.94-2.06-.94L8.5 2.5l-.94 2.06-2.06.94zm10 10l.94 2.06.94-2.06 2.06-.94-2.06-.94-.94-2.06-.94 2.06-2.06.94z\"/><path d=\"M17.41 7.96l-1.37-1.37c-.4-.4-.92-.59-1.43-.59-.52 0-1.04.2-1.43.59L10.3 9.45l-7.72 7.72c-.78.78-.78 2.05 0 2.83L4 21.41c.39.39.9.59 1.41.59.51 0 1.02-.2 1.41-.59l7.78-7.78 2.81-2.81c.8-.78.8-2.07 0-2.86zM5.41 20L4 18.59l7.72-7.72 1.47 1.35L5.41 20z\"/>\n",
              "  </svg>\n",
              "      </button>\n",
              "      \n",
              "  <style>\n",
              "    .colab-df-container {\n",
              "      display:flex;\n",
              "      flex-wrap:wrap;\n",
              "      gap: 12px;\n",
              "    }\n",
              "\n",
              "    .colab-df-convert {\n",
              "      background-color: #E8F0FE;\n",
              "      border: none;\n",
              "      border-radius: 50%;\n",
              "      cursor: pointer;\n",
              "      display: none;\n",
              "      fill: #1967D2;\n",
              "      height: 32px;\n",
              "      padding: 0 0 0 0;\n",
              "      width: 32px;\n",
              "    }\n",
              "\n",
              "    .colab-df-convert:hover {\n",
              "      background-color: #E2EBFA;\n",
              "      box-shadow: 0px 1px 2px rgba(60, 64, 67, 0.3), 0px 1px 3px 1px rgba(60, 64, 67, 0.15);\n",
              "      fill: #174EA6;\n",
              "    }\n",
              "\n",
              "    [theme=dark] .colab-df-convert {\n",
              "      background-color: #3B4455;\n",
              "      fill: #D2E3FC;\n",
              "    }\n",
              "\n",
              "    [theme=dark] .colab-df-convert:hover {\n",
              "      background-color: #434B5C;\n",
              "      box-shadow: 0px 1px 3px 1px rgba(0, 0, 0, 0.15);\n",
              "      filter: drop-shadow(0px 1px 2px rgba(0, 0, 0, 0.3));\n",
              "      fill: #FFFFFF;\n",
              "    }\n",
              "  </style>\n",
              "\n",
              "      <script>\n",
              "        const buttonEl =\n",
              "          document.querySelector('#df-42bba02b-85d4-401b-8325-99d6979baafb button.colab-df-convert');\n",
              "        buttonEl.style.display =\n",
              "          google.colab.kernel.accessAllowed ? 'block' : 'none';\n",
              "\n",
              "        async function convertToInteractive(key) {\n",
              "          const element = document.querySelector('#df-42bba02b-85d4-401b-8325-99d6979baafb');\n",
              "          const dataTable =\n",
              "            await google.colab.kernel.invokeFunction('convertToInteractive',\n",
              "                                                     [key], {});\n",
              "          if (!dataTable) return;\n",
              "\n",
              "          const docLinkHtml = 'Like what you see? Visit the ' +\n",
              "            '<a target=\"_blank\" href=https://colab.research.google.com/notebooks/data_table.ipynb>data table notebook</a>'\n",
              "            + ' to learn more about interactive tables.';\n",
              "          element.innerHTML = '';\n",
              "          dataTable['output_type'] = 'display_data';\n",
              "          await google.colab.output.renderOutput(dataTable, element);\n",
              "          const docLink = document.createElement('div');\n",
              "          docLink.innerHTML = docLinkHtml;\n",
              "          element.appendChild(docLink);\n",
              "        }\n",
              "      </script>\n",
              "    </div>\n",
              "  </div>\n",
              "  "
            ]
          },
          "metadata": {},
          "execution_count": 194
        }
      ]
    },
    {
      "cell_type": "markdown",
      "source": [
        "Repeated Random Train-Test Splits"
      ],
      "metadata": {
        "id": "geOSYDPYFA9n"
      }
    },
    {
      "cell_type": "code",
      "source": [
        "from sklearn.model_selection import ShuffleSplit"
      ],
      "metadata": {
        "id": "93lBrHlvE8tu"
      },
      "execution_count": 195,
      "outputs": []
    },
    {
      "cell_type": "code",
      "source": [
        "kfold = ShuffleSplit(n_splits=5,test_size=0.3)\n",
        "# Modeling step Test differents algorithms \n",
        "classifiers_2 = []\n",
        "classifiers_2.append(KNeighborsClassifier())\n",
        "classifiers_2.append(LogisticRegression())\n",
        "classifiers_2.append(GaussianNB())\n",
        "classifiers_2.append(RandomForestClassifier())\n",
        "accuracy_results_2 = []\n",
        "for classifier in classifiers_2 :\n",
        "    accuracy_results_2.append(cross_val_score(classifier, x_train_under,y_train_under, scoring = \"accuracy\", cv = kfold))\n",
        "accuracy_means_2 = []\n",
        "for accuracy_result in accuracy_results_2:\n",
        "    accuracy_means_2.append(accuracy_result.mean()*100)\n",
        "accuracy_means_2\n",
        "eval_frame['RRTestTrainSplits_5']=accuracy_means_2\n",
        "eval_frame.round(2)"
      ],
      "metadata": {
        "id": "8apogwP_FFvN",
        "colab": {
          "base_uri": "https://localhost:8080/",
          "height": 175
        },
        "outputId": "ddb47624-a37f-4c18-fad7-14b96e0da4d0"
      },
      "execution_count": 196,
      "outputs": [
        {
          "output_type": "execute_result",
          "data": {
            "text/plain": [
              "                 Model  train_test_split  kfolds_5  Stratifiedkfold_5  \\\n",
              "0  Logistic Regression             67.06     39.99              56.46   \n",
              "1                  KNN             56.78     12.96              56.26   \n",
              "2          Naive Bayes             42.52     14.69              54.71   \n",
              "3        random forest             65.53     50.42              65.09   \n",
              "\n",
              "   RRTestTrainSplits_5  \n",
              "0                56.55  \n",
              "1                56.09  \n",
              "2                54.39  \n",
              "3                64.89  "
            ],
            "text/html": [
              "\n",
              "  <div id=\"df-d80afc16-dc7c-4d9f-9e32-f2c3b7cab979\">\n",
              "    <div class=\"colab-df-container\">\n",
              "      <div>\n",
              "<style scoped>\n",
              "    .dataframe tbody tr th:only-of-type {\n",
              "        vertical-align: middle;\n",
              "    }\n",
              "\n",
              "    .dataframe tbody tr th {\n",
              "        vertical-align: top;\n",
              "    }\n",
              "\n",
              "    .dataframe thead th {\n",
              "        text-align: right;\n",
              "    }\n",
              "</style>\n",
              "<table border=\"1\" class=\"dataframe\">\n",
              "  <thead>\n",
              "    <tr style=\"text-align: right;\">\n",
              "      <th></th>\n",
              "      <th>Model</th>\n",
              "      <th>train_test_split</th>\n",
              "      <th>kfolds_5</th>\n",
              "      <th>Stratifiedkfold_5</th>\n",
              "      <th>RRTestTrainSplits_5</th>\n",
              "    </tr>\n",
              "  </thead>\n",
              "  <tbody>\n",
              "    <tr>\n",
              "      <th>0</th>\n",
              "      <td>Logistic Regression</td>\n",
              "      <td>67.06</td>\n",
              "      <td>39.99</td>\n",
              "      <td>56.46</td>\n",
              "      <td>56.55</td>\n",
              "    </tr>\n",
              "    <tr>\n",
              "      <th>1</th>\n",
              "      <td>KNN</td>\n",
              "      <td>56.78</td>\n",
              "      <td>12.96</td>\n",
              "      <td>56.26</td>\n",
              "      <td>56.09</td>\n",
              "    </tr>\n",
              "    <tr>\n",
              "      <th>2</th>\n",
              "      <td>Naive Bayes</td>\n",
              "      <td>42.52</td>\n",
              "      <td>14.69</td>\n",
              "      <td>54.71</td>\n",
              "      <td>54.39</td>\n",
              "    </tr>\n",
              "    <tr>\n",
              "      <th>3</th>\n",
              "      <td>random forest</td>\n",
              "      <td>65.53</td>\n",
              "      <td>50.42</td>\n",
              "      <td>65.09</td>\n",
              "      <td>64.89</td>\n",
              "    </tr>\n",
              "  </tbody>\n",
              "</table>\n",
              "</div>\n",
              "      <button class=\"colab-df-convert\" onclick=\"convertToInteractive('df-d80afc16-dc7c-4d9f-9e32-f2c3b7cab979')\"\n",
              "              title=\"Convert this dataframe to an interactive table.\"\n",
              "              style=\"display:none;\">\n",
              "        \n",
              "  <svg xmlns=\"http://www.w3.org/2000/svg\" height=\"24px\"viewBox=\"0 0 24 24\"\n",
              "       width=\"24px\">\n",
              "    <path d=\"M0 0h24v24H0V0z\" fill=\"none\"/>\n",
              "    <path d=\"M18.56 5.44l.94 2.06.94-2.06 2.06-.94-2.06-.94-.94-2.06-.94 2.06-2.06.94zm-11 1L8.5 8.5l.94-2.06 2.06-.94-2.06-.94L8.5 2.5l-.94 2.06-2.06.94zm10 10l.94 2.06.94-2.06 2.06-.94-2.06-.94-.94-2.06-.94 2.06-2.06.94z\"/><path d=\"M17.41 7.96l-1.37-1.37c-.4-.4-.92-.59-1.43-.59-.52 0-1.04.2-1.43.59L10.3 9.45l-7.72 7.72c-.78.78-.78 2.05 0 2.83L4 21.41c.39.39.9.59 1.41.59.51 0 1.02-.2 1.41-.59l7.78-7.78 2.81-2.81c.8-.78.8-2.07 0-2.86zM5.41 20L4 18.59l7.72-7.72 1.47 1.35L5.41 20z\"/>\n",
              "  </svg>\n",
              "      </button>\n",
              "      \n",
              "  <style>\n",
              "    .colab-df-container {\n",
              "      display:flex;\n",
              "      flex-wrap:wrap;\n",
              "      gap: 12px;\n",
              "    }\n",
              "\n",
              "    .colab-df-convert {\n",
              "      background-color: #E8F0FE;\n",
              "      border: none;\n",
              "      border-radius: 50%;\n",
              "      cursor: pointer;\n",
              "      display: none;\n",
              "      fill: #1967D2;\n",
              "      height: 32px;\n",
              "      padding: 0 0 0 0;\n",
              "      width: 32px;\n",
              "    }\n",
              "\n",
              "    .colab-df-convert:hover {\n",
              "      background-color: #E2EBFA;\n",
              "      box-shadow: 0px 1px 2px rgba(60, 64, 67, 0.3), 0px 1px 3px 1px rgba(60, 64, 67, 0.15);\n",
              "      fill: #174EA6;\n",
              "    }\n",
              "\n",
              "    [theme=dark] .colab-df-convert {\n",
              "      background-color: #3B4455;\n",
              "      fill: #D2E3FC;\n",
              "    }\n",
              "\n",
              "    [theme=dark] .colab-df-convert:hover {\n",
              "      background-color: #434B5C;\n",
              "      box-shadow: 0px 1px 3px 1px rgba(0, 0, 0, 0.15);\n",
              "      filter: drop-shadow(0px 1px 2px rgba(0, 0, 0, 0.3));\n",
              "      fill: #FFFFFF;\n",
              "    }\n",
              "  </style>\n",
              "\n",
              "      <script>\n",
              "        const buttonEl =\n",
              "          document.querySelector('#df-d80afc16-dc7c-4d9f-9e32-f2c3b7cab979 button.colab-df-convert');\n",
              "        buttonEl.style.display =\n",
              "          google.colab.kernel.accessAllowed ? 'block' : 'none';\n",
              "\n",
              "        async function convertToInteractive(key) {\n",
              "          const element = document.querySelector('#df-d80afc16-dc7c-4d9f-9e32-f2c3b7cab979');\n",
              "          const dataTable =\n",
              "            await google.colab.kernel.invokeFunction('convertToInteractive',\n",
              "                                                     [key], {});\n",
              "          if (!dataTable) return;\n",
              "\n",
              "          const docLinkHtml = 'Like what you see? Visit the ' +\n",
              "            '<a target=\"_blank\" href=https://colab.research.google.com/notebooks/data_table.ipynb>data table notebook</a>'\n",
              "            + ' to learn more about interactive tables.';\n",
              "          element.innerHTML = '';\n",
              "          dataTable['output_type'] = 'display_data';\n",
              "          await google.colab.output.renderOutput(dataTable, element);\n",
              "          const docLink = document.createElement('div');\n",
              "          docLink.innerHTML = docLinkHtml;\n",
              "          element.appendChild(docLink);\n",
              "        }\n",
              "      </script>\n",
              "    </div>\n",
              "  </div>\n",
              "  "
            ]
          },
          "metadata": {},
          "execution_count": 196
        }
      ]
    },
    {
      "cell_type": "code",
      "source": [
        "from sklearn.metrics import confusion_matrix\n",
        "cm = confusion_matrix(y_test,pred_RFC)\n",
        "plt.figure(figsize=(10,7))\n",
        "ax=sns.heatmap(cm/np.sum(cm),annot=True,fmt='.2%',cmap=\"Blues\")\n",
        "ax.set_title('Confusion matrix corresponding to Random Forest Classifier algorithn\\n')\n",
        "ax.set_xlabel(\"\\nPredicted Value\")\n",
        "ax.set_ylabel(\"Actual Values\")\n",
        "\n",
        "## Ticket labels - list must be in alphabetical order\n",
        "ax.xaxis.set_ticklabels(['1','2'])\n",
        "ax.yaxis.set_ticklabels(['1','2'])\n",
        "\n",
        "## Display the visualization of the Confusion Matric\n",
        "#plt.savefig(\"cf_matrix_KNN.png\",bbox_inches = 'tight')\n",
        "plt.show()\n",
        "print(\"accuracy of Random Forest :\",RFC_acc)"
      ],
      "metadata": {
        "id": "B-pwHx2XFOID",
        "colab": {
          "base_uri": "https://localhost:8080/",
          "height": 502
        },
        "outputId": "a1139e55-db35-461f-cd3d-aa61396d87a0"
      },
      "execution_count": 197,
      "outputs": [
        {
          "output_type": "display_data",
          "data": {
            "text/plain": [
              "<Figure size 720x504 with 2 Axes>"
            ],
            "image/png": "[encoded data removed]"
          },
          "metadata": {
            "needs_background": "light"
          }
        },
        {
          "output_type": "stream",
          "name": "stdout",
          "text": [
            "accuracy of Random Forest : 65.52903871829105\n"
          ]
        }
      ]
    },
    {
      "cell_type": "code",
      "source": [
        "print(classification_report(y_test,pred_RFC))"
      ],
      "metadata": {
        "id": "tnh1Vjvle4Jd",
        "colab": {
          "base_uri": "https://localhost:8080/",
          "height": 0
        },
        "outputId": "bbdd92c2-acc7-4900-effb-29bc61203b86"
      },
      "execution_count": 198,
      "outputs": [
        {
          "output_type": "stream",
          "name": "stdout",
          "text": [
            "              precision    recall  f1-score   support\n",
            "\n",
            "           1       0.80      0.67      0.73      8193\n",
            "           2       0.47      0.63      0.54      3791\n",
            "\n",
            "    accuracy                           0.66     11984\n",
            "   macro avg       0.63      0.65      0.63     11984\n",
            "weighted avg       0.69      0.66      0.67     11984\n",
            "\n"
          ]
        }
      ]
    },
    {
      "cell_type": "markdown",
      "source": [
        "# 1. Find out how many customer has purchased the target product and how many do not buy their target product?"
      ],
      "metadata": {
        "id": "P2vXWkawQKtw"
      }
    },
    {
      "cell_type": "code",
      "source": [
        "color=['red','green']\n",
        "df= pd.DataFrame({'Total_flag': [19644,19566]},\n",
        "                   index=['Y', 'N'])"
      ],
      "metadata": {
        "id": "sccoh4lu8b7J"
      },
      "execution_count": 199,
      "outputs": []
    },
    {
      "cell_type": "code",
      "source": [
        "df"
      ],
      "metadata": {
        "id": "JxF7AsBe8b-K",
        "colab": {
          "base_uri": "https://localhost:8080/",
          "height": 112
        },
        "outputId": "0836f184-97f0-4560-c360-c35ba6b24052"
      },
      "execution_count": 200,
      "outputs": [
        {
          "output_type": "execute_result",
          "data": {
            "text/plain": [
              "   Total_flag\n",
              "Y       19644\n",
              "N       19566"
            ],
            "text/html": [
              "\n",
              "  <div id=\"df-2798e697-cbe1-43bf-b370-e8c077fc4a66\">\n",
              "    <div class=\"colab-df-container\">\n",
              "      <div>\n",
              "<style scoped>\n",
              "    .dataframe tbody tr th:only-of-type {\n",
              "        vertical-align: middle;\n",
              "    }\n",
              "\n",
              "    .dataframe tbody tr th {\n",
              "        vertical-align: top;\n",
              "    }\n",
              "\n",
              "    .dataframe thead th {\n",
              "        text-align: right;\n",
              "    }\n",
              "</style>\n",
              "<table border=\"1\" class=\"dataframe\">\n",
              "  <thead>\n",
              "    <tr style=\"text-align: right;\">\n",
              "      <th></th>\n",
              "      <th>Total_flag</th>\n",
              "    </tr>\n",
              "  </thead>\n",
              "  <tbody>\n",
              "    <tr>\n",
              "      <th>Y</th>\n",
              "      <td>19644</td>\n",
              "    </tr>\n",
              "    <tr>\n",
              "      <th>N</th>\n",
              "      <td>19566</td>\n",
              "    </tr>\n",
              "  </tbody>\n",
              "</table>\n",
              "</div>\n",
              "      <button class=\"colab-df-convert\" onclick=\"convertToInteractive('df-2798e697-cbe1-43bf-b370-e8c077fc4a66')\"\n",
              "              title=\"Convert this dataframe to an interactive table.\"\n",
              "              style=\"display:none;\">\n",
              "        \n",
              "  <svg xmlns=\"http://www.w3.org/2000/svg\" height=\"24px\"viewBox=\"0 0 24 24\"\n",
              "       width=\"24px\">\n",
              "    <path d=\"M0 0h24v24H0V0z\" fill=\"none\"/>\n",
              "    <path d=\"M18.56 5.44l.94 2.06.94-2.06 2.06-.94-2.06-.94-.94-2.06-.94 2.06-2.06.94zm-11 1L8.5 8.5l.94-2.06 2.06-.94-2.06-.94L8.5 2.5l-.94 2.06-2.06.94zm10 10l.94 2.06.94-2.06 2.06-.94-2.06-.94-.94-2.06-.94 2.06-2.06.94z\"/><path d=\"M17.41 7.96l-1.37-1.37c-.4-.4-.92-.59-1.43-.59-.52 0-1.04.2-1.43.59L10.3 9.45l-7.72 7.72c-.78.78-.78 2.05 0 2.83L4 21.41c.39.39.9.59 1.41.59.51 0 1.02-.2 1.41-.59l7.78-7.78 2.81-2.81c.8-.78.8-2.07 0-2.86zM5.41 20L4 18.59l7.72-7.72 1.47 1.35L5.41 20z\"/>\n",
              "  </svg>\n",
              "      </button>\n",
              "      \n",
              "  <style>\n",
              "    .colab-df-container {\n",
              "      display:flex;\n",
              "      flex-wrap:wrap;\n",
              "      gap: 12px;\n",
              "    }\n",
              "\n",
              "    .colab-df-convert {\n",
              "      background-color: #E8F0FE;\n",
              "      border: none;\n",
              "      border-radius: 50%;\n",
              "      cursor: pointer;\n",
              "      display: none;\n",
              "      fill: #1967D2;\n",
              "      height: 32px;\n",
              "      padding: 0 0 0 0;\n",
              "      width: 32px;\n",
              "    }\n",
              "\n",
              "    .colab-df-convert:hover {\n",
              "      background-color: #E2EBFA;\n",
              "      box-shadow: 0px 1px 2px rgba(60, 64, 67, 0.3), 0px 1px 3px 1px rgba(60, 64, 67, 0.15);\n",
              "      fill: #174EA6;\n",
              "    }\n",
              "\n",
              "    [theme=dark] .colab-df-convert {\n",
              "      background-color: #3B4455;\n",
              "      fill: #D2E3FC;\n",
              "    }\n",
              "\n",
              "    [theme=dark] .colab-df-convert:hover {\n",
              "      background-color: #434B5C;\n",
              "      box-shadow: 0px 1px 3px 1px rgba(0, 0, 0, 0.15);\n",
              "      filter: drop-shadow(0px 1px 2px rgba(0, 0, 0, 0.3));\n",
              "      fill: #FFFFFF;\n",
              "    }\n",
              "  </style>\n",
              "\n",
              "      <script>\n",
              "        const buttonEl =\n",
              "          document.querySelector('#df-2798e697-cbe1-43bf-b370-e8c077fc4a66 button.colab-df-convert');\n",
              "        buttonEl.style.display =\n",
              "          google.colab.kernel.accessAllowed ? 'block' : 'none';\n",
              "\n",
              "        async function convertToInteractive(key) {\n",
              "          const element = document.querySelector('#df-2798e697-cbe1-43bf-b370-e8c077fc4a66');\n",
              "          const dataTable =\n",
              "            await google.colab.kernel.invokeFunction('convertToInteractive',\n",
              "                                                     [key], {});\n",
              "          if (!dataTable) return;\n",
              "\n",
              "          const docLinkHtml = 'Like what you see? Visit the ' +\n",
              "            '<a target=\"_blank\" href=https://colab.research.google.com/notebooks/data_table.ipynb>data table notebook</a>'\n",
              "            + ' to learn more about interactive tables.';\n",
              "          element.innerHTML = '';\n",
              "          dataTable['output_type'] = 'display_data';\n",
              "          await google.colab.output.renderOutput(dataTable, element);\n",
              "          const docLink = document.createElement('div');\n",
              "          docLink.innerHTML = docLinkHtml;\n",
              "          element.appendChild(docLink);\n",
              "        }\n",
              "      </script>\n",
              "    </div>\n",
              "  </div>\n",
              "  "
            ]
          },
          "metadata": {},
          "execution_count": 200
        }
      ]
    },
    {
      "cell_type": "code",
      "source": [
        "df['Total_flag'].plot.pie(colors=color,autopct='%1.1f%%')\n",
        "plt.title('Whether the customer has bought the target product or not')\n",
        "#plt.savefig('Whether the customer has bought the target product or not.jpg')\n",
        "plt.show()"
      ],
      "metadata": {
        "id": "ZEXAOvhL8cBa",
        "colab": {
          "base_uri": "https://localhost:8080/",
          "height": 264
        },
        "outputId": "571f23c1-a780-4167-aea6-9529bdb200e1"
      },
      "execution_count": 201,
      "outputs": [
        {
          "output_type": "display_data",
          "data": {
            "text/plain": [
              "<Figure size 432x288 with 1 Axes>"
            ],
            "image/png": "[encoded data removed]"
          },
          "metadata": {}
        }
      ]
    },
    {
      "cell_type": "markdown",
      "source": [
        "In this pie chart Y shows that the percentage of customer who bought their target product and N shows that the percentage of customer who do not purchase their target products. It is clear from the pie chart that the percentage of both type customer who purchase their order product or who do not buy their products are almost same with small difference. As 50.1% customer received their order products and 49.9% do not bought their target products. So, from this percentage corresponding to both type customer its is predicted that company does not have more profit. As half of the count of total customer do not satisfy from the service of company because they do not buy their target product which they want to buy."
      ],
      "metadata": {
        "id": "uJ9_-fEPQ3Rf"
      }
    },
    {
      "cell_type": "markdown",
      "source": [
        "# 2. Find out how many consumers have online shopping experience and how many do not have online experience?"
      ],
      "metadata": {
        "id": "5bU5bZoHQ5Xb"
      }
    },
    {
      "cell_type": "code",
      "source": [
        "color=['skyblue','navy']\n",
        "df= pd.DataFrame({'Total_online': [18139,17839]},\n",
        "                   index=['Y', 'N'])"
      ],
      "metadata": {
        "id": "McxJFhtUQv2A"
      },
      "execution_count": 202,
      "outputs": []
    },
    {
      "cell_type": "code",
      "source": [
        "df"
      ],
      "metadata": {
        "id": "gqtWMR2TQvyv",
        "colab": {
          "base_uri": "https://localhost:8080/",
          "height": 112
        },
        "outputId": "295c3045-4c85-4c8a-a42d-164567c6ce7f"
      },
      "execution_count": 203,
      "outputs": [
        {
          "output_type": "execute_result",
          "data": {
            "text/plain": [
              "   Total_online\n",
              "Y         18139\n",
              "N         17839"
            ],
            "text/html": [
              "\n",
              "  <div id=\"df-4fe66353-b96d-42ff-824d-18327d225d3b\">\n",
              "    <div class=\"colab-df-container\">\n",
              "      <div>\n",
              "<style scoped>\n",
              "    .dataframe tbody tr th:only-of-type {\n",
              "        vertical-align: middle;\n",
              "    }\n",
              "\n",
              "    .dataframe tbody tr th {\n",
              "        vertical-align: top;\n",
              "    }\n",
              "\n",
              "    .dataframe thead th {\n",
              "        text-align: right;\n",
              "    }\n",
              "</style>\n",
              "<table border=\"1\" class=\"dataframe\">\n",
              "  <thead>\n",
              "    <tr style=\"text-align: right;\">\n",
              "      <th></th>\n",
              "      <th>Total_online</th>\n",
              "    </tr>\n",
              "  </thead>\n",
              "  <tbody>\n",
              "    <tr>\n",
              "      <th>Y</th>\n",
              "      <td>18139</td>\n",
              "    </tr>\n",
              "    <tr>\n",
              "      <th>N</th>\n",
              "      <td>17839</td>\n",
              "    </tr>\n",
              "  </tbody>\n",
              "</table>\n",
              "</div>\n",
              "      <button class=\"colab-df-convert\" onclick=\"convertToInteractive('df-4fe66353-b96d-42ff-824d-18327d225d3b')\"\n",
              "              title=\"Convert this dataframe to an interactive table.\"\n",
              "              style=\"display:none;\">\n",
              "        \n",
              "  <svg xmlns=\"http://www.w3.org/2000/svg\" height=\"24px\"viewBox=\"0 0 24 24\"\n",
              "       width=\"24px\">\n",
              "    <path d=\"M0 0h24v24H0V0z\" fill=\"none\"/>\n",
              "    <path d=\"M18.56 5.44l.94 2.06.94-2.06 2.06-.94-2.06-.94-.94-2.06-.94 2.06-2.06.94zm-11 1L8.5 8.5l.94-2.06 2.06-.94-2.06-.94L8.5 2.5l-.94 2.06-2.06.94zm10 10l.94 2.06.94-2.06 2.06-.94-2.06-.94-.94-2.06-.94 2.06-2.06.94z\"/><path d=\"M17.41 7.96l-1.37-1.37c-.4-.4-.92-.59-1.43-.59-.52 0-1.04.2-1.43.59L10.3 9.45l-7.72 7.72c-.78.78-.78 2.05 0 2.83L4 21.41c.39.39.9.59 1.41.59.51 0 1.02-.2 1.41-.59l7.78-7.78 2.81-2.81c.8-.78.8-2.07 0-2.86zM5.41 20L4 18.59l7.72-7.72 1.47 1.35L5.41 20z\"/>\n",
              "  </svg>\n",
              "      </button>\n",
              "      \n",
              "  <style>\n",
              "    .colab-df-container {\n",
              "      display:flex;\n",
              "      flex-wrap:wrap;\n",
              "      gap: 12px;\n",
              "    }\n",
              "\n",
              "    .colab-df-convert {\n",
              "      background-color: #E8F0FE;\n",
              "      border: none;\n",
              "      border-radius: 50%;\n",
              "      cursor: pointer;\n",
              "      display: none;\n",
              "      fill: #1967D2;\n",
              "      height: 32px;\n",
              "      padding: 0 0 0 0;\n",
              "      width: 32px;\n",
              "    }\n",
              "\n",
              "    .colab-df-convert:hover {\n",
              "      background-color: #E2EBFA;\n",
              "      box-shadow: 0px 1px 2px rgba(60, 64, 67, 0.3), 0px 1px 3px 1px rgba(60, 64, 67, 0.15);\n",
              "      fill: #174EA6;\n",
              "    }\n",
              "\n",
              "    [theme=dark] .colab-df-convert {\n",
              "      background-color: #3B4455;\n",
              "      fill: #D2E3FC;\n",
              "    }\n",
              "\n",
              "    [theme=dark] .colab-df-convert:hover {\n",
              "      background-color: #434B5C;\n",
              "      box-shadow: 0px 1px 3px 1px rgba(0, 0, 0, 0.15);\n",
              "      filter: drop-shadow(0px 1px 2px rgba(0, 0, 0, 0.3));\n",
              "      fill: #FFFFFF;\n",
              "    }\n",
              "  </style>\n",
              "\n",
              "      <script>\n",
              "        const buttonEl =\n",
              "          document.querySelector('#df-4fe66353-b96d-42ff-824d-18327d225d3b button.colab-df-convert');\n",
              "        buttonEl.style.display =\n",
              "          google.colab.kernel.accessAllowed ? 'block' : 'none';\n",
              "\n",
              "        async function convertToInteractive(key) {\n",
              "          const element = document.querySelector('#df-4fe66353-b96d-42ff-824d-18327d225d3b');\n",
              "          const dataTable =\n",
              "            await google.colab.kernel.invokeFunction('convertToInteractive',\n",
              "                                                     [key], {});\n",
              "          if (!dataTable) return;\n",
              "\n",
              "          const docLinkHtml = 'Like what you see? Visit the ' +\n",
              "            '<a target=\"_blank\" href=https://colab.research.google.com/notebooks/data_table.ipynb>data table notebook</a>'\n",
              "            + ' to learn more about interactive tables.';\n",
              "          element.innerHTML = '';\n",
              "          dataTable['output_type'] = 'display_data';\n",
              "          await google.colab.output.renderOutput(dataTable, element);\n",
              "          const docLink = document.createElement('div');\n",
              "          docLink.innerHTML = docLinkHtml;\n",
              "          element.appendChild(docLink);\n",
              "        }\n",
              "      </script>\n",
              "    </div>\n",
              "  </div>\n",
              "  "
            ]
          },
          "metadata": {},
          "execution_count": 203
        }
      ]
    },
    {
      "cell_type": "code",
      "source": [
        "df['Total_online'].plot.pie(colors=color,autopct='%1.1f%%')\n",
        "plt.title('Whether the customer has online shopping experience or not')\n",
        "#plt.savefig('Whether the customer has online shopping experience or not.jpg')\n",
        "plt.show()"
      ],
      "metadata": {
        "id": "M2yH1UX6Qvv3",
        "colab": {
          "base_uri": "https://localhost:8080/",
          "height": 264
        },
        "outputId": "1b93c831-3d8d-46ab-b2d1-643e020ea88b"
      },
      "execution_count": 204,
      "outputs": [
        {
          "output_type": "display_data",
          "data": {
            "text/plain": [
              "<Figure size 432x288 with 1 Axes>"
            ],
            "image/png": "[encoded data removed]"
          },
          "metadata": {}
        }
      ]
    },
    {
      "cell_type": "markdown",
      "source": [
        "In this dataset we find the consumers who have online shopping experience which are denoted by Y and who do not have online experience those are denoted by N by plotting the pie chart. With the help of pie chart, it is found that 50.4% customers have online shopping experience and customers with the percentage of 49.6% do not have online shopping experience in this dataset. So, the number of counts of both customers is almost equal."
      ],
      "metadata": {
        "id": "fDLkWxTFRUP_"
      }
    },
    {
      "cell_type": "markdown",
      "source": [
        "# 3. Find out total number of male and female in the dataset by descriptive analysis?"
      ],
      "metadata": {
        "id": "-Z1YeeoMRdrF"
      }
    },
    {
      "cell_type": "code",
      "source": [
        "Gender= df['gender']\n",
        "Gender.value_counts()"
      ],
      "metadata": {
        "id": "Q7qL2b-sQvtJ",
        "colab": {
          "base_uri": "https://localhost:8080/",
          "height": 0
        },
        "outputId": "5f5774fe-30a1-4921-86b3-33a48a7f6b7f"
      },
      "execution_count": 210,
      "outputs": [
        {
          "output_type": "execute_result",
          "data": {
            "text/plain": [
              "M    22019\n",
              "F    16830\n",
              "U     1151\n",
              "Name: gender, dtype: int64"
            ]
          },
          "metadata": {},
          "execution_count": 210
        }
      ]
    },
    {
      "cell_type": "code",
      "source": [
        "df['gender'].value_counts().max()"
      ],
      "metadata": {
        "id": "5ZsTaZD9Qvqo",
        "colab": {
          "base_uri": "https://localhost:8080/",
          "height": 0
        },
        "outputId": "37ae8c3d-c181-4347-e3a3-20c100f2424a"
      },
      "execution_count": 212,
      "outputs": [
        {
          "output_type": "execute_result",
          "data": {
            "text/plain": [
              "22019"
            ]
          },
          "metadata": {},
          "execution_count": 212
        }
      ]
    },
    {
      "cell_type": "code",
      "source": [
        "x=['M','F','U']\n",
        "plt.xlabel(\"gender\")\n",
        "plt.ylabel(\"count\")\n",
        "plt.title('Total count of Male & female')\n",
        "Gender.value_counts().plot(kind='bar',color='green', figsize=(7,5))\n",
        "plt.savefig('Total count of Male & female.jpg')\n",
        "plt.show()"
      ],
      "metadata": {
        "id": "U3CyAR1HQvpT",
        "colab": {
          "base_uri": "https://localhost:8080/",
          "height": 348
        },
        "outputId": "6610a5f8-9a96-4529-c413-dc071ddc8383"
      },
      "execution_count": 213,
      "outputs": [
        {
          "output_type": "display_data",
          "data": {
            "text/plain": [
              "<Figure size 504x360 with 1 Axes>"
            ],
            "image/png": "[encoded data removed]"
          },
          "metadata": {
            "needs_background": "light"
          }
        }
      ]
    },
    {
      "cell_type": "markdown",
      "source": [
        "In this bar graph, M represent male, F female and U unknowns. It is found that more male count included in sale of products as the count of male is highest (22500) as compared to other two categories female and unknown. Females have approximately (17000) count in this dataset who bought the products which are on second position. Whereas, there are some unknown values in gender attributes the count of unknown is approximately 150. Least count of gender is denoted in the category of unknown."
      ],
      "metadata": {
        "id": "ltyinffrR-ap"
      }
    },
    {
      "cell_type": "markdown",
      "source": [
        "# 4. By predictive analysis find out which type of consumers increased the sales of products married and unmarried in the dataset?"
      ],
      "metadata": {
        "id": "6bprktpKSNBz"
      }
    },
    {
      "cell_type": "code",
      "source": [
        "MARRIAGE= df['marriage']\n",
        "MARRIAGE.value_counts()"
      ],
      "metadata": {
        "id": "gYF860h2QvkW",
        "colab": {
          "base_uri": "https://localhost:8080/",
          "height": 0
        },
        "outputId": "5763c2bc-1a78-459c-c6e0-24ece4f8e3a6"
      },
      "execution_count": 214,
      "outputs": [
        {
          "output_type": "execute_result",
          "data": {
            "text/plain": [
              "Married    20891\n",
              "Single      5082\n",
              "Name: marriage, dtype: int64"
            ]
          },
          "metadata": {},
          "execution_count": 214
        }
      ]
    },
    {
      "cell_type": "code",
      "source": [
        "df['marriage'].value_counts().max()"
      ],
      "metadata": {
        "id": "6Sr-w0OjQvhI",
        "colab": {
          "base_uri": "https://localhost:8080/",
          "height": 0
        },
        "outputId": "d6b2e8f1-3ebb-42a7-bd4b-b380a6e365c5"
      },
      "execution_count": 215,
      "outputs": [
        {
          "output_type": "execute_result",
          "data": {
            "text/plain": [
              "20891"
            ]
          },
          "metadata": {},
          "execution_count": 215
        }
      ]
    },
    {
      "cell_type": "code",
      "source": [
        "x = ['married', 'single']\n",
        "plt.xlabel(\"MARRIAGE\")\n",
        "plt.ylabel(\"COUNT OF THE CUSTOMER\")\n",
        "plt.title('total count of married, unmarried & unknown customer')\n",
        "MARRIAGE.value_counts().plot(kind='bar',  color = 'blue', figsize=(7,5))\n",
        "#plt.savefig('total count of married, unmarried & unknown customer.jpg')\n",
        "plt.show()"
      ],
      "metadata": {
        "id": "pMTIjARPQvbf",
        "colab": {
          "base_uri": "https://localhost:8080/",
          "height": 378
        },
        "outputId": "a92d7f3a-8c82-4460-d705-09349a7495c6"
      },
      "execution_count": 216,
      "outputs": [
        {
          "output_type": "display_data",
          "data": {
            "text/plain": [
              "<Figure size 504x360 with 1 Axes>"
            ],
            "image/png": "[encoded data removed]"
          },
          "metadata": {
            "needs_background": "light"
          }
        }
      ]
    },
    {
      "cell_type": "markdown",
      "source": [
        "In married and unmarried bar graph it is found that more count of customers is married in this dataset that is approximately 21000 who purchased more products from the company and increased the sale of company. The count of unmarried customers in this dataset is 500 which is less as compared to married category."
      ],
      "metadata": {
        "id": "OK4VdeOpSgYB"
      }
    },
    {
      "cell_type": "markdown",
      "source": [
        "# 5. Find out how many customers have highest and lowest family income?"
      ],
      "metadata": {
        "id": "NXQIzC6kSq1s"
      }
    },
    {
      "cell_type": "code",
      "source": [
        "fam_income1= df['fam_income']\n",
        "fam_income1.value_counts()"
      ],
      "metadata": {
        "id": "LNr2otKmQvVm",
        "colab": {
          "base_uri": "https://localhost:8080/",
          "height": 0
        },
        "outputId": "ec567f70-7b37-405c-fbb6-8d83f0738d89"
      },
      "execution_count": 217,
      "outputs": [
        {
          "output_type": "execute_result",
          "data": {
            "text/plain": [
              "E    8432\n",
              "F    6641\n",
              "D    4582\n",
              "G    4224\n",
              "C    2687\n",
              "H    2498\n",
              "A    2274\n",
              "B    2169\n",
              "I    1622\n",
              "L    1617\n",
              "J    1614\n",
              "K    1487\n",
              "U     153\n",
              "Name: fam_income, dtype: int64"
            ]
          },
          "metadata": {},
          "execution_count": 217
        }
      ]
    },
    {
      "cell_type": "code",
      "source": [
        "df['fam_income'].value_counts().max()"
      ],
      "metadata": {
        "id": "LX0bLPl-QvSu",
        "colab": {
          "base_uri": "https://localhost:8080/",
          "height": 0
        },
        "outputId": "a08394de-90ee-4418-963d-7f42fac6e983"
      },
      "execution_count": 218,
      "outputs": [
        {
          "output_type": "execute_result",
          "data": {
            "text/plain": [
              "8432"
            ]
          },
          "metadata": {},
          "execution_count": 218
        }
      ]
    },
    {
      "cell_type": "code",
      "source": [
        "plt.xlabel(\"fam_income\")\n",
        "plt.ylabel(\"count\")\n",
        "plt.title('Highest & lowest fam_income of customer')\n",
        "fam_income1.value_counts().plot(kind='bar',color='skyblue', figsize=(7,5))\n",
        "#plt.savefig('Highest & lowest fam_income of customer.jpg')\n",
        "plt.show()"
      ],
      "metadata": {
        "id": "sbrFoCQjQvP2",
        "colab": {
          "base_uri": "https://localhost:8080/",
          "height": 348
        },
        "outputId": "216cc713-901b-4cff-d83a-af4ccb2be4f5"
      },
      "execution_count": 219,
      "outputs": [
        {
          "output_type": "display_data",
          "data": {
            "text/plain": [
              "<Figure size 504x360 with 1 Axes>"
            ],
            "image/png": "[encoded data removed]"
          },
          "metadata": {
            "needs_background": "light"
          }
        }
      ]
    },
    {
      "cell_type": "markdown",
      "source": [
        "From this bar graph it clear that in this dataset there are 13 levels of family income in which customers are divided. The customer who has highest income the found in level E and the count of those customers are 8400. Whereas, the customer who have least family income level they are found in the level U. The count of customer who have least family income is 200."
      ],
      "metadata": {
        "id": "0hnnERkxTOIG"
      }
    },
    {
      "cell_type": "code",
      "source": [
        ""
      ],
      "metadata": {
        "id": "1UlsbZEHQvNi"
      },
      "execution_count": 219,
      "outputs": []
    },
    {
      "cell_type": "code",
      "source": [
        ""
      ],
      "metadata": {
        "id": "ynMBwE9KQvKd"
      },
      "execution_count": 219,
      "outputs": []
    },
    {
      "cell_type": "code",
      "source": [
        ""
      ],
      "metadata": {
        "id": "ERWN6KPRQvH2"
      },
      "execution_count": 219,
      "outputs": []
    },
    {
      "cell_type": "code",
      "source": [
        ""
      ],
      "metadata": {
        "id": "NlrEcpqMQvFa"
      },
      "execution_count": 219,
      "outputs": []
    },
    {
      "cell_type": "code",
      "source": [
        ""
      ],
      "metadata": {
        "id": "mDsItB2eQvCl"
      },
      "execution_count": 219,
      "outputs": []
    },
    {
      "cell_type": "code",
      "source": [
        ""
      ],
      "metadata": {
        "id": "PrYIijqPQu__"
      },
      "execution_count": 219,
      "outputs": []
    },
    {
      "cell_type": "code",
      "source": [
        ""
      ],
      "metadata": {
        "id": "Gkt3VlHgQu9T"
      },
      "execution_count": 219,
      "outputs": []
    },
    {
      "cell_type": "code",
      "source": [
        ""
      ],
      "metadata": {
        "id": "jcNo5xgpQu6g"
      },
      "execution_count": 219,
      "outputs": []
    },
    {
      "cell_type": "code",
      "source": [
        ""
      ],
      "metadata": {
        "id": "Y8RtxPTAQu4b"
      },
      "execution_count": 219,
      "outputs": []
    },
    {
      "cell_type": "code",
      "source": [
        ""
      ],
      "metadata": {
        "id": "uqfrQzLsQuqI"
      },
      "execution_count": 219,
      "outputs": []
    }
  ]
}